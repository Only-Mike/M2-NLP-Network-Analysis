{
  "nbformat": 4,
  "nbformat_minor": 0,
  "metadata": {
    "colab": {
      "provenance": [],
      "authorship_tag": "ABX9TyMSJX9KE2lvydhK3KWf8e+l",
      "include_colab_link": true
    },
    "kernelspec": {
      "name": "python3",
      "display_name": "Python 3"
    },
    "language_info": {
      "name": "python"
    }
  },
  "cells": [
    {
      "cell_type": "markdown",
      "metadata": {
        "id": "view-in-github",
        "colab_type": "text"
      },
      "source": [
        "<a href=\"https://colab.research.google.com/github/Only-Mike/M2-NLP-Network-Analysis/blob/main/NLP_SC_Networks.ipynb\" target=\"_parent\"><img src=\"https://colab.research.google.com/assets/colab-badge.svg\" alt=\"Open In Colab\"/></a>"
      ]
    },
    {
      "cell_type": "markdown",
      "source": [
        "\n",
        "\n",
        "---\n",
        "\n"
      ],
      "metadata": {
        "id": "_ck7MODn0YdB"
      }
    },
    {
      "cell_type": "code",
      "source": [
        "#Installing preprocessor to celan our text\n",
        "!pip install tweet-preprocessor -q\n",
        "\n",
        "# Installing Gensim and PyLDAvis\n",
        "!pip install -qq -U gensim\n",
        "!pip install -qq pyLDAvis\n",
        "\n",
        "# explainability (why did the model say it's related to this author)\n",
        "!pip install eli5"
      ],
      "metadata": {
        "colab": {
          "base_uri": "https://localhost:8080/"
        },
        "id": "qKjsPBmk0MLf",
        "outputId": "3219852b-1f80-4b94-cc4f-5e3de64c51c1"
      },
      "execution_count": 1,
      "outputs": [
        {
          "output_type": "stream",
          "name": "stdout",
          "text": [
            "Looking in indexes: https://pypi.org/simple, https://us-python.pkg.dev/colab-wheels/public/simple/\n",
            "Requirement already satisfied: eli5 in /usr/local/lib/python3.7/dist-packages (0.13.0)\n",
            "Requirement already satisfied: jinja2>=3.0.0 in /usr/local/lib/python3.7/dist-packages (from eli5) (3.1.2)\n",
            "Requirement already satisfied: numpy>=1.9.0 in /usr/local/lib/python3.7/dist-packages (from eli5) (1.21.6)\n",
            "Requirement already satisfied: tabulate>=0.7.7 in /usr/local/lib/python3.7/dist-packages (from eli5) (0.8.10)\n",
            "Requirement already satisfied: six in /usr/local/lib/python3.7/dist-packages (from eli5) (1.15.0)\n",
            "Requirement already satisfied: scikit-learn>=0.20 in /usr/local/lib/python3.7/dist-packages (from eli5) (1.0.2)\n",
            "Requirement already satisfied: graphviz in /usr/local/lib/python3.7/dist-packages (from eli5) (0.10.1)\n",
            "Requirement already satisfied: scipy in /usr/local/lib/python3.7/dist-packages (from eli5) (1.7.3)\n",
            "Requirement already satisfied: attrs>17.1.0 in /usr/local/lib/python3.7/dist-packages (from eli5) (22.1.0)\n",
            "Requirement already satisfied: MarkupSafe>=2.0 in /usr/local/lib/python3.7/dist-packages (from jinja2>=3.0.0->eli5) (2.0.1)\n",
            "Requirement already satisfied: threadpoolctl>=2.0.0 in /usr/local/lib/python3.7/dist-packages (from scikit-learn>=0.20->eli5) (3.1.0)\n",
            "Requirement already satisfied: joblib>=0.11 in /usr/local/lib/python3.7/dist-packages (from scikit-learn>=0.20->eli5) (1.2.0)\n"
          ]
        }
      ]
    },
    {
      "cell_type": "code",
      "source": [
        "import pandas as pd\n",
        "import numpy as np\n",
        "import tqdm #progress bar\n",
        "import preprocessor as prepro # text prepro\n",
        "\n",
        "import spacy #spacy for quick language prepro\n",
        "nlp = spacy.load('en_core_web_sm') #instantiating English module\n",
        "\n",
        "# sampling, splitting\n",
        "from imblearn.under_sampling import RandomUnderSampler\n",
        "from sklearn.model_selection import train_test_split\n",
        "\n",
        "\n",
        "# loading ML libraries\n",
        "from sklearn.pipeline import make_pipeline #pipeline creation\n",
        "from sklearn.feature_extraction.text import TfidfVectorizer #transforms text to sparse matrix\n",
        "from sklearn.linear_model import LogisticRegression #Logit model\n",
        "from sklearn.metrics import classification_report #that's self explanatory\n",
        "from sklearn.decomposition import TruncatedSVD #dimensionality reduction\n",
        "from xgboost import XGBClassifier\n",
        "\n",
        "import altair as alt #viz\n",
        "\n",
        "#explainability\n",
        "import eli5\n",
        "from eli5.lime import TextExplainer\n",
        "\n",
        "# topic modeling\n",
        "\n",
        "from gensim.corpora.dictionary import Dictionary # Import the dictionary builder\n",
        "from gensim.models import LdaMulticore # we'll use the faster multicore version of LDA\n",
        "\n",
        "# Import pyLDAvis\n",
        "import pyLDAvis\n",
        "import pyLDAvis.gensim_models as gensimvis\n",
        "\n",
        "%matplotlib inline\n",
        "pyLDAvis.enable_notebook()"
      ],
      "metadata": {
        "colab": {
          "base_uri": "https://localhost:8080/"
        },
        "id": "4s3sclEZ0XQ5",
        "outputId": "cca6544f-5c91-422b-f9c3-12ee3340982f"
      },
      "execution_count": 2,
      "outputs": [
        {
          "output_type": "stream",
          "name": "stderr",
          "text": [
            "/usr/local/lib/python3.7/dist-packages/past/types/oldstr.py:5: DeprecationWarning: Using or importing the ABCs from 'collections' instead of from 'collections.abc' is deprecated since Python 3.3,and in 3.9 it will stop working\n",
            "  from collections import Iterable\n",
            "/usr/local/lib/python3.7/dist-packages/past/builtins/misc.py:4: DeprecationWarning: Using or importing the ABCs from 'collections' instead of from 'collections.abc' is deprecated since Python 3.3,and in 3.9 it will stop working\n",
            "  from collections import Mapping\n"
          ]
        }
      ]
    },
    {
      "cell_type": "code",
      "source": [
        "# prepro settings\n",
        "prepro.set_options(prepro.OPT.URL, prepro.OPT.NUMBER, prepro.OPT.RESERVED, prepro.OPT.MENTION, prepro.OPT.SMILEY)"
      ],
      "metadata": {
        "id": "yvtO67l74O6x"
      },
      "execution_count": 3,
      "outputs": []
    },
    {
      "cell_type": "code",
      "source": [
        "!git clone https://github.com/Only-Mike/M2-NLP-Network-Analysis.git"
      ],
      "metadata": {
        "colab": {
          "base_uri": "https://localhost:8080/"
        },
        "id": "W4D7cL_xzGeE",
        "outputId": "d7b39cea-6fb9-4e43-eda8-e0ee97c97192"
      },
      "execution_count": 4,
      "outputs": [
        {
          "output_type": "stream",
          "name": "stdout",
          "text": [
            "fatal: destination path 'M2-NLP-Network-Analysis' already exists and is not an empty directory.\n"
          ]
        }
      ]
    },
    {
      "cell_type": "code",
      "source": [
        "data1 = pd.read_csv('/content/M2-NLP-Network-Analysis/Supply chain network - 2017 csv file.csv')\n",
        "data2 = pd.read_csv('/content/M2-NLP-Network-Analysis/Supply chain network - 2018 csv file.csv')\n",
        "data3 = pd.read_csv('/content/M2-NLP-Network-Analysis/Supply chain network - 2019 csv file.csv')\n",
        "data4 = pd.read_csv('/content/M2-NLP-Network-Analysis/Supply chain network - 2020 csv file.csv')\n",
        "data5 = pd.read_csv('/content/M2-NLP-Network-Analysis/Supply chain network - 2021 csv file.csv')\n"
      ],
      "metadata": {
        "id": "VE52HcDrmRM3"
      },
      "execution_count": 5,
      "outputs": []
    },
    {
      "cell_type": "code",
      "source": [
        "frames = [data1, data2, data3, data4, data5]"
      ],
      "metadata": {
        "id": "SWqan3sRmqph"
      },
      "execution_count": 6,
      "outputs": []
    },
    {
      "cell_type": "code",
      "source": [
        "df = pd.concat(frames)"
      ],
      "metadata": {
        "id": "DqVZQhBOoR4s"
      },
      "execution_count": 7,
      "outputs": []
    },
    {
      "cell_type": "code",
      "source": [
        "df.shape"
      ],
      "metadata": {
        "colab": {
          "base_uri": "https://localhost:8080/"
        },
        "id": "e2G109lcpxNl",
        "outputId": "0ff1952a-50f8-4c73-b4b8-ac41cc39f531"
      },
      "execution_count": 8,
      "outputs": [
        {
          "output_type": "execute_result",
          "data": {
            "text/plain": [
              "(8573, 22)"
            ]
          },
          "metadata": {},
          "execution_count": 8
        }
      ]
    },
    {
      "cell_type": "code",
      "source": [
        "df.columns"
      ],
      "metadata": {
        "colab": {
          "base_uri": "https://localhost:8080/"
        },
        "id": "02u7VJl4p1eX",
        "outputId": "a3c0e8c1-350f-4ed4-e08d-647c719f39c5"
      },
      "execution_count": 9,
      "outputs": [
        {
          "output_type": "execute_result",
          "data": {
            "text/plain": [
              "Index(['Authors', 'Author(s) ID', 'Title', 'Year', 'Source title', 'Cited by',\n",
              "       'DOI', 'Link', 'Affiliations', 'Authors with affiliations', 'Abstract',\n",
              "       'Author Keywords', 'Index Keywords', 'Funding Details',\n",
              "       'Correspondence Address', 'Publisher', 'ISSN', 'ISBN', 'CODEN',\n",
              "       'Document Type', 'Source', 'EID'],\n",
              "      dtype='object')"
            ]
          },
          "metadata": {},
          "execution_count": 9
        }
      ]
    },
    {
      "cell_type": "code",
      "source": [
        "#Choosing the columns we need to work with and storing them in the value \"data\"\n",
        "data = df[['Authors', 'Author(s) ID','Title', 'Abstract','Year', 'Source title']]"
      ],
      "metadata": {
        "id": "wbJtLwXO0FqW"
      },
      "execution_count": 10,
      "outputs": []
    },
    {
      "cell_type": "code",
      "source": [
        "#Combining the text and title\n",
        "data['text'] = data['Title'] + '. ' + data['Abstract']"
      ],
      "metadata": {
        "id": "3aB3k2CWi8Uo",
        "colab": {
          "base_uri": "https://localhost:8080/"
        },
        "outputId": "c7549226-7753-40ce-900d-c7e87e3c7989"
      },
      "execution_count": 11,
      "outputs": [
        {
          "output_type": "stream",
          "name": "stderr",
          "text": [
            "/usr/local/lib/python3.7/dist-packages/ipykernel_launcher.py:2: SettingWithCopyWarning: \n",
            "A value is trying to be set on a copy of a slice from a DataFrame.\n",
            "Try using .loc[row_indexer,col_indexer] = value instead\n",
            "\n",
            "See the caveats in the documentation: https://pandas.pydata.org/pandas-docs/stable/user_guide/indexing.html#returning-a-view-versus-a-copy\n",
            "  \n"
          ]
        }
      ]
    },
    {
      "cell_type": "code",
      "metadata": {
        "id": "bUhjywn2gBz0",
        "colab": {
          "base_uri": "https://localhost:8080/"
        },
        "outputId": "71c78d8b-fa25-4148-ec9f-6070f12e9cd3"
      },
      "source": [
        "#Cleaning the text\n",
        "data['text_clean'] = data['text'].map(lambda t: prepro.clean(t))\n"
      ],
      "execution_count": 12,
      "outputs": [
        {
          "output_type": "stream",
          "name": "stderr",
          "text": [
            "/usr/local/lib/python3.7/dist-packages/ipykernel_launcher.py:2: SettingWithCopyWarning: \n",
            "A value is trying to be set on a copy of a slice from a DataFrame.\n",
            "Try using .loc[row_indexer,col_indexer] = value instead\n",
            "\n",
            "See the caveats in the documentation: https://pandas.pydata.org/pandas-docs/stable/user_guide/indexing.html#returning-a-view-versus-a-copy\n",
            "  \n"
          ]
        }
      ]
    },
    {
      "cell_type": "code",
      "source": [
        "# run progress bar and clean up using spacy but without some heavy parts of the pipeline\n",
        "\n",
        "clean_text = []\n",
        "\n",
        "pbar = tqdm.tqdm(total=len(data['text_clean']),position=0, leave=True)\n",
        "\n",
        "for text in nlp.pipe(data['text_clean'], disable=[\"tagger\", \"parser\", \"ner\"]):\n",
        "\n",
        "  txt = [token.lemma_.lower() for token in text \n",
        "         if token.is_alpha \n",
        "         and not token.is_stop \n",
        "         and not token.is_punct]\n",
        "\n",
        "  clean_text.append(\" \".join(txt))\n",
        "\n",
        "  pbar.update(1)"
      ],
      "metadata": {
        "colab": {
          "base_uri": "https://localhost:8080/"
        },
        "id": "7RFrxl4r4ADK",
        "outputId": "ec028ffb-c282-4f48-af01-56733a4969df"
      },
      "execution_count": 13,
      "outputs": [
        {
          "output_type": "stream",
          "name": "stderr",
          "text": [
            "  0%|          | 0/8573 [00:00<?, ?it/s]/usr/local/lib/python3.7/dist-packages/spacy/pipeline/lemmatizer.py:211: UserWarning: [W108] The rule-based lemmatizer did not find POS annotation for one or more tokens. Check that your pipeline includes components that assign token.pos, typically 'tagger'+'attribute_ruler' or 'morphologizer'.\n",
            "  warnings.warn(Warnings.W108)\n",
            "100%|█████████▉| 8552/8573 [01:50<00:00, 129.90it/s]"
          ]
        }
      ]
    },
    {
      "cell_type": "code",
      "source": [
        "# write everything into a single function for simplicity later on\n",
        "def text_prepro(texts):\n",
        "  \"\"\"\n",
        "  takes in a pandas series (1 column of a DF)\n",
        "  lowercases, normalizes text\n",
        "  \"\"\"\n",
        "  texts_clean = texts.map(lambda t: prepro.clean(t))\n",
        "\n",
        "  clean_container = []\n",
        "\n",
        "  pbar = tqdm.tqdm(total=len(texts_clean),position=0, leave=True)\n",
        "\n",
        "  for text in nlp.pipe(texts_clean, disable=[\"tagger\", \"parser\", \"ner\"]):\n",
        "\n",
        "    txt = [token.lemma_.lower() for token in text \n",
        "          if token.is_alpha \n",
        "          and not token.is_stop \n",
        "          and not token.is_punct]\n",
        "\n",
        "    clean_container.append(\" \".join(txt))\n",
        "    pbar.update(1)\n",
        "  \n",
        "  return clean_container"
      ],
      "metadata": {
        "id": "FD-e1YEV4B-s"
      },
      "execution_count": 14,
      "outputs": []
    },
    {
      "cell_type": "code",
      "source": [
        "data['text_clean'] = text_prepro(data['text'])  ##<---- HVAD GØR DEN HER?<-------##"
      ],
      "metadata": {
        "colab": {
          "base_uri": "https://localhost:8080/"
        },
        "id": "gQOci1Od5cyp",
        "outputId": "fd374a0f-89df-4115-9e46-1ab89bad00f4"
      },
      "execution_count": 16,
      "outputs": [
        {
          "output_type": "stream",
          "name": "stderr",
          "text": [
            "100%|██████████| 8573/8573 [01:50<00:00, 77.65it/s] \n",
            "/usr/local/lib/python3.7/dist-packages/ipykernel_launcher.py:1: SettingWithCopyWarning: \n",
            "A value is trying to be set on a copy of a slice from a DataFrame.\n",
            "Try using .loc[row_indexer,col_indexer] = value instead\n",
            "\n",
            "See the caveats in the documentation: https://pandas.pydata.org/pandas-docs/stable/user_guide/indexing.html#returning-a-view-versus-a-copy\n",
            "  \"\"\"Entry point for launching an IPython kernel.\n"
          ]
        }
      ]
    },
    {
      "cell_type": "code",
      "source": [
        "# preprocess texts (we need tokens)  <---- Hvad gør den her? <------\n",
        "tokens = []\n",
        "\n",
        "for summary in nlp.pipe(data['text_clean'], disable=[\"ner\"]):\n",
        "  proj_tok = [token.lemma_.lower() for token in summary \n",
        "              if token.pos_ in ['NOUN', 'PROPN', 'ADJ', 'ADV'] \n",
        "              and not token.is_stop\n",
        "              and not token.is_punct] \n",
        "  tokens.append(proj_tok)"
      ],
      "metadata": {
        "id": "JkXzAz6S5lpp"
      },
      "execution_count": 17,
      "outputs": []
    },
    {
      "cell_type": "code",
      "source": [
        "data['tokens'] = tokens"
      ],
      "metadata": {
        "colab": {
          "base_uri": "https://localhost:8080/"
        },
        "id": "iKEJR8GU6m3k",
        "outputId": "7c69fa87-79b8-4f5c-9465-cbd755a6ec19"
      },
      "execution_count": 18,
      "outputs": [
        {
          "output_type": "stream",
          "name": "stderr",
          "text": [
            "/usr/local/lib/python3.7/dist-packages/ipykernel_launcher.py:1: SettingWithCopyWarning: \n",
            "A value is trying to be set on a copy of a slice from a DataFrame.\n",
            "Try using .loc[row_indexer,col_indexer] = value instead\n",
            "\n",
            "See the caveats in the documentation: https://pandas.pydata.org/pandas-docs/stable/user_guide/indexing.html#returning-a-view-versus-a-copy\n",
            "  \"\"\"Entry point for launching an IPython kernel.\n"
          ]
        }
      ]
    },
    {
      "cell_type": "code",
      "source": [
        "## SPØRGSMÅL OMKRING FILTER \n",
        "\n",
        "# Create a Dictionary from the articles: dictionary\n",
        "dictionary = Dictionary(data['tokens'])\n",
        "\n",
        "# filter out low-frequency / high-frequency stuff, also limit the vocabulary to max 1000 words\n",
        "dictionary.filter_extremes(no_below=5, no_above=0.5, keep_n=1000)\n",
        "\n",
        "# construct corpus using this dictionary\n",
        "corpus = [dictionary.doc2bow(doc) for doc in data['tokens']]"
      ],
      "metadata": {
        "id": "-5qooRNP7GdM"
      },
      "execution_count": 21,
      "outputs": []
    },
    {
      "cell_type": "markdown",
      "source": [
        "#Model Metrics"
      ],
      "metadata": {
        "id": "SrYbiev7__us"
      }
    },
    {
      "cell_type": "code",
      "source": [
        "import seaborn as sns\n",
        "import matplotlib.pyplot as plt\n",
        "import numpy as np\n",
        "from gensim.models import LdaModel, CoherenceModel\n",
        "from gensim import corpora"
      ],
      "metadata": {
        "id": "gB_lko8FsN8Q"
      },
      "execution_count": 26,
      "outputs": []
    },
    {
      "cell_type": "code",
      "source": [
        "corpus = data['tokens']"
      ],
      "metadata": {
        "id": "YC4LGwpOsXCD"
      },
      "execution_count": 27,
      "outputs": []
    },
    {
      "cell_type": "code",
      "source": [
        "corpus"
      ],
      "metadata": {
        "colab": {
          "base_uri": "https://localhost:8080/"
        },
        "id": "a4hWPw6xxW6o",
        "outputId": "0ccd39b9-73d2-4008-b4fb-fa16e8f493b3"
      },
      "execution_count": 28,
      "outputs": [
        {
          "output_type": "execute_result",
          "data": {
            "text/plain": [
              "0       [food, nutrition, security, southern, african,...\n",
              "1       [iot, cargo, monitoring, system, operational, ...\n",
              "2       [annual, software, technology, conference, stc...\n",
              "3       [approximation, high, dimensional, commodity, ...\n",
              "4       [accessibility, local, food, production, regio...\n",
              "                              ...                        \n",
              "1995    [agile, supply, chain, manufacturing, service,...\n",
              "1996    [evaluation, cruise, ship, supply, logistics, ...\n",
              "1997    [systematic, network, analysis, datum, quality...\n",
              "1998    [stage, optimization, model, tactical, plannin...\n",
              "1999    [grammar, aware, pointer, network, abstractive...\n",
              "Name: tokens, Length: 8573, dtype: object"
            ]
          },
          "metadata": {},
          "execution_count": 28
        }
      ]
    },
    {
      "cell_type": "code",
      "source": [
        "dirichlet_dict = corpora.Dictionary(corpus)\n",
        "bow_corpus = [dirichlet_dict.doc2bow(text) for text in corpus]\n",
        "\n",
        "# Considering 1-15 topics, as the last is cut off\n",
        "num_topics = list(range(16)[1:])\n",
        "num_keywords = 15\n",
        "\n",
        "LDA_models = {}\n",
        "LDA_topics = {}\n",
        "for i in num_topics:\n",
        "    LDA_models[i] = LdaModel(corpus=bow_corpus,\n",
        "                             id2word=dirichlet_dict,\n",
        "                             num_topics=i,\n",
        "                             update_every=1,\n",
        "                             chunksize=len(bow_corpus),\n",
        "                             passes=20,\n",
        "                             alpha='auto',\n",
        "                             random_state=42)\n",
        "\n",
        "    shown_topics = LDA_models[i].show_topics(num_topics=i, \n",
        "                                             num_words=num_keywords,\n",
        "                                             formatted=False)\n",
        "    LDA_topics[i] = [[word[0] for word in topic[1]] for topic in shown_topics]"
      ],
      "metadata": {
        "id": "g6M0SE0nr7KO"
      },
      "execution_count": null,
      "outputs": []
    },
    {
      "cell_type": "code",
      "source": [
        "def jaccard_similarity(topic_1, topic_2):\n",
        "    \"\"\"\n",
        "    Derives the Jaccard similarity of two topics\n",
        "\n",
        "    Jaccard similarity:\n",
        "    - A statistic used for comparing the similarity and diversity of sample sets\n",
        "    - J(A,B) = (A ∩ B)/(A ∪ B)\n",
        "    - Goal is low Jaccard scores for coverage of the diverse elements\n",
        "    \"\"\"\n",
        "    intersection = set(topic_1).intersection(set(topic_2))\n",
        "    union = set(topic_1).union(set(topic_2))\n",
        "                    \n",
        "    return float(len(intersection))/float(len(union))"
      ],
      "metadata": {
        "id": "ZzK6Q8B1s5gd"
      },
      "execution_count": null,
      "outputs": []
    },
    {
      "cell_type": "code",
      "source": [
        "LDA_stability = {}\n",
        "for i in range(0, len(num_topics)-1):\n",
        "    jaccard_sims = []\n",
        "    for t1, topic1 in enumerate(LDA_topics[num_topics[i]]): # pylint: disable=unused-variable\n",
        "        sims = []\n",
        "        for t2, topic2 in enumerate(LDA_topics[num_topics[i+1]]): # pylint: disable=unused-variable\n",
        "            sims.append(jaccard_similarity(topic1, topic2))    \n",
        "        \n",
        "        jaccard_sims.append(sims)    \n",
        "    \n",
        "    LDA_stability[num_topics[i]] = jaccard_sims\n",
        "                \n",
        "mean_stabilities = [np.array(LDA_stability[i]).mean() for i in num_topics[:-1]]"
      ],
      "metadata": {
        "id": "8CqBHt5ewRjf"
      },
      "execution_count": null,
      "outputs": []
    },
    {
      "cell_type": "code",
      "source": [
        "coherences = [CoherenceModel(model=LDA_models[i], texts=corpus, dictionary=dirichlet_dict, coherence='c_v').get_coherence() for i in num_topics[:-1]]"
      ],
      "metadata": {
        "id": "LxgSm8mbwWSP"
      },
      "execution_count": null,
      "outputs": []
    },
    {
      "cell_type": "code",
      "source": [
        "coh_sta_diffs = [coherences[i] - mean_stabilities[i] for i in range(num_keywords)[:-1]] # limit topic numbers to the number of keywords\n",
        "coh_sta_max = max(coh_sta_diffs)\n",
        "coh_sta_max_idxs = [i for i, j in enumerate(coh_sta_diffs) if j == coh_sta_max]\n",
        "ideal_topic_num_index = coh_sta_max_idxs[0] # choose less topics in case there's more than one max\n",
        "ideal_topic_num = num_topics[ideal_topic_num_index]"
      ],
      "metadata": {
        "id": "FgQ7NBBOwzru"
      },
      "execution_count": null,
      "outputs": []
    },
    {
      "cell_type": "code",
      "source": [
        "plt.figure(figsize=(20,10))\n",
        "ax = sns.lineplot(x=num_topics[:-1], y=mean_stabilities, label='Average Topic Overlap')\n",
        "ax = sns.lineplot(x=num_topics[:-1], y=coherences, label='Topic Coherence')\n",
        "\n",
        "ax.axvline(x=ideal_topic_num, label='Ideal Number of Topics', color='black')\n",
        "ax.axvspan(xmin=ideal_topic_num - 1, xmax=ideal_topic_num + 1, alpha=0.5, facecolor='grey')\n",
        "\n",
        "y_max = max(max(mean_stabilities), max(coherences)) + (0.10 * max(max(mean_stabilities), max(coherences)))\n",
        "ax.set_ylim([0, y_max])\n",
        "ax.set_xlim([1, num_topics[-1]-1])\n",
        "                \n",
        "ax.axes.set_title('Model Metrics per Number of Topics', fontsize=25)\n",
        "ax.set_ylabel('Metric Level', fontsize=20)\n",
        "ax.set_xlabel('Number of Topics', fontsize=20)\n",
        "plt.legend(fontsize=20)\n",
        "plt.show()  "
      ],
      "metadata": {
        "id": "69zOLWwGwb_7",
        "colab": {
          "base_uri": "https://localhost:8080/",
          "height": 639
        },
        "outputId": "348f8248-f578-4a4f-c768-89cd0199099f"
      },
      "execution_count": null,
      "outputs": [
        {
          "output_type": "display_data",
          "data": {
            "text/plain": [
              "<Figure size 1440x720 with 1 Axes>"
            ],
            "image/png": "[encoded data removed]"
          },
          "metadata": {
            "needs_background": "light"
          }
        }
      ]
    },
    {
      "cell_type": "markdown",
      "source": [
        "# Visualization"
      ],
      "metadata": {
        "id": "FVQFsJTk_4iJ"
      }
    },
    {
      "cell_type": "code",
      "source": [
        "lda_model = LdaMulticore(corpus, id2word=dictionary, num_topics=5, workers = 4, passes=10)"
      ],
      "metadata": {
        "id": "7ghvRrTM7SRQ"
      },
      "execution_count": 23,
      "outputs": []
    },
    {
      "cell_type": "code",
      "source": [
        "lda_display = pyLDAvis.gensim_models.prepare(lda_model, corpus, dictionary)"
      ],
      "metadata": {
        "colab": {
          "base_uri": "https://localhost:8080/"
        },
        "id": "ohqvwK17-cvO",
        "outputId": "f1d78184-3833-4024-d6a4-c20503739ee5"
      },
      "execution_count": 24,
      "outputs": [
        {
          "output_type": "stream",
          "name": "stderr",
          "text": [
            "/usr/local/lib/python3.7/dist-packages/pyLDAvis/_prepare.py:247: FutureWarning: In a future version of pandas all arguments of DataFrame.drop except for the argument 'labels' will be keyword-only\n",
            "  by='saliency', ascending=False).head(R).drop('saliency', 1)\n"
          ]
        }
      ]
    },
    {
      "cell_type": "code",
      "source": [
        "pyLDAvis.display(lda_display)"
      ],
      "metadata": {
        "colab": {
          "base_uri": "https://localhost:8080/",
          "height": 882
        },
        "id": "_4EfZAei-fXQ",
        "outputId": "e6a50f52-ae49-42ee-bfd6-880d786188c8"
      },
      "execution_count": 25,
      "outputs": [
        {
          "output_type": "execute_result",
          "data": {
            "text/plain": [
              "<IPython.core.display.HTML object>"
            ],
            "text/html": [
              "\n",
              "<link rel=\"stylesheet\" type=\"text/css\" href=\"https://cdn.jsdelivr.net/gh/bmabey/pyLDAvis@3.3.1/pyLDAvis/js/ldavis.v1.0.0.css\">\n",
              "\n",
              "\n",
              "<div id=\"ldavis_el14091403735884817444590780195\"></div>\n",
              "<script type=\"text/javascript\">\n",
              "\n",
              "var ldavis_el14091403735884817444590780195_data = {\"mdsDat\": {\"x\": [0.09561225704371508, -0.0914296257743166, 0.042697067648045414, -0.11633019270546673, 0.06945049378802283], \"y\": [0.03627400395024697, -0.04909195658012618, -0.12125035073657643, 0.06508089876793145, 0.0689874045985242], \"topics\": [1, 2, 3, 4, 5], \"cluster\": [1, 1, 1, 1, 1], \"Freq\": [26.927705528613995, 21.96928986863368, 21.098414599346118, 16.423373726732308, 13.5812162766739]}, \"tinfo\": {\"Term\": [\"food\", \"logistic\", \"blockchain\", \"technology\", \"e\", \"service\", \"cost\", \"distribution\", \"smart\", \"management\", \"system\", \"problem\", \"project\", \"datum\", \"business\", \"inventory\", \"commerce\", \"optimization\", \"risk\", \"pandemic\", \"industry\", \"product\", \"customer\", \"energy\", \"security\", \"iot\", \"objective\", \"research\", \"carbon\", \"global\", \"milp\", \"fuzzy\", \"weight\", \"deterministic\", \"tactical\", \"bi\", \"pareto\", \"cell\", \"realistic\", \"criterion\", \"decomposition\", \"particle\", \"iran\", \"uncertain\", \"horizon\", \"stochastic\", \"bayesian\", \"swarm\", \"integer\", \"sensitivity\", \"uncertainty\", \"objective\", \"programming\", \"robust\", \"grid\", \"parameter\", \"optimize\", \"mixed\", \"reverse\", \"treatment\", \"optimization\", \"risk\", \"multi\", \"gas\", \"linear\", \"algorithm\", \"evaluation\", \"planning\", \"decision\", \"plant\", \"method\", \"design\", \"environmental\", \"problem\", \"simulation\", \"stage\", \"transportation\", \"green\", \"cost\", \"material\", \"approach\", \"system\", \"time\", \"result\", \"demand\", \"performance\", \"solution\", \"production\", \"analysis\", \"supplier\", \"study\", \"paper\", \"product\", \"case\", \"process\", \"lean\", \"hypothesis\", \"publication\", \"cluster\", \"organisation\", \"organizational\", \"circular\", \"collaboration\", \"partner\", \"collaborative\", \"emerald\", \"buyer\", \"automotive\", \"creation\", \"agile\", \"review\", \"originality\", \"practice\", \"sharing\", \"empirical\", \"journal\", \"business\", \"relationship\", \"knowledge\", \"firm\", \"literature\", \"inter\", \"era\", \"enterprise\", \"mapping\", \"implication\", \"innovation\", \"industry\", \"research\", \"management\", \"industrial\", \"information\", \"finding\", \"value\", \"digital\", \"study\", \"manufacturing\", \"performance\", \"integration\", \"company\", \"development\", \"supplier\", \"analysis\", \"service\", \"paper\", \"process\", \"datum\", \"technology\", \"approach\", \"new\", \"sustainability\", \"customer\", \"product\", \"food\", \"united\", \"crisis\", \"farmer\", \"carbon\", \"states\", \"emergency\", \"climate\", \"blood\", \"national\", \"pandemic\", \"regional\", \"land\", \"disaster\", \"country\", \"political\", \"producer\", \"region\", \"export\", \"shortage\", \"south\", \"trade\", \"community\", \"farm\", \"population\", \"urban\", \"agency\", \"capture\", \"renewable\", \"emission\", \"agriculture\", \"global\", \"policy\", \"energy\", \"local\", \"social\", \"consumption\", \"disruption\", \"economic\", \"consumer\", \"impact\", \"market\", \"public\", \"resilience\", \"economy\", \"production\", \"study\", \"area\", \"case\", \"power\", \"analysis\", \"system\", \"sustainable\", \"research\", \"product\", \"paper\", \"demand\", \"result\", \"privacy\", \"blockchain\", \"consensus\", \"ledger\", \"transparency\", \"integrity\", \"traceability\", \"detection\", \"image\", \"block\", \"secure\", \"transaction\", \"peer\", \"record\", \"transparent\", \"smart\", \"iot\", \"project\", \"architecture\", \"contract\", \"device\", \"hardware\", \"protocol\", \"mining\", \"medical\", \"machine\", \"learning\", \"logic\", \"attack\", \"dataset\", \"security\", \"deep\", \"layer\", \"data\", \"technology\", \"thing\", \"application\", \"datum\", \"system\", \"internet\", \"resilience\", \"ieee\", \"management\", \"information\", \"paper\", \"time\", \"digital\", \"industry\", \"process\", \"framework\", \"method\", \"approach\", \"analysis\", \"study\", \"station\", \"rfid\", \"commerce\", \"e\", \"pricing\", \"retailer\", \"retail\", \"warehouse\", \"routing\", \"channel\", \"freight\", \"vehicle\", \"transport\", \"equilibrium\", \"online\", \"inventory\", \"logistic\", \"transfer\", \"profit\", \"dual\", \"shipment\", \"sale\", \"logistics\", \"provider\", \"city\", \"delivery\", \"electric\", \"perishable\", \"road\", \"echelon\", \"price\", \"distribution\", \"location\", \"service\", \"game\", \"customer\", \"product\", \"cost\", \"problem\", \"company\", \"level\", \"good\", \"demand\", \"high\", \"market\", \"system\", \"study\", \"decision\", \"time\", \"paper\", \"result\", \"design\", \"transportation\", \"solution\"], \"Freq\": [3703.0, 3389.0, 1935.0, 4335.0, 1158.0, 2963.0, 4255.0, 2821.0, 1423.0, 6243.0, 8193.0, 4050.0, 1309.0, 4049.0, 2706.0, 1377.0, 847.0, 2419.0, 4037.0, 1440.0, 4181.0, 4686.0, 2146.0, 2398.0, 1582.0, 1058.0, 2493.0, 4868.0, 1016.0, 2467.0, 290.20958865343187, 1102.6636137719922, 195.12283208502265, 176.7359282713376, 159.69641979104807, 259.97099881322174, 182.64155778089156, 290.9154972609071, 204.06205117318407, 626.1379255724165, 125.1359809208893, 202.07510929346026, 183.41232382044248, 401.6290146003612, 106.26291363627463, 705.1098870113875, 248.1670649619612, 246.60258728952127, 688.7490256355305, 362.25714811728716, 1447.587632964816, 2044.6706960234067, 1152.1193459092588, 698.4460432363779, 546.1572687231117, 838.7252248616309, 203.0907735121246, 531.4178035536437, 398.88152232057087, 223.51920160487185, 1810.144954581838, 2922.352351362411, 2043.1247292480946, 767.2687272520546, 667.6063738799137, 1509.1879390559966, 853.562688898246, 822.5741404547218, 1999.5460782635284, 570.4563946974133, 2168.379714449877, 2257.4646838324225, 1207.1128257481334, 2164.499196883857, 897.226549402853, 797.7570261248563, 1110.5470781958384, 782.603352410246, 2018.9976061339496, 939.8993344954616, 1845.0879849888897, 2577.7002740764833, 1387.2630939441342, 1426.3392612191858, 1269.9573808903183, 1409.0319089664447, 1121.6503696413733, 1318.871763325913, 1351.0054928747434, 1033.051633021886, 1489.0289187580252, 1364.520863103663, 1256.050252765821, 1146.5979907454275, 1155.569856324887, 483.09227374847916, 170.58906155808094, 217.06773717262033, 502.4592513862279, 208.78774803924057, 341.7808274763394, 399.5588126761969, 536.0967900207687, 358.59416964388, 693.5341717991305, 291.3034893193251, 230.86742832142247, 321.87930789466304, 309.5865553208495, 230.07709964201294, 953.2836311087747, 336.8239338096877, 841.6677068040061, 355.31872325960165, 402.5441003767043, 209.79598647164244, 1942.1901685193352, 1083.2092079878514, 642.9918370632087, 1101.9231832170335, 1214.85687116335, 193.4529326717636, 182.12928167381787, 1293.5399463824288, 120.19261377561149, 574.9586386640071, 873.2435100215317, 2500.4581896695145, 2754.934914580907, 3238.5009332745544, 832.9805845274994, 1680.4410629699423, 694.7451368870661, 1359.9107571322368, 813.5982945744415, 2416.420068281281, 739.2173338680005, 1563.3665889976003, 611.716206912884, 1081.0071419849644, 1155.5351526055142, 1055.1441245562855, 1625.4132535912242, 1094.9982693795946, 1520.2962118701012, 1114.486130316683, 1143.8616119723065, 1153.3341849543583, 1142.5398425773863, 862.249203020585, 787.1185203443204, 804.7364051548486, 890.2692540311781, 3596.4495210334912, 150.15853809599366, 302.4411582022463, 562.3988768133906, 963.0984816277366, 98.65901163525665, 493.4588798550022, 307.7824181470108, 714.6080633596531, 411.41156638044055, 1282.4049738460642, 433.0578067457892, 138.99038566260958, 534.9657492723109, 1056.6841711893123, 143.5782147999639, 294.50896867192455, 580.6286417413286, 222.59995391691015, 277.9903887327379, 180.03878395632984, 944.7971135496267, 520.8114073162956, 240.90192696097702, 270.11816839188, 372.2750156297666, 124.33045504213761, 94.8288713349317, 233.35272741716895, 923.1267365937954, 318.3646688071827, 1664.867926427733, 854.5864515014453, 1593.635822042564, 653.4291281255428, 1260.5291566560738, 537.923877681714, 1185.6719721620227, 1187.846995408236, 719.3229508598885, 1236.9527336256028, 1031.3160561619893, 465.67893618923745, 761.9036813864062, 672.2085744290215, 1137.0438778354912, 1462.5655731269826, 619.444312343723, 876.794038226938, 683.5706417194897, 912.2500691679681, 1040.3330892604286, 703.4709813573337, 853.6471100019182, 843.2850049022405, 873.749353149866, 758.1634405784604, 786.4090218876098, 271.9763796122177, 1895.957463445947, 191.38587211590223, 224.09774137610893, 400.62122532925144, 178.00793208096286, 514.7159243722215, 570.7094362291629, 195.8896528154731, 274.2152835463996, 291.054685947362, 691.3349922081327, 236.4947391356249, 157.88293634537305, 123.25656393350916, 1235.3570123157872, 918.400760456411, 1119.9114845546378, 500.40461665737524, 525.8977413846325, 407.6907136248456, 117.9607628167514, 358.01078528468446, 181.79905982942051, 274.5896497289871, 553.5093121362054, 529.5386227645591, 167.71917716474437, 620.3709384696392, 164.18658232608485, 1096.3573747630223, 328.44855951877, 392.95384270076465, 952.6780391802092, 2410.47637586374, 453.9759651542634, 1223.1632329427034, 1861.8285595012624, 2892.1092163082512, 596.6469608075346, 741.8616758998656, 570.8510974359142, 1306.2159189533268, 935.2645780431942, 1166.8645674873117, 903.0423286493835, 576.7118529118161, 738.8475234046319, 666.0422603710258, 561.6952820053633, 615.0610823200943, 625.3241059005144, 615.6955873569478, 568.3179554957559, 330.6285877595484, 330.9125658041115, 806.2121507698873, 1066.1972857603407, 275.6123149786063, 464.0216425609688, 372.9749264591586, 235.3390559449602, 174.0956558871103, 433.746188055014, 246.13072089652448, 706.8513084075498, 687.6900995390826, 123.6047589703192, 386.09918547113824, 921.9702289149176, 2265.2587521621745, 225.81301044305752, 540.0449615297118, 115.16663695179665, 87.27338279758597, 331.12736663725644, 145.666867469044, 231.19549275549292, 370.78885468516796, 541.7134423783166, 198.41605884605377, 146.33702170465773, 209.87924600060538, 291.69064461547424, 390.93376190237575, 1286.0972622235993, 699.9017945057489, 1272.3083907416435, 289.1039081784688, 885.0606718458278, 1513.5922734263845, 1372.14388782713, 1134.0136392412094, 680.9378125829992, 737.9623613200173, 531.0358279620899, 745.4797514296381, 642.186831636759, 612.5374468704001, 944.2869890335613, 866.0124950260403, 672.9931373649766, 660.8080428733707, 753.2236849244575, 622.7675662076838, 610.4096485094922, 508.1406473031701, 520.3935210833307], \"Total\": [3703.0, 3389.0, 1935.0, 4335.0, 1158.0, 2963.0, 4255.0, 2821.0, 1423.0, 6243.0, 8193.0, 4050.0, 1309.0, 4049.0, 2706.0, 1377.0, 847.0, 2419.0, 4037.0, 1440.0, 4181.0, 4686.0, 2146.0, 2398.0, 1582.0, 1058.0, 2493.0, 4868.0, 1016.0, 2467.0, 297.6421141705541, 1160.2438201114508, 213.78970248030416, 193.68357850007988, 175.07378269822476, 285.2187347519199, 201.82612451280147, 322.1651058375379, 226.84903937968286, 698.4878870155064, 140.5820680244148, 231.2787493357051, 213.30008551829366, 468.5525344712829, 124.32416883193855, 830.1429706148152, 294.531642357001, 293.06176082076814, 828.3112886672361, 435.6985186577888, 1754.0256833952856, 2493.500153058128, 1405.97540836895, 855.529554669593, 669.9728011461896, 1045.225064269114, 253.43335315460158, 669.2375316075056, 511.99801217425903, 291.42457712906827, 2419.850897747243, 4037.780225447334, 2842.249066899236, 1016.3755066602764, 886.4871170258516, 2238.7506348318802, 1181.2347187323564, 1188.823738548116, 3463.5712202593672, 788.7581013264665, 3948.160078104513, 4202.402878081555, 1973.7319725508132, 4050.708213849478, 1378.378977915918, 1198.8838488396275, 1901.6860899711469, 1200.933486530543, 4255.11578010661, 1537.8624207041055, 4417.008258959738, 8193.211115345202, 3515.232003045247, 3815.9133357201763, 3056.2063115268556, 3817.886984447979, 2483.8094901429117, 3712.218240169828, 4861.235138240199, 2374.270364654263, 6802.3450106880855, 5678.654680535399, 4686.232446344902, 3398.0576715112084, 3531.925674343217, 485.9728152691421, 186.3134651561437, 243.7560165886311, 569.8886499048764, 246.30412440581398, 405.9969628574028, 481.4268838171262, 650.088790117329, 437.91534726327467, 856.1840731505448, 364.71949587101847, 289.32725573861234, 408.53782401110743, 398.25522545553576, 296.12098953996514, 1255.905543409257, 451.7888896332889, 1147.2746869901268, 484.45191938971544, 557.1268097611904, 290.4505752874626, 2706.4558349391978, 1519.0097358888756, 907.0824738609955, 1563.2642617603549, 1751.666022648749, 285.4082078624723, 269.5689427165619, 1920.3662730411186, 178.65321317801985, 859.5904696512739, 1326.6375277499956, 4181.142095500897, 4868.168741390896, 6243.953936144061, 1377.0272798519416, 3417.7581424260707, 1123.8690515573617, 2937.7392477051853, 1482.2333003712888, 6802.3450106880855, 1317.556134884252, 3817.886984447979, 1026.6644609361024, 2384.600277494743, 2634.8474916706086, 2374.270364654263, 4861.235138240199, 2963.606645794098, 5678.654680535399, 3531.925674343217, 4049.6099192774755, 4335.956992648581, 4417.008258959738, 2614.142968598867, 1839.4016237270953, 2146.362568185894, 4686.232446344902, 3703.0672682139134, 155.74922133311713, 318.8353047767751, 593.406100318328, 1016.2145378952641, 104.85131184782163, 537.0320508158553, 340.00259903824326, 797.4888286148041, 461.4716654639537, 1440.9765242679553, 498.45065951732516, 161.60903304354298, 623.4008264166389, 1249.1557594814642, 171.01027004765047, 356.2142118325023, 703.3617672776637, 269.8108072430645, 338.23369883240787, 222.34244597907337, 1184.934871530499, 658.6100290261755, 307.6482357357874, 348.06509735642436, 479.84161310665377, 161.29808000276628, 125.59205211248243, 311.1024261117731, 1231.1701299160793, 426.88625811907, 2467.24458914094, 1230.5073479288128, 2398.7455209640566, 947.1620379316943, 2109.7995963325375, 788.634389751187, 2087.9162277495434, 2341.613431253203, 1264.940617879569, 2697.8199904649546, 2238.966773237004, 736.0032041250874, 1614.8366081044808, 1364.8639845979462, 3712.218240169828, 6802.3450106880855, 1365.820127384552, 3398.0576715112084, 1773.4600871306895, 4861.235138240199, 8193.211115345202, 2166.570127164689, 4868.168741390896, 4686.232446344902, 5678.654680535399, 3056.2063115268556, 3815.9133357201763, 277.59311509328734, 1935.214409551377, 196.5788419066749, 232.34026980579222, 420.6949331938806, 187.14165305851736, 554.1403261713039, 627.7244063879835, 215.61076419936907, 303.3944779522096, 323.366194039194, 769.1712951386912, 265.11303719735594, 177.52963090845932, 141.57337328184744, 1423.624690471513, 1058.4597531625604, 1309.7307025456805, 614.3491369474704, 645.9621167376198, 507.2097527010804, 147.2393767074597, 458.56941623825435, 236.6844295974903, 363.94951087828287, 745.5912882746217, 713.9328435437639, 232.5603776233524, 865.8956531600656, 229.66396868373485, 1582.8900330637273, 462.7284300940139, 558.3208301539468, 1450.3084996786429, 4335.956992648581, 662.9234834934771, 2302.1411086395033, 4049.6099192774755, 8193.211115345202, 1028.8873631528418, 1614.8366081044808, 1074.2892537065904, 6243.953936144061, 3417.7581424260707, 5678.654680535399, 3515.232003045247, 1482.2333003712888, 4181.142095500897, 3531.925674343217, 2161.5043394136783, 3948.160078104513, 4417.008258959738, 4861.235138240199, 6802.3450106880855, 339.2178730887523, 345.76336415441705, 847.7688136753636, 1158.0429394976584, 299.7940932494989, 529.195389514037, 445.84888177542757, 298.5690630464576, 227.85985508202472, 571.7981716734934, 326.70695025308555, 940.171928023891, 940.6433330583393, 173.64656395087985, 570.3217037949228, 1377.152261115769, 3389.425444051858, 340.4642197790446, 818.7787534107403, 179.5991347973858, 137.4031135503385, 539.0289774096348, 242.07900051454718, 387.3789860525319, 635.4581748288601, 933.1142788191348, 346.7386182055719, 258.00324054211325, 372.52366424119975, 527.9116689876093, 745.0932359358843, 2821.4530080732766, 1474.8353439406903, 2963.606645794098, 542.1094634668152, 2146.362568185894, 4686.232446344902, 4255.11578010661, 4050.708213849478, 2384.600277494743, 2766.80025044755, 1561.6477643120393, 3056.2063115268556, 2281.9548917473267, 2238.966773237004, 8193.211115345202, 6802.3450106880855, 3463.5712202593672, 3515.232003045247, 5678.654680535399, 3815.9133357201763, 4202.402878081555, 1901.6860899711469, 2483.8094901429117], \"Category\": [\"Default\", \"Default\", \"Default\", \"Default\", \"Default\", \"Default\", \"Default\", \"Default\", \"Default\", \"Default\", \"Default\", \"Default\", \"Default\", \"Default\", \"Default\", \"Default\", \"Default\", \"Default\", \"Default\", \"Default\", \"Default\", \"Default\", \"Default\", \"Default\", \"Default\", \"Default\", \"Default\", \"Default\", \"Default\", \"Default\", \"Topic1\", \"Topic1\", \"Topic1\", \"Topic1\", \"Topic1\", \"Topic1\", \"Topic1\", \"Topic1\", \"Topic1\", \"Topic1\", \"Topic1\", \"Topic1\", \"Topic1\", \"Topic1\", \"Topic1\", \"Topic1\", \"Topic1\", \"Topic1\", \"Topic1\", \"Topic1\", \"Topic1\", \"Topic1\", \"Topic1\", \"Topic1\", \"Topic1\", \"Topic1\", \"Topic1\", \"Topic1\", \"Topic1\", \"Topic1\", \"Topic1\", \"Topic1\", \"Topic1\", \"Topic1\", \"Topic1\", \"Topic1\", \"Topic1\", \"Topic1\", \"Topic1\", \"Topic1\", \"Topic1\", \"Topic1\", \"Topic1\", \"Topic1\", \"Topic1\", \"Topic1\", \"Topic1\", \"Topic1\", \"Topic1\", \"Topic1\", \"Topic1\", \"Topic1\", \"Topic1\", \"Topic1\", \"Topic1\", \"Topic1\", \"Topic1\", \"Topic1\", \"Topic1\", \"Topic1\", \"Topic1\", \"Topic1\", \"Topic1\", \"Topic1\", \"Topic1\", \"Topic2\", \"Topic2\", \"Topic2\", \"Topic2\", \"Topic2\", \"Topic2\", \"Topic2\", \"Topic2\", \"Topic2\", \"Topic2\", \"Topic2\", \"Topic2\", \"Topic2\", \"Topic2\", \"Topic2\", \"Topic2\", \"Topic2\", \"Topic2\", \"Topic2\", \"Topic2\", \"Topic2\", \"Topic2\", \"Topic2\", \"Topic2\", \"Topic2\", \"Topic2\", \"Topic2\", \"Topic2\", \"Topic2\", \"Topic2\", \"Topic2\", \"Topic2\", \"Topic2\", \"Topic2\", \"Topic2\", \"Topic2\", \"Topic2\", \"Topic2\", \"Topic2\", \"Topic2\", \"Topic2\", \"Topic2\", \"Topic2\", \"Topic2\", \"Topic2\", \"Topic2\", \"Topic2\", \"Topic2\", \"Topic2\", \"Topic2\", \"Topic2\", \"Topic2\", \"Topic2\", \"Topic2\", \"Topic2\", \"Topic2\", \"Topic2\", \"Topic2\", \"Topic3\", \"Topic3\", \"Topic3\", \"Topic3\", \"Topic3\", \"Topic3\", \"Topic3\", \"Topic3\", \"Topic3\", \"Topic3\", \"Topic3\", \"Topic3\", \"Topic3\", \"Topic3\", \"Topic3\", \"Topic3\", \"Topic3\", \"Topic3\", \"Topic3\", \"Topic3\", \"Topic3\", \"Topic3\", \"Topic3\", \"Topic3\", \"Topic3\", \"Topic3\", \"Topic3\", \"Topic3\", \"Topic3\", \"Topic3\", \"Topic3\", \"Topic3\", \"Topic3\", \"Topic3\", \"Topic3\", \"Topic3\", \"Topic3\", \"Topic3\", \"Topic3\", \"Topic3\", \"Topic3\", \"Topic3\", \"Topic3\", \"Topic3\", \"Topic3\", \"Topic3\", \"Topic3\", \"Topic3\", \"Topic3\", \"Topic3\", \"Topic3\", \"Topic3\", \"Topic3\", \"Topic3\", \"Topic3\", \"Topic3\", \"Topic3\", \"Topic3\", \"Topic4\", \"Topic4\", \"Topic4\", \"Topic4\", \"Topic4\", \"Topic4\", \"Topic4\", \"Topic4\", \"Topic4\", \"Topic4\", \"Topic4\", \"Topic4\", \"Topic4\", \"Topic4\", \"Topic4\", \"Topic4\", \"Topic4\", \"Topic4\", \"Topic4\", \"Topic4\", \"Topic4\", \"Topic4\", \"Topic4\", \"Topic4\", \"Topic4\", \"Topic4\", \"Topic4\", \"Topic4\", \"Topic4\", \"Topic4\", \"Topic4\", \"Topic4\", \"Topic4\", \"Topic4\", \"Topic4\", \"Topic4\", \"Topic4\", \"Topic4\", \"Topic4\", \"Topic4\", \"Topic4\", \"Topic4\", \"Topic4\", \"Topic4\", \"Topic4\", \"Topic4\", \"Topic4\", \"Topic4\", \"Topic4\", \"Topic4\", \"Topic4\", \"Topic4\", \"Topic4\", \"Topic4\", \"Topic5\", \"Topic5\", \"Topic5\", \"Topic5\", \"Topic5\", \"Topic5\", \"Topic5\", \"Topic5\", \"Topic5\", \"Topic5\", \"Topic5\", \"Topic5\", \"Topic5\", \"Topic5\", \"Topic5\", \"Topic5\", \"Topic5\", \"Topic5\", \"Topic5\", \"Topic5\", \"Topic5\", \"Topic5\", \"Topic5\", \"Topic5\", \"Topic5\", \"Topic5\", \"Topic5\", \"Topic5\", \"Topic5\", \"Topic5\", \"Topic5\", \"Topic5\", \"Topic5\", \"Topic5\", \"Topic5\", \"Topic5\", \"Topic5\", \"Topic5\", \"Topic5\", \"Topic5\", \"Topic5\", \"Topic5\", \"Topic5\", \"Topic5\", \"Topic5\", \"Topic5\", \"Topic5\", \"Topic5\", \"Topic5\", \"Topic5\", \"Topic5\", \"Topic5\", \"Topic5\", \"Topic5\"], \"logprob\": [30.0, 29.0, 28.0, 27.0, 26.0, 25.0, 24.0, 23.0, 22.0, 21.0, 20.0, 19.0, 18.0, 17.0, 16.0, 15.0, 14.0, 13.0, 12.0, 11.0, 10.0, 9.0, 8.0, 7.0, 6.0, 5.0, 4.0, 3.0, 2.0, 1.0, -6.3733, -5.0384, -6.7703, -6.8693, -6.9706, -6.4833, -6.8364, -6.3709, -6.7255, -5.6043, -7.2145, -6.7353, -6.8322, -6.0484, -7.378, -5.4856, -6.5298, -6.5361, -5.509, -6.1516, -4.7663, -4.4209, -4.9946, -5.4951, -5.741, -5.312, -6.7303, -5.7684, -6.0553, -6.6344, -4.5428, -4.0638, -4.4217, -5.4011, -5.5402, -4.7246, -5.2945, -5.3315, -4.4432, -5.6975, -4.3622, -4.3219, -4.9479, -4.364, -5.2446, -5.3621, -5.0313, -5.3813, -4.4336, -5.1981, -4.5236, -4.1893, -4.8088, -4.781, -4.8972, -4.7933, -5.0214, -4.8594, -4.8353, -5.1036, -4.738, -4.8254, -4.9082, -4.9994, -4.9916, -5.6602, -6.7011, -6.4602, -5.6209, -6.4991, -6.0062, -5.85, -5.5561, -5.9582, -5.2986, -6.166, -6.3986, -6.0662, -6.1052, -6.402, -4.9805, -6.0208, -5.105, -5.9674, -5.8426, -6.4943, -4.2688, -4.8527, -5.3743, -4.8356, -4.738, -6.5754, -6.6357, -4.6753, -7.0513, -5.4861, -5.0682, -4.0162, -3.9193, -3.7575, -5.1154, -4.4136, -5.2969, -4.6252, -5.1389, -4.0504, -5.2348, -4.4858, -5.4241, -4.8548, -4.7881, -4.879, -4.4469, -4.8419, -4.5137, -4.8243, -4.7982, -4.79, -4.7994, -5.0809, -5.172, -5.1499, -5.0489, -3.6123, -6.7883, -6.0881, -5.4677, -4.9298, -7.2083, -5.5985, -6.0706, -5.2282, -5.7804, -4.6435, -5.7291, -6.8656, -5.5178, -4.8371, -6.8331, -6.1146, -5.4358, -6.3946, -6.1724, -6.6068, -4.949, -5.5446, -6.3156, -6.2011, -5.8803, -6.977, -7.2479, -6.3474, -4.9722, -6.0368, -4.3825, -5.0493, -4.4262, -5.3177, -4.6607, -5.5122, -4.7219, -4.7201, -5.2216, -4.6796, -4.8614, -5.6565, -5.1641, -5.2894, -4.7638, -4.512, -5.3711, -5.0237, -5.2726, -4.984, -4.8527, -5.2439, -5.0504, -5.0627, -5.0272, -5.1691, -5.1325, -5.9437, -4.002, -6.2952, -6.1374, -5.5564, -6.3676, -5.3058, -5.2026, -6.2719, -5.9356, -5.876, -5.0108, -6.0835, -6.4876, -6.7352, -4.4303, -4.7268, -4.5285, -5.334, -5.2844, -5.539, -6.7791, -5.6689, -6.3466, -5.9342, -5.2332, -5.2775, -6.4272, -5.1191, -6.4485, -4.5497, -5.7551, -5.5758, -4.6902, -3.7619, -5.4314, -4.4403, -4.0202, -3.5797, -5.1581, -4.9403, -5.2023, -4.3746, -4.7086, -4.4874, -4.7437, -5.1921, -4.9444, -5.0481, -5.2185, -5.1277, -5.1112, -5.1267, -5.2068, -5.5585, -5.5576, -4.6671, -4.3876, -5.7405, -5.2195, -5.4379, -5.8984, -6.1998, -5.287, -5.8536, -4.7986, -4.8261, -6.5424, -5.4034, -4.5329, -3.634, -5.9397, -5.0678, -6.6131, -6.8904, -5.5569, -6.3781, -5.9162, -5.4438, -5.0647, -6.0691, -6.3735, -6.0129, -5.6838, -5.3909, -4.2001, -4.8085, -4.2109, -5.6927, -4.5738, -4.0372, -4.1353, -4.3259, -4.836, -4.7556, -5.0846, -4.7454, -4.8946, -4.9418, -4.509, -4.5955, -4.8477, -4.866, -4.7351, -4.9253, -4.9453, -5.1287, -5.1049], \"loglift\": [30.0, 29.0, 28.0, 27.0, 26.0, 25.0, 24.0, 23.0, 22.0, 21.0, 20.0, 19.0, 18.0, 17.0, 16.0, 15.0, 14.0, 13.0, 12.0, 11.0, 10.0, 9.0, 8.0, 7.0, 6.0, 5.0, 4.0, 3.0, 2.0, 1.0, 1.2867, 1.2611, 1.2207, 1.2204, 1.2201, 1.2193, 1.2121, 1.21, 1.2062, 1.2027, 1.1956, 1.177, 1.1611, 1.1579, 1.155, 1.1488, 1.1407, 1.1394, 1.1275, 1.1274, 1.12, 1.1136, 1.1129, 1.1092, 1.1077, 1.0919, 1.0906, 1.0814, 1.0624, 1.0467, 1.0217, 0.9887, 0.9819, 1.0309, 1.0284, 0.9177, 0.9871, 0.9437, 0.7626, 0.988, 0.7127, 0.6906, 0.8203, 0.6853, 0.8827, 0.9047, 0.7741, 0.8838, 0.5665, 0.8196, 0.4391, 0.1556, 0.3822, 0.3279, 0.4338, 0.3152, 0.517, 0.2772, 0.0316, 0.4798, -0.2071, -0.1139, -0.0046, 0.2256, 0.1948, 1.5096, 1.4274, 1.3996, 1.3896, 1.3503, 1.3433, 1.3291, 1.3227, 1.3157, 1.3048, 1.2908, 1.2898, 1.2771, 1.2637, 1.2632, 1.2398, 1.2219, 1.2058, 1.2055, 1.1905, 1.1902, 1.1837, 1.1774, 1.1714, 1.1658, 1.1496, 1.1266, 1.1234, 1.1204, 1.1192, 1.1134, 1.0973, 1.0014, 0.9462, 0.859, 1.0129, 0.8056, 1.0345, 0.7453, 0.9157, 0.4805, 0.9376, 0.6227, 0.9977, 0.7244, 0.6913, 0.7045, 0.42, 0.5199, 0.1977, 0.3621, 0.2513, 0.1912, 0.1633, 0.4064, 0.6667, 0.5345, -0.1453, 1.5268, 1.5194, 1.5032, 1.5023, 1.5023, 1.4951, 1.4714, 1.4564, 1.4462, 1.4411, 1.4394, 1.4153, 1.4052, 1.403, 1.3886, 1.3811, 1.3657, 1.3642, 1.3636, 1.3598, 1.3449, 1.3295, 1.3212, 1.3114, 1.3024, 1.3021, 1.2957, 1.275, 1.2684, 1.268, 1.2627, 1.1626, 1.1914, 1.147, 1.1847, 1.0409, 1.1734, 0.9901, 0.8773, 0.9915, 0.7762, 0.7808, 1.0982, 0.8048, 0.8477, 0.3728, 0.0189, 0.7653, 0.2013, 0.6026, -0.1172, -0.5078, 0.4311, -0.185, -0.1591, -0.3157, 0.1619, -0.0235, 1.786, 1.786, 1.7797, 1.7703, 1.7576, 1.7564, 1.7327, 1.7112, 1.7105, 1.7053, 1.7012, 1.6998, 1.6922, 1.6892, 1.6679, 1.6646, 1.6645, 1.6499, 1.6013, 1.6008, 1.588, 1.5848, 1.5589, 1.5426, 1.5247, 1.5086, 1.5077, 1.4796, 1.473, 1.4709, 1.4392, 1.4637, 1.4552, 1.3862, 1.2193, 1.4278, 1.1741, 1.0294, 0.7651, 1.2616, 1.0286, 1.1742, 0.242, 0.5106, 0.2241, 0.4474, 0.8625, 0.0732, 0.1382, 0.4589, -0.0528, -0.1485, -0.2598, -0.6759, 1.9708, 1.9526, 1.9462, 1.9138, 1.9124, 1.8651, 1.818, 1.7585, 1.7274, 1.7202, 1.7133, 1.7112, 1.6833, 1.6565, 1.6064, 1.5952, 1.5935, 1.5859, 1.5803, 1.5521, 1.5426, 1.5092, 1.4885, 1.4803, 1.4578, 1.4527, 1.4383, 1.4294, 1.4227, 1.4032, 1.3515, 1.2108, 1.2511, 1.1509, 1.3678, 1.1106, 0.8663, 0.8647, 0.7234, 0.7432, 0.6749, 0.9178, 0.5856, 0.7286, 0.7003, -0.1641, -0.0646, 0.3582, 0.3251, -0.0236, 0.1837, 0.0672, 0.6767, 0.4335]}, \"token.table\": {\"Topic\": [1, 2, 3, 4, 5, 1, 2, 4, 5, 1, 2, 3, 4, 1, 2, 3, 4, 5, 1, 2, 3, 4, 5, 1, 2, 3, 4, 5, 1, 2, 3, 4, 5, 1, 2, 3, 4, 5, 1, 2, 3, 4, 5, 1, 3, 4, 5, 1, 2, 3, 4, 5, 1, 2, 3, 4, 1, 2, 3, 4, 5, 1, 2, 3, 4, 5, 1, 2, 3, 4, 5, 1, 2, 3, 1, 2, 3, 4, 5, 1, 2, 3, 4, 5, 1, 2, 3, 4, 5, 1, 3, 5, 1, 2, 3, 4, 5, 1, 2, 3, 4, 1, 2, 3, 4, 5, 1, 2, 3, 4, 5, 1, 2, 3, 4, 5, 1, 2, 3, 4, 5, 1, 2, 3, 4, 5, 1, 2, 3, 4, 5, 1, 2, 3, 4, 5, 2, 4, 5, 1, 2, 3, 4, 5, 1, 2, 3, 4, 5, 1, 2, 3, 4, 1, 2, 3, 4, 5, 1, 2, 3, 4, 5, 1, 2, 3, 4, 5, 1, 2, 3, 4, 5, 1, 2, 3, 4, 5, 1, 2, 3, 4, 5, 1, 3, 4, 5, 1, 2, 3, 4, 5, 1, 2, 3, 4, 5, 1, 2, 3, 4, 5, 1, 2, 3, 4, 5, 1, 2, 3, 4, 5, 1, 2, 3, 4, 5, 1, 3, 4, 5, 1, 2, 3, 4, 5, 1, 2, 3, 4, 5, 1, 2, 3, 4, 5, 1, 2, 3, 4, 5, 1, 2, 4, 5, 1, 3, 4, 5, 1, 2, 3, 4, 5, 1, 2, 3, 4, 5, 1, 2, 3, 4, 5, 1, 2, 3, 4, 5, 1, 2, 3, 4, 5, 1, 2, 3, 4, 5, 1, 2, 3, 4, 5, 1, 2, 3, 4, 5, 1, 2, 3, 5, 1, 2, 3, 4, 5, 1, 2, 3, 4, 5, 1, 2, 3, 5, 1, 2, 3, 4, 5, 1, 3, 4, 5, 1, 2, 3, 4, 5, 1, 2, 3, 4, 5, 1, 2, 3, 4, 5, 1, 2, 3, 4, 5, 1, 2, 3, 4, 5, 3, 5, 1, 2, 3, 4, 5, 1, 2, 3, 4, 5, 1, 2, 3, 5, 1, 2, 3, 4, 1, 3, 4, 1, 2, 3, 4, 5, 1, 2, 3, 4, 5, 1, 2, 3, 4, 5, 1, 2, 3, 4, 5, 1, 2, 3, 4, 5, 1, 2, 3, 4, 5, 1, 2, 3, 4, 5, 1, 2, 3, 4, 5, 1, 2, 3, 4, 5, 1, 2, 3, 4, 5, 1, 2, 3, 4, 5, 1, 2, 3, 4, 5, 1, 2, 4, 5, 1, 2, 3, 4, 5, 1, 3, 5, 1, 2, 3, 4, 5, 1, 2, 3, 4, 5, 1, 2, 4, 5, 1, 2, 3, 4, 5, 1, 2, 3, 4, 5, 1, 2, 3, 4, 5, 1, 2, 3, 4, 5, 1, 2, 3, 4, 5, 1, 2, 3, 4, 5, 1, 2, 3, 4, 5, 1, 2, 3, 4, 5, 1, 2, 3, 4, 5, 1, 2, 3, 4, 5, 1, 2, 3, 4, 5, 1, 2, 3, 4, 5, 1, 2, 3, 4, 5, 1, 3, 5, 1, 2, 3, 4, 5, 1, 2, 3, 4, 5, 1, 3, 4, 1, 2, 3, 4, 5, 1, 2, 4, 5, 1, 2, 3, 4, 5, 2, 4, 1, 2, 3, 4, 5, 1, 2, 3, 4, 5, 1, 2, 3, 4, 5, 1, 2, 3, 4, 5, 1, 2, 3, 4, 5, 1, 2, 3, 4, 5, 1, 2, 3, 4, 5, 1, 2, 3, 4, 5, 1, 2, 3, 4, 5, 1, 2, 3, 4, 5, 1, 2, 3, 4, 5, 1, 2, 3, 4, 5, 1, 2, 3, 4, 5, 1, 2, 3, 4, 5, 1, 2, 3, 4, 5, 1, 2, 3, 4, 5, 1, 2, 3, 5, 1, 2, 3, 4, 5, 1, 2, 3, 4, 5, 1, 2, 3, 4, 5, 1, 2, 3, 4, 5, 1, 2, 3, 4, 5, 1, 2, 3, 4, 5, 1, 2, 3, 4, 5, 1, 2, 3, 4, 5, 1, 2, 3, 4, 5, 1, 2, 3, 4, 5, 1, 2, 3, 4, 5, 1, 2, 3, 4, 5, 1, 2, 3, 4, 5, 1, 2, 3, 4, 5, 1, 2, 3, 4, 5, 1, 2, 3, 4, 5, 1, 2, 3, 4, 5, 1, 2, 3, 4, 5, 1, 2, 3, 4, 5, 1, 2, 3, 4, 5, 1, 2, 3, 4, 5, 1, 2, 3, 4, 5, 1, 2, 3, 4, 5, 1, 2, 3, 4, 5, 1, 2, 3, 4, 5, 1, 2, 3, 4, 5, 1, 2, 3, 4, 5, 1, 2, 3, 4, 5, 1, 2, 3, 4, 5, 1, 2, 3, 4, 5, 1, 2, 4, 5, 1, 2, 3, 4, 5, 1, 2, 3, 4, 5, 1, 2, 3, 4, 5, 1, 2, 3, 4, 5, 1, 2, 3, 4, 5, 1, 2, 3, 4, 5, 1, 2, 3, 4, 5, 1, 2, 3, 4, 5, 1, 2, 3, 4, 5, 1, 2, 3, 4, 5, 1, 2, 3, 4, 5, 1, 2, 3, 4, 5, 1, 2, 3, 4, 5, 1, 2, 3, 4, 5, 1, 2, 3, 4, 5, 1, 2, 3, 4, 5, 1, 2, 3, 4, 5, 1, 3, 4, 5, 1, 2, 3, 4, 5, 1, 2, 3, 4, 5, 1, 2, 3, 4, 5, 1, 2, 3, 4, 5, 1, 2, 3, 4, 5, 1, 2, 3, 4, 5, 1, 2, 3, 4, 5, 1, 2, 4, 5, 1, 2, 3, 4, 5, 1, 2, 3, 4, 5, 1, 2, 3, 4, 5, 1, 2, 3, 4, 5, 1, 2, 3, 4, 5, 1, 2, 3, 4, 5, 1, 2, 3, 4, 5, 1, 2, 3, 4, 5, 1, 2, 3, 4, 5, 1, 2, 3, 4, 5, 1, 2, 3, 4, 5, 1, 2, 3, 4, 5, 1, 2, 3, 4, 5, 1, 2, 3, 4, 5, 1, 2, 3, 4, 5, 1, 2, 3, 4, 5, 1, 2, 3, 4, 5, 1, 2, 3, 4, 5, 1, 3, 1, 3, 5, 1, 2, 3, 4, 5, 1, 2, 3, 4, 5, 1, 2, 3, 4, 5, 1, 2, 3, 4, 5, 1, 2, 3, 4, 5, 1, 2, 3, 4, 5, 1, 2, 3, 4, 5, 1, 3, 4, 5, 1, 2, 3, 4, 5, 1, 2, 3, 4, 5, 1, 2, 3, 4, 5, 1, 2, 3, 4, 5, 1, 2, 3, 4, 5, 1, 2, 3, 4, 5, 1, 2, 3, 4, 5, 1, 2, 3, 4, 5, 1, 2, 3, 4, 1, 2, 3, 4, 5, 1, 2, 3, 4, 5, 1, 2, 3, 4, 1, 2, 3, 4, 5, 1, 2, 3, 4, 5, 1, 2, 3, 5, 1, 2, 3, 4, 5, 1, 2, 3, 4, 5, 1, 2, 3, 4, 5, 1, 2, 3, 4, 5, 1, 2, 3, 4, 5], \"Freq\": [0.006199701819034981, 0.024798807276139923, 0.7687630255603376, 0.030998509095174903, 0.16739194911394448, 0.15196491160558784, 0.7767095482063378, 0.06078596464223513, 0.006753996071359459, 0.023425443686244714, 0.011712721843122357, 0.7449291092225819, 0.21551408191345137, 0.6740366597878459, 0.04734783693672078, 0.005360132483402353, 0.10541593884024628, 0.16795081781327373, 0.2779129092877147, 0.33427718548670354, 0.18760664194699914, 0.12671676692911346, 0.07343812628846348, 0.21632036287050324, 0.13726352342786954, 0.03475025909566317, 0.5312445859249507, 0.08079435239741688, 0.4177035431748369, 0.25877243894245994, 0.13697053854784624, 0.14149849023537836, 0.045053119290944466, 0.09440885729600897, 0.08301468486373202, 0.003255477837793413, 0.8138694594483532, 0.004883216756690119, 0.07028743981378656, 0.18596885117397696, 0.4532075546326446, 0.1903618161623386, 0.09957387306953097, 0.01039386208621641, 0.013858482781621878, 0.7160216103837971, 0.2586916785902751, 0.05874609054398714, 0.7881767147984942, 0.03426855281732583, 0.06608935186198553, 0.053850582998654875, 0.8420147934373716, 0.0033952209412797243, 0.07809008164943367, 0.07469486070815394, 0.911581072071388, 0.0035060810464284157, 0.05609729674285465, 0.024542567324998908, 0.0035060810464284157, 0.003296038895465721, 0.03296038895465721, 0.013184155581862884, 0.9031146573576075, 0.04614454453652009, 0.000516738607910542, 0.017569112668958428, 0.001033477215821084, 0.9797364005983876, 0.001033477215821084, 0.10156882089582711, 0.00125393606044231, 0.8965642832162517, 0.026972544335511016, 0.7175435767063342, 0.054314575579727666, 0.08867685808935129, 0.11269350715521727, 0.027650350395012423, 0.7984038676559837, 0.04838811319127174, 0.03456293799376553, 0.08986363878379038, 0.11147202203099091, 0.0716605855913513, 0.7564172923531526, 0.055736011015495454, 0.007962287287927921, 0.035425590421646114, 0.9476345437790336, 0.016728751032444, 0.3375457719909439, 0.1612685989982888, 0.25808861555018114, 0.10211716031460988, 0.1412571670058004, 0.9032635587379413, 0.03414398331999091, 0.06207996967271074, 0.003103998483635537, 0.006995475323562365, 0.033228507786921234, 0.08919231037542016, 0.11192760517699785, 0.7590090726065166, 0.008308634466536005, 0.8308634466536006, 0.13709246869784408, 0.002077158616634001, 0.022848744782974016, 0.0676677108002909, 0.05350470156302071, 0.22346081241026297, 0.06924137849332092, 0.5838307141141378, 0.05882307975460627, 0.0029411539877303135, 0.9058754282209366, 0.03235269386503345, 0.0029411539877303135, 0.026320931295093775, 0.8808738340091383, 0.06667969261423756, 0.0017547287530062516, 0.024566202542087523, 0.006153005652163412, 0.8245027573898973, 0.02922677684777621, 0.06460655934771584, 0.07691257065204266, 0.02452743593176782, 0.810573358887946, 0.005839865698039957, 0.02335946279215983, 0.136652857334135, 0.04718267451545725, 0.001179566862886431, 0.9507308914864635, 0.009110095102668924, 0.08502755429157663, 0.7910599247484182, 0.11083949041580525, 0.004555047551334462, 0.12874275110063046, 0.4533254525725783, 0.05493583190287488, 0.0775811366567317, 0.28558245439586105, 0.005087017454679819, 0.020348069818719276, 0.005087017454679819, 0.9716203338438455, 0.005533856610387104, 0.059291320825576116, 0.5684061289811897, 0.1225353963728573, 0.2442802418013736, 0.10651323489266284, 0.01521617641323755, 0.6821919091934835, 0.1483577200290661, 0.04691654394081578, 0.03250964639545555, 0.030961567995671953, 0.03715388159480634, 0.8142892382861724, 0.08514431198809788, 0.4744876765608044, 0.033371594884415164, 0.12714107628499016, 0.04230202168446993, 0.322435409728293, 0.027218383089482538, 0.08565785266395974, 0.8461714978112659, 0.0320216271640971, 0.00960648814922913, 0.03515333661720671, 0.7783953108095772, 0.052730004925810064, 0.12052572554470872, 0.01506571569308859, 0.003136415525564605, 0.9471974887205106, 0.04077340183233986, 0.00627283105112921, 0.8962216978089168, 0.058698226214322025, 0.022906624864125667, 0.018611632702102105, 0.0028633281080157084, 0.17331647761375865, 0.375053130320096, 0.02422703450514906, 0.015374848820575365, 0.4123254910972484, 0.09446266089618605, 0.1344541523704838, 0.05791871179036225, 0.6571015754311337, 0.05585018636927788, 0.1001463143383749, 0.05660443853908147, 0.12191725223802162, 0.7140867631084123, 0.004354187579929344, 0.12593805580439543, 0.28249634478476154, 0.08321789177662993, 0.4597973723682045, 0.04864666077150177, 0.5774386818730499, 0.10624871746464118, 0.07362343193881386, 0.04850484927733619, 0.1943081164502813, 0.8891603442502448, 0.04267969652401175, 0.028453131016007834, 0.028453131016007834, 0.16856539371084786, 0.08212160206425922, 0.03025532707630603, 0.708839091502027, 0.008644379164658865, 0.12324321105184846, 0.19397409739464844, 0.07501760672721211, 0.026792002402575753, 0.5808506120878423, 0.4155478624627008, 0.04842605011376356, 0.24801990531238363, 0.043845207535434576, 0.24376626577536387, 0.5370736850985468, 0.13492280879524857, 0.11993138559577651, 0.06258324288033576, 0.14515505002663429, 0.06531528738211709, 0.009558334738846402, 0.909634855980216, 0.01593055789807734, 0.9138616777463506, 0.015489180978751706, 0.005163060326250569, 0.06711978424125739, 0.09184592306196872, 0.438735070494363, 0.22809669322414547, 0.11461763952361387, 0.1267625549698246, 0.06900498228516308, 0.051260843983264005, 0.02168728014676554, 0.8044009363527582, 0.051260843983264005, 0.026311647424349986, 0.5491713077800228, 0.016866440656634608, 0.38927745035512673, 0.01889041353543076, 0.11389141141841927, 0.020853357020273952, 0.8581958466035818, 0.004812313158524758, 0.0016041043861749194, 0.25336265553631987, 0.009578928375664267, 0.5680304526768911, 0.14559971131009689, 0.023468374520377457, 0.29346581269678046, 0.03721486755212796, 0.2006058574714707, 0.013113810470749852, 0.45579352068606244, 0.08908728885609805, 0.1781745777121961, 0.03340773332103677, 0.06124751108856741, 0.6403148886532047, 0.0069082067055909685, 0.06735501537951194, 0.0008635258381988711, 0.004317629190994356, 0.9205185435199966, 0.2936097250838341, 0.015154050326907566, 0.13638645294216808, 0.5531228369321262, 0.24299484808450134, 0.12598151174855518, 0.5073424947704527, 0.02989391804203004, 0.09395231384638013, 0.04835646683097283, 0.3590101325329801, 0.492356753188087, 0.05714855170933153, 0.04249507691206703, 0.2855176631675494, 0.002884016799672216, 0.1384328063842664, 0.5710353263350988, 0.03564383079921068, 0.797873443274639, 0.10967332553603286, 0.04661116335281396, 0.010967332553603286, 0.054000501377791894, 0.9180085234224622, 0.026069207561692637, 0.0018620862544066169, 0.2225525078476983, 0.005685648010707621, 0.749693301983305, 0.0008122354301010888, 0.021930356612729397, 0.01435938795232123, 0.723354168098182, 0.15256849699341307, 0.034103546386762926, 0.07718171024372661, 0.2442943592301056, 0.011255883445755718, 0.6645140078716524, 0.0579469555170387, 0.02209488231944641, 0.12601762663575916, 0.6738297887052577, 0.02239156175759357, 0.038534315582835446, 0.13955671048918783, 0.6115318679466374, 0.05167874940394119, 0.29588617305785936, 0.006079852871051904, 0.03445249960262746, 0.28218237600060336, 0.7140941760015269, 0.02225775691938183, 0.6751519598879155, 0.011128878459690916, 0.133546541516291, 0.15951392458890312, 0.7229723157108616, 0.07449831824655248, 0.008465717982562782, 0.13460491592274823, 0.05926002587793947, 0.16678353420980963, 0.0037063007602179915, 0.8265050695286121, 0.0037063007602179915, 0.2080297969105342, 0.0065009311534541935, 0.7833622039912302, 0.0032504655767270968, 0.026962985367721917, 0.9470748610412323, 0.023592612196756676, 0.040930035341979684, 0.6183994470146931, 0.2607065294608706, 0.04537895222697747, 0.03470155170298277, 0.010874680894231345, 0.7049351967907613, 0.24180172811879108, 0.01599217778563433, 0.026227171568440302, 0.0048608352741811986, 0.0013502320206058886, 0.9710868692197551, 0.015662691439028306, 0.00702120650715062, 0.19014535039586658, 0.3442047218844884, 0.14434391562897902, 0.26000410443425065, 0.06153122044440452, 0.03366931738513301, 0.1530423517506046, 0.01530423517506046, 0.04591270552518138, 0.7529683706129747, 0.9506622495037707, 0.013790204888540644, 0.011204541471939273, 0.015513980499608225, 0.009480765860871692, 0.04427150163828332, 0.3781524098270033, 0.014757167212761105, 0.02951433442552221, 0.533102665560995, 0.7546423491847977, 0.0009838883300975199, 0.21743932095155188, 0.0039355533203900795, 0.023613319922340475, 0.05998594571911961, 0.15280203740613577, 0.6748418893400956, 0.05795939349887908, 0.05471690994649424, 0.24013097483938747, 0.12294705911776639, 0.1472803312348243, 0.14920137903353942, 0.34002546037257264, 0.6519928112439108, 0.2681247576252098, 0.02997668097673153, 0.020817139567174674, 0.029143995394044546, 0.8149584566207809, 0.0014925979058988661, 0.07761509110674104, 0.10448185341292063, 0.0014925979058988661, 0.020374984376363557, 0.06791661458787852, 0.8014160521369667, 0.10866658334060564, 0.16696210840007564, 0.13321911011449605, 0.23488632572819038, 0.18317627640743206, 0.2813377259654818, 0.8526097620108832, 0.12065232481286084, 0.016086976641714778, 0.042938388770212825, 0.9178080599632992, 0.021469194385106413, 0.016101895788829812, 0.005367298596276603, 0.18430790340389805, 0.06888275177721442, 0.08284547173205518, 0.5315142062809384, 0.13218041557249255, 0.046379873644681706, 0.018551949457872682, 0.9090455234357615, 0.023189936822340853, 0.20868701469699244, 0.19682558579769624, 0.4585183608884186, 0.04299767975994871, 0.09266741327575154, 0.02210354892337055, 0.6689231911020035, 0.25477248495885, 0.03839037444585411, 0.01628682552248356, 0.13652598082168266, 0.6049262873641577, 0.10602549574449822, 0.09948967751367299, 0.05301274787224911, 0.1104961250891553, 0.5979227548114464, 0.06624984123310826, 0.17674596632226355, 0.04855132769068945, 0.07139182757583847, 0.4915502882270845, 0.07197700649039451, 0.2735711425549548, 0.09128791067074427, 0.003768927001846618, 0.6580546545224195, 0.2570408215259393, 0.02789005981366497, 0.05351876342622197, 0.8318128817350904, 0.0012072755903266915, 0.04466919684208758, 0.0012072755903266915, 0.12193483462299584, 0.22500048339978235, 0.5961051767994233, 0.027272785866640285, 0.07013002079993216, 0.08181835759992086, 0.016030637492883155, 0.005343545830961052, 0.005343545830961052, 0.9511511579110672, 0.021374183323844206, 0.02452627432275193, 0.6762244206130176, 0.07007506949357695, 0.2242402223794462, 0.003503753474678847, 0.008747313187345509, 0.08941697924842075, 0.015550778999725349, 0.580238441427252, 0.3061559615570928, 0.22945901402650767, 0.05736475350662692, 0.013070450166066892, 0.030497717054156083, 0.6694975029507597, 0.017005842637113026, 0.07558152283161346, 0.008502921318556513, 0.8672979744927644, 0.032122147203435716, 0.8579462101730148, 0.10782930510371225, 0.03281761459678199, 0.0034429265599157013, 0.7230145775822973, 0.09295901711772393, 0.010328779679747104, 0.17214632799578508, 0.03968768115071835, 0.7088660827753305, 0.0672485708387172, 0.1488288043151938, 0.03527793880063853, 0.11756768568054456, 0.8601004373471418, 0.01856331879166493, 0.2561251385884535, 0.023284103508041224, 0.005373254655701821, 0.7038963598969386, 0.012537594196637582, 0.002057728269113528, 0.993882753981834, 0.002057728269113528, 0.002057728269113528, 0.11345604944848671, 0.09804843779498852, 0.015407611653498196, 0.742366743304913, 0.03221591527549623, 0.030128225321641985, 0.9641032102925435, 0.25299983252740055, 0.20276129435410245, 0.1864970194059124, 0.0914413680420462, 0.2667341091503166, 0.753536049391364, 0.025945103497008043, 0.0721950706003702, 0.005640239890653922, 0.14326209322260963, 0.10504285498543144, 0.693625373952713, 0.09705046384523557, 0.0799239114019587, 0.024548058502030172, 0.1393636935536888, 0.04539877896067135, 0.6894279688678695, 0.04328720784622152, 0.08235127346354337, 0.3627523588975738, 0.004746292546323395, 0.14713506893602527, 0.010848668677310618, 0.47462925463233957, 0.09029913098099175, 0.15049855163498624, 0.004299958618142464, 0.722393047847934, 0.03439966894513971, 0.1442722396676852, 0.1307006179402547, 0.033338983808687994, 0.02330778514058718, 0.6682548524484805, 0.0991411892356924, 0.19002061270174378, 0.09087942346605137, 0.016523531539282068, 0.6031089011837955, 0.10729739102119687, 0.0925439997557823, 0.001341217387764961, 0.7430344328217884, 0.05633113028612836, 0.16544004176909843, 0.5187418153824878, 0.03683563369495899, 0.20916233741572365, 0.06998770402042208, 0.1495192461134163, 0.5608869181614956, 0.01593859983950123, 0.22238141680827905, 0.050851723297456304, 0.16232565585653816, 0.6716923690615373, 0.06157180049730758, 0.09515641895038444, 0.011194872817692287, 0.04287692034893722, 0.15632210543883363, 0.460480259164107, 0.06654855345824631, 0.2737870018114429, 0.6112380323134653, 0.10794203549365451, 0.15736128065942404, 0.09753798387980829, 0.026010129034615546, 0.14287696080292459, 0.008242901584784112, 0.09341955129421993, 0.7555993119385436, 0.0027476338615947038, 0.5491165396315043, 0.12182890016732176, 0.056482005690878904, 0.15576876008919519, 0.11650996689598339, 0.9743244863320146, 0.0067194792160828595, 0.0067194792160828595, 0.010079218824124289, 0.164776365164046, 0.033800280033650466, 0.02112517502103154, 0.768956370765548, 0.012675105012618924, 0.7934402583855994, 0.017930853296849705, 0.08367731538529861, 0.0014942377747374754, 0.1031024064568858, 0.718796963922947, 0.03729440928821948, 0.04116458383699697, 0.09464335942010414, 0.10801305331588093, 0.023836783107671056, 0.049840546497857664, 0.8906288961138913, 0.019502822542639957, 0.015168861977608854, 0.18552925598401804, 0.32974478073860525, 0.21804469259977377, 0.12432372823671312, 0.14192031746406328, 0.8201322937525913, 0.026869859990916192, 0.09544815937071723, 0.02165630506730559, 0.03609384177884265, 0.0017533963609415461, 0.07364264715954494, 0.03331453085788938, 0.21391435603486864, 0.6768109953234368, 0.747979969214226, 0.016943192672808437, 0.03925861716870247, 0.006611977628413048, 0.18926785961332349, 0.800999542771958, 0.01183743166658066, 0.027620673888688205, 0.05524134777737641, 0.10259107444369904, 0.008120042670112878, 0.8485444590267956, 0.11774061871663671, 0.02436012801033863, 0.004060021335056439, 0.02216765351311518, 0.8423708334983769, 0.034483016575956954, 0.09852290450273414, 0.0024630726125683534, 0.030987924495805147, 0.7459236110775953, 0.1660067383703847, 0.03984161720889233, 0.01770738542617437, 0.008327685980933131, 0.027758953269777103, 0.8896744522963561, 0.061763671025254055, 0.012491528971399695, 0.24037383443631125, 0.267669031753255, 0.15390969325812165, 0.20550642108950568, 0.13260182954618488, 0.802697934331187, 0.012437512689279418, 0.0679279539183722, 0.07749527137166407, 0.04018273330382581, 0.9067210721196435, 0.0049547599569379425, 0.04459283961244148, 0.02477379978468971, 0.014864279870813827, 0.8734049305446282, 0.034590294278995175, 0.012971360354623191, 0.017295147139497587, 0.06485680177311597, 0.025119010029549846, 0.819793145509854, 0.07078993735600411, 0.05708865915806783, 0.02740255639587256, 0.0037719759487179734, 0.02263185569230784, 0.06789556707692351, 0.8901863238974417, 0.015087903794871894, 0.36905230713730114, 0.40938875518495504, 0.020692073998471817, 0.11655661935848048, 0.0840779209304994, 0.19379601548779238, 0.0038759203097558474, 0.228679298275595, 0.007751840619511695, 0.5658843652243537, 0.6922809272004542, 0.05972289894438912, 0.1186046302980122, 0.021870357359917145, 0.10766945161805362, 0.7226550181119183, 0.021552868961232652, 0.2358137427523102, 0.0012678158212489795, 0.017749421497485714, 0.13002766726205386, 0.03169424389512562, 0.6948353469316003, 0.02600553345241077, 0.11702490053584846, 0.00584760201665876, 0.08186642823322264, 0.8420546903988615, 0.0584760201665876, 0.01754280604997628, 0.0804447220151107, 0.028730257862539535, 0.7757169622885675, 0.05458748993882512, 0.06033354151133302, 0.4928219170774004, 0.015224475699187428, 0.38568671771274815, 0.09021911525444401, 0.01635221463986798, 0.038351756993291575, 0.7339131679170797, 0.16560985974375908, 0.027892186904212055, 0.03486523363026507, 0.06978992358544861, 0.008052683490628687, 0.34223904835171914, 0.056368784434400805, 0.5247665408059694, 0.0033356227574762977, 0.026684982059810382, 0.0066712455149525954, 0.04669871860466817, 0.9206318810634582, 0.0036023948204332882, 0.0072047896408665765, 0.9798513911578545, 0.010807184461299866, 0.5342275685523897, 0.025921393113678796, 0.053324008690996384, 0.1064011469713863, 0.279951045627731, 0.3273002057765457, 0.31540867580888576, 0.08409010477130976, 0.18856568948717947, 0.08437323643720643, 0.11509928194352578, 0.00842189867879457, 0.828153370081466, 0.00842189867879457, 0.03930219383437466, 0.2680191421105533, 0.1899180226738793, 0.17988864394840479, 0.03905055971833698, 0.323074029582307, 0.355313161744407, 0.16997923052367006, 0.3062858717993865, 0.04498657923526609, 0.12364574771848584, 0.1599943812101874, 0.04641058386249711, 0.13068243350755765, 0.0024426623085524795, 0.6595188233091694, 0.8193599924599088, 0.0014224999869095639, 0.03911874964001301, 0.017069999842914765, 0.12304624886767727, 0.013743283229914357, 0.058790711594633636, 0.06489883747459557, 0.8551376231946711, 0.00763515734995242, 0.0065420847831712346, 0.002180694927723745, 0.0436138985544749, 0.7806887841251007, 0.16791350943472835, 0.007744353999607956, 0.35107738131556065, 0.030977415998431825, 0.012907256666013259, 0.5963152579698127, 0.031249863955878966, 0.07336924580945496, 0.6331494175408521, 0.2065208400562436, 0.05570627922569729, 0.008204925679333081, 0.8902344362076394, 0.05743447975533157, 0.016409851358666162, 0.024614777037999247, 0.899276455204909, 0.004408217917671122, 0.0793479225180802, 0.004408217917671122, 0.008816435835342244, 0.09012579994744752, 0.00563286249671547, 0.00563286249671547, 0.8899922744810442, 0.00563286249671547, 0.0526045084071134, 0.035543586761563106, 0.8260329563387266, 0.054026251877575926, 0.03270009982063806, 0.018055949627421804, 0.07222379850968721, 0.8686917987415157, 0.006018649875807268, 0.03611189925484361, 0.03423282864580935, 0.7129644889117601, 0.10138183868182, 0.1369313145832374, 0.013824796183884547, 0.19607690226782054, 0.7489494791541342, 0.051430007152215226, 0.0032143754470134516, 0.08360433288590467, 0.5659212213775611, 0.1754253078244781, 0.09284805519515703, 0.08216642052668763, 0.03529768876549526, 0.022912534812689903, 0.471874365601884, 0.45948921164907863, 0.01052738085988455, 0.3736982144356985, 0.1700772378462611, 0.20597952071981698, 0.08700407236511354, 0.16326366591405342, 0.0022429124326114073, 0.0314007740565597, 0.047101161084839555, 0.08298776000662207, 0.8366063373640549, 0.011337967259143798, 0.011337967259143798, 0.09259339928300768, 0.007558644839429199, 0.8768028013737871, 0.7792999006101609, 0.015625060663862874, 0.005859397748948578, 0.015625060663862874, 0.18164133021740592, 0.036626958326124816, 0.7588150279303685, 0.04618181701989651, 0.13854545105968952, 0.019109717387543385, 0.0028921514066290797, 0.0028921514066290797, 0.037597968286178035, 0.9573021155942254, 0.7236649438185507, 0.0733076055339805, 0.13472749125163982, 0.061915207376672714, 0.006191520737667272, 0.11274451540025132, 0.026843932238155076, 0.25501735626247324, 0.04295029158104813, 0.5637225770012566, 0.8158689506285598, 0.015195266988784066, 0.0748074682524754, 0.07597633494392032, 0.01870186706311885, 0.15799184980189143, 0.030720637461478892, 0.03510929995597588, 0.013165987483490953, 0.7636272740424753, 0.024117441816343496, 0.26714704781180487, 0.08533864027321546, 0.011131126992158537, 0.6140671724007459, 0.018554815285585367, 0.015462346071321138, 0.030924692142642277, 0.8999085413508902, 0.03710963057117073, 0.06507085005813111, 0.013898628167756161, 0.10171268795494282, 0.6924043850845796, 0.12635116516141964, 0.8308497378305895, 0.013770990129788776, 0.07574044571383827, 0.022951650216314626, 0.057379125540786564, 0.020920455178486452, 0.3694822325877849, 0.04386547053553611, 0.13632038535658914, 0.42920675785539947, 0.008256753332795066, 0.7327868582855622, 0.039219578330776564, 0.04541214333037287, 0.1733918199886964, 0.10916783188107783, 0.021833566376215564, 0.18194638646846303, 0.058222843669908174, 0.6331734249102514, 0.12121796302832373, 0.029565356836176518, 0.8219169200457073, 0.002956535683617652, 0.026608821152558866, 0.6507644228267659, 0.10519603267545269, 0.0515097815169458, 0.06747055888839379, 0.12550974933002287, 0.042848371771212, 0.07445782635653232, 0.0070243232411822945, 0.8675039202860134, 0.007726755565300524, 0.05450754668827522, 0.30524226145434125, 0.5976870989036092, 0.03507442134723797, 0.007583658669673074, 0.45172546624557874, 0.07770322191211827, 0.06039110511304529, 0.20090107634273066, 0.20935583105855698, 0.017990267141238858, 0.1484197039152206, 0.8095620213557487, 0.017990267141238858, 0.0044975667853097145, 0.6656191096179719, 0.08924968011168294, 0.11427295490935106, 0.07256749691323754, 0.058387641194558935, 0.047686575512349005, 0.9441941951445103, 0.008843873622234185, 0.014739789370390308, 0.9757740563198385, 0.8492513036373329, 0.001204611778208983, 0.059025977132240164, 0.007227670669253897, 0.08311821269641982, 0.2188951012717571, 0.3551716351058194, 0.21507288996681034, 0.08350061620037476, 0.12730903808014885, 0.4350810317890749, 0.44434703633830985, 0.030325105797496026, 0.024007375423017688, 0.06654675994450517, 0.18810465073903548, 0.4278565321723148, 0.3267366910235847, 0.051647230694243845, 0.005980205659333497, 0.28524347873694444, 0.29585933635984046, 0.3244759960389514, 0.030001336760358235, 0.06415670476445838, 0.8428257555958016, 0.06824500045310135, 0.006824500045310135, 0.04435925029451587, 0.03753475024920574, 0.31465074727192377, 0.09019662615746768, 0.1269343588684254, 0.3529751594687368, 0.1152173411267246, 0.9139003997862576, 0.06854252998396933, 0.00571187749866411, 0.01142375499732822, 0.04520340038711388, 0.26591592166501177, 0.06411502707968193, 0.5558173210864513, 0.06872761895591804, 0.007542348588484116, 0.09201665277950621, 0.003016939435393646, 0.6848452518343577, 0.21118576047755525, 0.39456855160582327, 0.0529125815419489, 0.10753202055299294, 0.25688204909881646, 0.18803879784531302, 0.019850567591789957, 0.03428734402218265, 0.014436776430392696, 0.9293674827065298, 0.001804597053799087, 0.09789567577682202, 0.05569926380405391, 0.7975121862853174, 0.020254277746928694, 0.02953748838093768, 0.00390030155696211, 0.02210170882278529, 0.01820140726582318, 0.8983694586202726, 0.05720442283544428, 0.08811498611945033, 0.07049198889556027, 0.07049198889556027, 0.10573798334334039, 0.6637995620998591, 0.00713105807389752, 0.0118850967898292, 0.021393174221692558, 0.9531847625443018, 0.00713105807389752, 0.007063475121195125, 0.007063475121195125, 0.12007907706031712, 0.8688074399070004, 0.06803854101842731, 0.00956791983071634, 0.13076157101979, 0.06059682559453682, 0.7314143159480936, 0.584218397483707, 0.00420679314119681, 0.09623039310487702, 0.04890397026641291, 0.26713136446599745, 0.7686379858785666, 0.003431419579815029, 0.16813955941093642, 0.06176555243667053, 0.8579614246535212, 0.008536929598542499, 0.044818880392348125, 0.008536929598542499, 0.08110083118615374, 0.8255295311281255, 0.008551756192625609, 0.11630388421970829, 0.007411522033608862, 0.0416185468041113, 0.012841155691702567, 0.012841155691702567, 0.9630866768776926, 0.006420577845851283, 0.008336084013436586, 0.006252063010077439, 0.7752558132496026, 0.014588147023514027, 0.19589797431575978, 0.20015391102505647, 0.4629410186974095, 0.22159897292059824, 0.04391131721468076, 0.07148353965180589, 0.13720894674141126, 0.07445446722402162, 0.019145434429034127, 0.018081799182976678, 0.7519901189626182, 0.1440202798014246, 0.026794470660730155, 0.013397235330365078, 0.026794470660730155, 0.7870875756589484, 0.9121112838349397, 0.042097443869304904, 0.0187099750530244, 0.014032481289768303, 0.0093549875265122], \"Term\": [\"agency\", \"agency\", \"agency\", \"agency\", \"agency\", \"agile\", \"agile\", \"agile\", \"agile\", \"agriculture\", \"agriculture\", \"agriculture\", \"agriculture\", \"algorithm\", \"algorithm\", \"algorithm\", \"algorithm\", \"algorithm\", \"analysis\", \"analysis\", \"analysis\", \"analysis\", \"analysis\", \"application\", \"application\", \"application\", \"application\", \"application\", \"approach\", \"approach\", \"approach\", \"approach\", \"approach\", \"architecture\", \"architecture\", \"architecture\", \"architecture\", \"architecture\", \"area\", \"area\", \"area\", \"area\", \"area\", \"attack\", \"attack\", \"attack\", \"attack\", \"automotive\", \"automotive\", \"automotive\", \"automotive\", \"automotive\", \"bayesian\", \"bayesian\", \"bayesian\", \"bayesian\", \"bi\", \"bi\", \"bi\", \"bi\", \"bi\", \"block\", \"block\", \"block\", \"block\", \"block\", \"blockchain\", \"blockchain\", \"blockchain\", \"blockchain\", \"blockchain\", \"blood\", \"blood\", \"blood\", \"business\", \"business\", \"business\", \"business\", \"business\", \"buyer\", \"buyer\", \"buyer\", \"buyer\", \"buyer\", \"capture\", \"capture\", \"capture\", \"capture\", \"capture\", \"carbon\", \"carbon\", \"carbon\", \"case\", \"case\", \"case\", \"case\", \"case\", \"cell\", \"cell\", \"cell\", \"cell\", \"channel\", \"channel\", \"channel\", \"channel\", \"channel\", \"circular\", \"circular\", \"circular\", \"circular\", \"circular\", \"city\", \"city\", \"city\", \"city\", \"city\", \"climate\", \"climate\", \"climate\", \"climate\", \"climate\", \"cluster\", \"cluster\", \"cluster\", \"cluster\", \"cluster\", \"collaboration\", \"collaboration\", \"collaboration\", \"collaboration\", \"collaboration\", \"collaborative\", \"collaborative\", \"collaborative\", \"collaborative\", \"collaborative\", \"commerce\", \"commerce\", \"commerce\", \"community\", \"community\", \"community\", \"community\", \"community\", \"company\", \"company\", \"company\", \"company\", \"company\", \"consensus\", \"consensus\", \"consensus\", \"consensus\", \"consumer\", \"consumer\", \"consumer\", \"consumer\", \"consumer\", \"consumption\", \"consumption\", \"consumption\", \"consumption\", \"consumption\", \"contract\", \"contract\", \"contract\", \"contract\", \"contract\", \"cost\", \"cost\", \"cost\", \"cost\", \"cost\", \"country\", \"country\", \"country\", \"country\", \"country\", \"creation\", \"creation\", \"creation\", \"creation\", \"creation\", \"crisis\", \"crisis\", \"crisis\", \"crisis\", \"criterion\", \"criterion\", \"criterion\", \"criterion\", \"criterion\", \"customer\", \"customer\", \"customer\", \"customer\", \"customer\", \"data\", \"data\", \"data\", \"data\", \"data\", \"dataset\", \"dataset\", \"dataset\", \"dataset\", \"dataset\", \"datum\", \"datum\", \"datum\", \"datum\", \"datum\", \"decision\", \"decision\", \"decision\", \"decision\", \"decision\", \"decomposition\", \"decomposition\", \"decomposition\", \"decomposition\", \"deep\", \"deep\", \"deep\", \"deep\", \"deep\", \"delivery\", \"delivery\", \"delivery\", \"delivery\", \"delivery\", \"demand\", \"demand\", \"demand\", \"demand\", \"demand\", \"design\", \"design\", \"design\", \"design\", \"design\", \"detection\", \"detection\", \"detection\", \"detection\", \"deterministic\", \"deterministic\", \"deterministic\", \"deterministic\", \"development\", \"development\", \"development\", \"development\", \"development\", \"device\", \"device\", \"device\", \"device\", \"device\", \"digital\", \"digital\", \"digital\", \"digital\", \"digital\", \"disaster\", \"disaster\", \"disaster\", \"disaster\", \"disaster\", \"disruption\", \"disruption\", \"disruption\", \"disruption\", \"disruption\", \"distribution\", \"distribution\", \"distribution\", \"distribution\", \"distribution\", \"dual\", \"dual\", \"dual\", \"dual\", \"dual\", \"e\", \"e\", \"e\", \"e\", \"e\", \"echelon\", \"echelon\", \"echelon\", \"echelon\", \"economic\", \"economic\", \"economic\", \"economic\", \"economic\", \"economy\", \"economy\", \"economy\", \"economy\", \"economy\", \"electric\", \"electric\", \"electric\", \"electric\", \"emerald\", \"emerald\", \"emerald\", \"emerald\", \"emerald\", \"emergency\", \"emergency\", \"emergency\", \"emergency\", \"emission\", \"emission\", \"emission\", \"emission\", \"emission\", \"empirical\", \"empirical\", \"empirical\", \"empirical\", \"empirical\", \"energy\", \"energy\", \"energy\", \"energy\", \"energy\", \"enterprise\", \"enterprise\", \"enterprise\", \"enterprise\", \"enterprise\", \"environmental\", \"environmental\", \"environmental\", \"environmental\", \"environmental\", \"equilibrium\", \"equilibrium\", \"era\", \"era\", \"era\", \"era\", \"era\", \"evaluation\", \"evaluation\", \"evaluation\", \"evaluation\", \"evaluation\", \"export\", \"export\", \"export\", \"export\", \"farm\", \"farm\", \"farm\", \"farm\", \"farmer\", \"farmer\", \"farmer\", \"finding\", \"finding\", \"finding\", \"finding\", \"finding\", \"firm\", \"firm\", \"firm\", \"firm\", \"firm\", \"food\", \"food\", \"food\", \"food\", \"food\", \"framework\", \"framework\", \"framework\", \"framework\", \"framework\", \"freight\", \"freight\", \"freight\", \"freight\", \"freight\", \"fuzzy\", \"fuzzy\", \"fuzzy\", \"fuzzy\", \"fuzzy\", \"game\", \"game\", \"game\", \"game\", \"game\", \"gas\", \"gas\", \"gas\", \"gas\", \"gas\", \"global\", \"global\", \"global\", \"global\", \"global\", \"good\", \"good\", \"good\", \"good\", \"good\", \"green\", \"green\", \"green\", \"green\", \"green\", \"grid\", \"grid\", \"grid\", \"grid\", \"grid\", \"hardware\", \"hardware\", \"hardware\", \"hardware\", \"high\", \"high\", \"high\", \"high\", \"high\", \"horizon\", \"horizon\", \"horizon\", \"hypothesis\", \"hypothesis\", \"hypothesis\", \"hypothesis\", \"hypothesis\", \"ieee\", \"ieee\", \"ieee\", \"ieee\", \"ieee\", \"image\", \"image\", \"image\", \"image\", \"impact\", \"impact\", \"impact\", \"impact\", \"impact\", \"implication\", \"implication\", \"implication\", \"implication\", \"implication\", \"industrial\", \"industrial\", \"industrial\", \"industrial\", \"industrial\", \"industry\", \"industry\", \"industry\", \"industry\", \"industry\", \"information\", \"information\", \"information\", \"information\", \"information\", \"innovation\", \"innovation\", \"innovation\", \"innovation\", \"innovation\", \"integer\", \"integer\", \"integer\", \"integer\", \"integer\", \"integration\", \"integration\", \"integration\", \"integration\", \"integration\", \"integrity\", \"integrity\", \"integrity\", \"integrity\", \"integrity\", \"inter\", \"inter\", \"inter\", \"inter\", \"inter\", \"internet\", \"internet\", \"internet\", \"internet\", \"internet\", \"inventory\", \"inventory\", \"inventory\", \"inventory\", \"inventory\", \"iot\", \"iot\", \"iot\", \"iot\", \"iot\", \"iran\", \"iran\", \"iran\", \"journal\", \"journal\", \"journal\", \"journal\", \"journal\", \"knowledge\", \"knowledge\", \"knowledge\", \"knowledge\", \"knowledge\", \"land\", \"land\", \"land\", \"layer\", \"layer\", \"layer\", \"layer\", \"layer\", \"lean\", \"lean\", \"lean\", \"lean\", \"learning\", \"learning\", \"learning\", \"learning\", \"learning\", \"ledger\", \"ledger\", \"level\", \"level\", \"level\", \"level\", \"level\", \"linear\", \"linear\", \"linear\", \"linear\", \"linear\", \"literature\", \"literature\", \"literature\", \"literature\", \"literature\", \"local\", \"local\", \"local\", \"local\", \"local\", \"location\", \"location\", \"location\", \"location\", \"location\", \"logic\", \"logic\", \"logic\", \"logic\", \"logic\", \"logistic\", \"logistic\", \"logistic\", \"logistic\", \"logistic\", \"logistics\", \"logistics\", \"logistics\", \"logistics\", \"logistics\", \"machine\", \"machine\", \"machine\", \"machine\", \"machine\", \"management\", \"management\", \"management\", \"management\", \"management\", \"manufacturing\", \"manufacturing\", \"manufacturing\", \"manufacturing\", \"manufacturing\", \"mapping\", \"mapping\", \"mapping\", \"mapping\", \"mapping\", \"market\", \"market\", \"market\", \"market\", \"market\", \"material\", \"material\", \"material\", \"material\", \"material\", \"medical\", \"medical\", \"medical\", \"medical\", \"medical\", \"method\", \"method\", \"method\", \"method\", \"method\", \"milp\", \"milp\", \"milp\", \"milp\", \"mining\", \"mining\", \"mining\", \"mining\", \"mining\", \"mixed\", \"mixed\", \"mixed\", \"mixed\", \"mixed\", \"multi\", \"multi\", \"multi\", \"multi\", \"multi\", \"national\", \"national\", \"national\", \"national\", \"national\", \"new\", \"new\", \"new\", \"new\", \"new\", \"objective\", \"objective\", \"objective\", \"objective\", \"objective\", \"online\", \"online\", \"online\", \"online\", \"online\", \"optimization\", \"optimization\", \"optimization\", \"optimization\", \"optimization\", \"optimize\", \"optimize\", \"optimize\", \"optimize\", \"optimize\", \"organisation\", \"organisation\", \"organisation\", \"organisation\", \"organisation\", \"organizational\", \"organizational\", \"organizational\", \"organizational\", \"organizational\", \"originality\", \"originality\", \"originality\", \"originality\", \"originality\", \"pandemic\", \"pandemic\", \"pandemic\", \"pandemic\", \"pandemic\", \"paper\", \"paper\", \"paper\", \"paper\", \"paper\", \"parameter\", \"parameter\", \"parameter\", \"parameter\", \"parameter\", \"pareto\", \"pareto\", \"pareto\", \"pareto\", \"pareto\", \"particle\", \"particle\", \"particle\", \"particle\", \"particle\", \"partner\", \"partner\", \"partner\", \"partner\", \"partner\", \"peer\", \"peer\", \"peer\", \"peer\", \"peer\", \"performance\", \"performance\", \"performance\", \"performance\", \"performance\", \"perishable\", \"perishable\", \"perishable\", \"perishable\", \"perishable\", \"planning\", \"planning\", \"planning\", \"planning\", \"planning\", \"plant\", \"plant\", \"plant\", \"plant\", \"plant\", \"policy\", \"policy\", \"policy\", \"policy\", \"policy\", \"political\", \"political\", \"political\", \"political\", \"political\", \"population\", \"population\", \"population\", \"population\", \"population\", \"power\", \"power\", \"power\", \"power\", \"power\", \"practice\", \"practice\", \"practice\", \"practice\", \"practice\", \"price\", \"price\", \"price\", \"price\", \"price\", \"pricing\", \"pricing\", \"pricing\", \"pricing\", \"pricing\", \"privacy\", \"privacy\", \"privacy\", \"privacy\", \"problem\", \"problem\", \"problem\", \"problem\", \"problem\", \"process\", \"process\", \"process\", \"process\", \"process\", \"producer\", \"producer\", \"producer\", \"producer\", \"producer\", \"product\", \"product\", \"product\", \"product\", \"product\", \"production\", \"production\", \"production\", \"production\", \"production\", \"profit\", \"profit\", \"profit\", \"profit\", \"profit\", \"programming\", \"programming\", \"programming\", \"programming\", \"programming\", \"project\", \"project\", \"project\", \"project\", \"project\", \"protocol\", \"protocol\", \"protocol\", \"protocol\", \"protocol\", \"provider\", \"provider\", \"provider\", \"provider\", \"provider\", \"public\", \"public\", \"public\", \"public\", \"public\", \"publication\", \"publication\", \"publication\", \"publication\", \"publication\", \"realistic\", \"realistic\", \"realistic\", \"realistic\", \"realistic\", \"record\", \"record\", \"record\", \"record\", \"record\", \"region\", \"region\", \"region\", \"region\", \"region\", \"regional\", \"regional\", \"regional\", \"regional\", \"regional\", \"relationship\", \"relationship\", \"relationship\", \"relationship\", \"relationship\", \"renewable\", \"renewable\", \"renewable\", \"renewable\", \"research\", \"research\", \"research\", \"research\", \"research\", \"resilience\", \"resilience\", \"resilience\", \"resilience\", \"resilience\", \"result\", \"result\", \"result\", \"result\", \"result\", \"retail\", \"retail\", \"retail\", \"retail\", \"retail\", \"retailer\", \"retailer\", \"retailer\", \"retailer\", \"retailer\", \"reverse\", \"reverse\", \"reverse\", \"reverse\", \"reverse\", \"review\", \"review\", \"review\", \"review\", \"review\", \"rfid\", \"rfid\", \"rfid\", \"rfid\", \"risk\", \"risk\", \"risk\", \"risk\", \"risk\", \"road\", \"road\", \"road\", \"road\", \"road\", \"robust\", \"robust\", \"robust\", \"robust\", \"robust\", \"routing\", \"routing\", \"routing\", \"routing\", \"routing\", \"sale\", \"sale\", \"sale\", \"sale\", \"sale\", \"secure\", \"secure\", \"secure\", \"secure\", \"secure\", \"security\", \"security\", \"security\", \"security\", \"security\", \"sensitivity\", \"sensitivity\", \"sensitivity\", \"sensitivity\", \"sensitivity\", \"service\", \"service\", \"service\", \"service\", \"service\", \"sharing\", \"sharing\", \"sharing\", \"sharing\", \"sharing\", \"shipment\", \"shipment\", \"shipment\", \"shipment\", \"shipment\", \"shortage\", \"shortage\", \"shortage\", \"shortage\", \"shortage\", \"simulation\", \"simulation\", \"simulation\", \"simulation\", \"simulation\", \"smart\", \"smart\", \"smart\", \"smart\", \"smart\", \"social\", \"social\", \"social\", \"social\", \"social\", \"solution\", \"solution\", \"solution\", \"solution\", \"solution\", \"south\", \"south\", \"south\", \"south\", \"south\", \"stage\", \"stage\", \"stage\", \"stage\", \"stage\", \"states\", \"states\", \"station\", \"station\", \"station\", \"stochastic\", \"stochastic\", \"stochastic\", \"stochastic\", \"stochastic\", \"study\", \"study\", \"study\", \"study\", \"study\", \"supplier\", \"supplier\", \"supplier\", \"supplier\", \"supplier\", \"sustainability\", \"sustainability\", \"sustainability\", \"sustainability\", \"sustainability\", \"sustainable\", \"sustainable\", \"sustainable\", \"sustainable\", \"sustainable\", \"swarm\", \"swarm\", \"swarm\", \"swarm\", \"swarm\", \"system\", \"system\", \"system\", \"system\", \"system\", \"tactical\", \"tactical\", \"tactical\", \"tactical\", \"technology\", \"technology\", \"technology\", \"technology\", \"technology\", \"thing\", \"thing\", \"thing\", \"thing\", \"thing\", \"time\", \"time\", \"time\", \"time\", \"time\", \"traceability\", \"traceability\", \"traceability\", \"traceability\", \"traceability\", \"trade\", \"trade\", \"trade\", \"trade\", \"trade\", \"transaction\", \"transaction\", \"transaction\", \"transaction\", \"transaction\", \"transfer\", \"transfer\", \"transfer\", \"transfer\", \"transfer\", \"transparency\", \"transparency\", \"transparency\", \"transparency\", \"transparency\", \"transparent\", \"transparent\", \"transparent\", \"transparent\", \"transport\", \"transport\", \"transport\", \"transport\", \"transport\", \"transportation\", \"transportation\", \"transportation\", \"transportation\", \"transportation\", \"treatment\", \"treatment\", \"treatment\", \"treatment\", \"uncertain\", \"uncertain\", \"uncertain\", \"uncertain\", \"uncertain\", \"uncertainty\", \"uncertainty\", \"uncertainty\", \"uncertainty\", \"uncertainty\", \"united\", \"united\", \"united\", \"united\", \"urban\", \"urban\", \"urban\", \"urban\", \"urban\", \"value\", \"value\", \"value\", \"value\", \"value\", \"vehicle\", \"vehicle\", \"vehicle\", \"vehicle\", \"vehicle\", \"warehouse\", \"warehouse\", \"warehouse\", \"warehouse\", \"warehouse\", \"weight\", \"weight\", \"weight\", \"weight\", \"weight\"]}, \"R\": 30, \"lambda.step\": 0.01, \"plot.opts\": {\"xlab\": \"PC1\", \"ylab\": \"PC2\"}, \"topic.order\": [3, 1, 5, 4, 2]};\n",
              "\n",
              "function LDAvis_load_lib(url, callback){\n",
              "  var s = document.createElement('script');\n",
              "  s.src = url;\n",
              "  s.async = true;\n",
              "  s.onreadystatechange = s.onload = callback;\n",
              "  s.onerror = function(){console.warn(\"failed to load library \" + url);};\n",
              "  document.getElementsByTagName(\"head\")[0].appendChild(s);\n",
              "}\n",
              "\n",
              "if(typeof(LDAvis) !== \"undefined\"){\n",
              "   // already loaded: just create the visualization\n",
              "   !function(LDAvis){\n",
              "       new LDAvis(\"#\" + \"ldavis_el14091403735884817444590780195\", ldavis_el14091403735884817444590780195_data);\n",
              "   }(LDAvis);\n",
              "}else if(typeof define === \"function\" && define.amd){\n",
              "   // require.js is available: use it to load d3/LDAvis\n",
              "   require.config({paths: {d3: \"https://d3js.org/d3.v5\"}});\n",
              "   require([\"d3\"], function(d3){\n",
              "      window.d3 = d3;\n",
              "      LDAvis_load_lib(\"https://cdn.jsdelivr.net/gh/bmabey/pyLDAvis@3.3.1/pyLDAvis/js/ldavis.v3.0.0.js\", function(){\n",
              "        new LDAvis(\"#\" + \"ldavis_el14091403735884817444590780195\", ldavis_el14091403735884817444590780195_data);\n",
              "      });\n",
              "    });\n",
              "}else{\n",
              "    // require.js not available: dynamically load d3 & LDAvis\n",
              "    LDAvis_load_lib(\"https://d3js.org/d3.v5.js\", function(){\n",
              "         LDAvis_load_lib(\"https://cdn.jsdelivr.net/gh/bmabey/pyLDAvis@3.3.1/pyLDAvis/js/ldavis.v3.0.0.js\", function(){\n",
              "                 new LDAvis(\"#\" + \"ldavis_el14091403735884817444590780195\", ldavis_el14091403735884817444590780195_data);\n",
              "            })\n",
              "         });\n",
              "}\n",
              "</script>"
            ]
          },
          "metadata": {},
          "execution_count": 25
        }
      ]
    },
    {
      "cell_type": "code",
      "source": [],
      "metadata": {
        "id": "ete6u0qu-hao"
      },
      "execution_count": null,
      "outputs": []
    }
  ]
}