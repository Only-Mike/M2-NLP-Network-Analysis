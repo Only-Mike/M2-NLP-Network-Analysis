{
  "nbformat": 4,
  "nbformat_minor": 0,
  "metadata": {
    "colab": {
      "provenance": [],
      "authorship_tag": "ABX9TyMCyI0XSYhYulX27oQqupAf",
      "include_colab_link": true
    },
    "kernelspec": {
      "name": "python3",
      "display_name": "Python 3"
    },
    "language_info": {
      "name": "python"
    }
  },
  "cells": [
    {
      "cell_type": "markdown",
      "metadata": {
        "id": "view-in-github",
        "colab_type": "text"
      },
      "source": [
        "<a href=\"https://colab.research.google.com/github/Only-Mike/M2-NLP-Network-Analysis/blob/main/NLP_SC_Networks.ipynb\" target=\"_parent\"><img src=\"https://colab.research.google.com/assets/colab-badge.svg\" alt=\"Open In Colab\"/></a>"
      ]
    },
    {
      "cell_type": "markdown",
      "source": [
        "\n",
        "\n",
        "---\n",
        "\n"
      ],
      "metadata": {
        "id": "_ck7MODn0YdB"
      }
    },
    {
      "cell_type": "code",
      "source": [
        "#Installing preprocessor to celan our text\n",
        "!pip install tweet-preprocessor -q\n",
        "\n",
        "# Installing Gensim and PyLDAvis\n",
        "!pip install -qq -U gensim\n",
        "!pip install -qq pyLDAvis\n",
        "\n",
        "# explainability (why did the model say it's related to this author)\n",
        "!pip install eli5"
      ],
      "metadata": {
        "colab": {
          "base_uri": "https://localhost:8080/"
        },
        "id": "qKjsPBmk0MLf",
        "outputId": "b4fa49c1-4adf-429f-91ca-8644ecfaa613"
      },
      "execution_count": 1,
      "outputs": [
        {
          "output_type": "stream",
          "name": "stdout",
          "text": [
            "\u001b[K     |████████████████████████████████| 24.1 MB 1.9 MB/s \n",
            "\u001b[K     |████████████████████████████████| 1.7 MB 9.3 MB/s \n",
            "\u001b[?25h  Installing build dependencies ... \u001b[?25l\u001b[?25hdone\n",
            "  Getting requirements to build wheel ... \u001b[?25l\u001b[?25hdone\n",
            "  Installing backend dependencies ... \u001b[?25l\u001b[?25hdone\n",
            "    Preparing wheel metadata ... \u001b[?25l\u001b[?25hdone\n",
            "  Building wheel for pyLDAvis (PEP 517) ... \u001b[?25l\u001b[?25hdone\n",
            "  Building wheel for sklearn (setup.py) ... \u001b[?25l\u001b[?25hdone\n",
            "Looking in indexes: https://pypi.org/simple, https://us-python.pkg.dev/colab-wheels/public/simple/\n",
            "Collecting eli5\n",
            "  Downloading eli5-0.13.0.tar.gz (216 kB)\n",
            "\u001b[K     |████████████████████████████████| 216 kB 14.5 MB/s \n",
            "\u001b[?25hRequirement already satisfied: attrs>17.1.0 in /usr/local/lib/python3.7/dist-packages (from eli5) (22.1.0)\n",
            "Collecting jinja2>=3.0.0\n",
            "  Downloading Jinja2-3.1.2-py3-none-any.whl (133 kB)\n",
            "\u001b[K     |████████████████████████████████| 133 kB 54.9 MB/s \n",
            "\u001b[?25hRequirement already satisfied: numpy>=1.9.0 in /usr/local/lib/python3.7/dist-packages (from eli5) (1.21.6)\n",
            "Requirement already satisfied: scipy in /usr/local/lib/python3.7/dist-packages (from eli5) (1.7.3)\n",
            "Requirement already satisfied: six in /usr/local/lib/python3.7/dist-packages (from eli5) (1.15.0)\n",
            "Requirement already satisfied: scikit-learn>=0.20 in /usr/local/lib/python3.7/dist-packages (from eli5) (1.0.2)\n",
            "Requirement already satisfied: graphviz in /usr/local/lib/python3.7/dist-packages (from eli5) (0.10.1)\n",
            "Requirement already satisfied: tabulate>=0.7.7 in /usr/local/lib/python3.7/dist-packages (from eli5) (0.8.10)\n",
            "Requirement already satisfied: MarkupSafe>=2.0 in /usr/local/lib/python3.7/dist-packages (from jinja2>=3.0.0->eli5) (2.0.1)\n",
            "Requirement already satisfied: joblib>=0.11 in /usr/local/lib/python3.7/dist-packages (from scikit-learn>=0.20->eli5) (1.2.0)\n",
            "Requirement already satisfied: threadpoolctl>=2.0.0 in /usr/local/lib/python3.7/dist-packages (from scikit-learn>=0.20->eli5) (3.1.0)\n",
            "Building wheels for collected packages: eli5\n",
            "  Building wheel for eli5 (setup.py) ... \u001b[?25l\u001b[?25hdone\n",
            "  Created wheel for eli5: filename=eli5-0.13.0-py2.py3-none-any.whl size=107748 sha256=57ba71afc1ecdcc47b752f1e23ed20e41a9a7a9669cc6ac7aced21078da31039\n",
            "  Stored in directory: /root/.cache/pip/wheels/cc/3c/96/3ead31a8e6c20fc0f1a707fde2e05d49a80b1b4b30096573be\n",
            "Successfully built eli5\n",
            "Installing collected packages: jinja2, eli5\n",
            "  Attempting uninstall: jinja2\n",
            "    Found existing installation: Jinja2 2.11.3\n",
            "    Uninstalling Jinja2-2.11.3:\n",
            "      Successfully uninstalled Jinja2-2.11.3\n",
            "\u001b[31mERROR: pip's dependency resolver does not currently take into account all the packages that are installed. This behaviour is the source of the following dependency conflicts.\n",
            "flask 1.1.4 requires Jinja2<3.0,>=2.10.1, but you have jinja2 3.1.2 which is incompatible.\u001b[0m\n",
            "Successfully installed eli5-0.13.0 jinja2-3.1.2\n"
          ]
        }
      ]
    },
    {
      "cell_type": "code",
      "source": [
        "import pandas as pd\n",
        "import numpy as np\n",
        "import tqdm #progress bar\n",
        "import preprocessor as prepro # text prepro\n",
        "\n",
        "import spacy #spacy for quick language prepro\n",
        "nlp = spacy.load('en_core_web_sm') #instantiating English module\n",
        "\n",
        "# sampling, splitting\n",
        "from imblearn.under_sampling import RandomUnderSampler\n",
        "from sklearn.model_selection import train_test_split\n",
        "\n",
        "\n",
        "# loading ML libraries\n",
        "from sklearn.pipeline import make_pipeline #pipeline creation\n",
        "from sklearn.feature_extraction.text import TfidfVectorizer #transforms text to sparse matrix\n",
        "from sklearn.linear_model import LogisticRegression #Logit model\n",
        "from sklearn.metrics import classification_report #that's self explanatory\n",
        "from sklearn.decomposition import TruncatedSVD #dimensionality reduction\n",
        "from xgboost import XGBClassifier\n",
        "\n",
        "import altair as alt #viz\n",
        "\n",
        "#explainability\n",
        "import eli5\n",
        "from eli5.lime import TextExplainer\n",
        "\n",
        "# topic modeling\n",
        "\n",
        "from gensim.corpora.dictionary import Dictionary # Import the dictionary builder\n",
        "from gensim.models import LdaMulticore # we'll use the faster multicore version of LDA\n",
        "\n",
        "# Import pyLDAvis\n",
        "import pyLDAvis\n",
        "import pyLDAvis.gensim_models as gensimvis\n",
        "\n",
        "%matplotlib inline\n",
        "pyLDAvis.enable_notebook()"
      ],
      "metadata": {
        "colab": {
          "base_uri": "https://localhost:8080/"
        },
        "id": "4s3sclEZ0XQ5",
        "outputId": "d9a26be5-f228-43f6-87a1-348e363948b6"
      },
      "execution_count": 2,
      "outputs": [
        {
          "output_type": "stream",
          "name": "stderr",
          "text": [
            "/usr/local/lib/python3.7/dist-packages/past/types/oldstr.py:5: DeprecationWarning: Using or importing the ABCs from 'collections' instead of from 'collections.abc' is deprecated since Python 3.3,and in 3.9 it will stop working\n",
            "  from collections import Iterable\n",
            "/usr/local/lib/python3.7/dist-packages/past/builtins/misc.py:4: DeprecationWarning: Using or importing the ABCs from 'collections' instead of from 'collections.abc' is deprecated since Python 3.3,and in 3.9 it will stop working\n",
            "  from collections import Mapping\n"
          ]
        }
      ]
    },
    {
      "cell_type": "code",
      "source": [
        "# prepro settings\n",
        "prepro.set_options(prepro.OPT.URL, prepro.OPT.NUMBER, prepro.OPT.RESERVED, prepro.OPT.MENTION, prepro.OPT.SMILEY)"
      ],
      "metadata": {
        "id": "yvtO67l74O6x"
      },
      "execution_count": 3,
      "outputs": []
    },
    {
      "cell_type": "code",
      "source": [
        "!git clone https://github.com/Only-Mike/M2-NLP-Network-Analysis.git"
      ],
      "metadata": {
        "colab": {
          "base_uri": "https://localhost:8080/"
        },
        "id": "W4D7cL_xzGeE",
        "outputId": "1552340d-5cc9-43f6-b8bc-d76254f827d0"
      },
      "execution_count": 4,
      "outputs": [
        {
          "output_type": "stream",
          "name": "stdout",
          "text": [
            "Cloning into 'M2-NLP-Network-Analysis'...\n",
            "remote: Enumerating objects: 16, done.\u001b[K\n",
            "remote: Counting objects: 100% (16/16), done.\u001b[K\n",
            "remote: Compressing objects: 100% (14/14), done.\u001b[K\n",
            "remote: Total 16 (delta 2), reused 0 (delta 0), pack-reused 0\u001b[K\n",
            "Unpacking objects: 100% (16/16), done.\n"
          ]
        }
      ]
    },
    {
      "cell_type": "code",
      "source": [
        "# Importing dataset"
      ],
      "metadata": {
        "id": "iK7-KfnIt_Vr"
      },
      "execution_count": null,
      "outputs": []
    },
    {
      "cell_type": "code",
      "source": [
        "data1 = pd.read_csv('/content/M2-NLP-Network-Analysis/Supply chain network - 2017 csv file.csv')\n",
        "data2 = pd.read_csv('/content/M2-NLP-Network-Analysis/Supply chain network - 2018 csv file.csv')\n",
        "data3 = pd.read_csv('/content/M2-NLP-Network-Analysis/Supply chain network - 2019 csv file.csv')\n",
        "data4 = pd.read_csv('/content/M2-NLP-Network-Analysis/Supply chain network - 2020 csv file.csv')\n",
        "data5 = pd.read_csv('/content/M2-NLP-Network-Analysis/Supply chain network - 2021 csv file.csv')\n"
      ],
      "metadata": {
        "id": "VE52HcDrmRM3"
      },
      "execution_count": 15,
      "outputs": []
    },
    {
      "cell_type": "code",
      "source": [
        "frames = [data1, data2, data3, data4, data5] #creating frame for all datasets"
      ],
      "metadata": {
        "id": "SWqan3sRmqph"
      },
      "execution_count": 16,
      "outputs": []
    },
    {
      "cell_type": "code",
      "source": [
        "df = pd.concat(frames) #Concat all datasets to \"df\""
      ],
      "metadata": {
        "id": "DqVZQhBOoR4s"
      },
      "execution_count": 17,
      "outputs": []
    },
    {
      "cell_type": "code",
      "source": [
        "df.shape"
      ],
      "metadata": {
        "colab": {
          "base_uri": "https://localhost:8080/"
        },
        "id": "e2G109lcpxNl",
        "outputId": "c9f4be5b-1374-486f-ced5-dae7db4aacf2"
      },
      "execution_count": 18,
      "outputs": [
        {
          "output_type": "execute_result",
          "data": {
            "text/plain": [
              "(8573, 22)"
            ]
          },
          "metadata": {},
          "execution_count": 18
        }
      ]
    },
    {
      "cell_type": "code",
      "source": [
        "df.columns"
      ],
      "metadata": {
        "colab": {
          "base_uri": "https://localhost:8080/"
        },
        "id": "02u7VJl4p1eX",
        "outputId": "ff7091ff-ea00-442f-cf37-e3037e8f1c72"
      },
      "execution_count": 19,
      "outputs": [
        {
          "output_type": "execute_result",
          "data": {
            "text/plain": [
              "Index(['Authors', 'Author(s) ID', 'Title', 'Year', 'Source title', 'Cited by',\n",
              "       'DOI', 'Link', 'Affiliations', 'Authors with affiliations', 'Abstract',\n",
              "       'Author Keywords', 'Index Keywords', 'Funding Details',\n",
              "       'Correspondence Address', 'Publisher', 'ISSN', 'ISBN', 'CODEN',\n",
              "       'Document Type', 'Source', 'EID'],\n",
              "      dtype='object')"
            ]
          },
          "metadata": {},
          "execution_count": 19
        }
      ]
    },
    {
      "cell_type": "markdown",
      "source": [
        "# Cleaning text and embedding the data"
      ],
      "metadata": {
        "id": "EIBtbZMgt02n"
      }
    },
    {
      "cell_type": "code",
      "source": [
        "#Choosing the columns we need to work with and storing them in the value \"data\"\n",
        "data = df[['Authors', 'Author(s) ID','Title', 'Abstract','Year', 'Source title']]"
      ],
      "metadata": {
        "id": "wbJtLwXO0FqW"
      },
      "execution_count": 20,
      "outputs": []
    },
    {
      "cell_type": "code",
      "source": [
        "data = data.iloc[0:1000, :] # Slice the rows to make the dataset lighter"
      ],
      "metadata": {
        "id": "3D0m7Qaxe6Wg"
      },
      "execution_count": 25,
      "outputs": []
    },
    {
      "cell_type": "code",
      "source": [
        "#Combining the Abstract and title   ----- NEEDS ONLY ABSTRACT\n",
        "data['text'] = data['Title'] + '. ' + data['Abstract']"
      ],
      "metadata": {
        "id": "3aB3k2CWi8Uo"
      },
      "execution_count": 27,
      "outputs": []
    },
    {
      "cell_type": "code",
      "metadata": {
        "id": "bUhjywn2gBz0"
      },
      "source": [
        "#Cleaning the text\n",
        "data['text_clean'] = data['text'].map(lambda t: prepro.clean(t))\n"
      ],
      "execution_count": 28,
      "outputs": []
    },
    {
      "cell_type": "code",
      "source": [
        "# run progress bar and clean up using spacy but without some heavy parts of the pipeline\n",
        "\n",
        "clean_text = []\n",
        "\n",
        "pbar = tqdm.tqdm(total=len(data['text_clean']),position=0, leave=True)\n",
        "\n",
        "for text in nlp.pipe(data['text_clean'], disable=[\"tagger\", \"parser\", \"ner\"]):\n",
        "\n",
        "  txt = [token.lemma_.lower() for token in text \n",
        "         if token.is_alpha \n",
        "         and not token.is_stop \n",
        "         and not token.is_punct]\n",
        "\n",
        "  clean_text.append(\" \".join(txt))\n",
        "\n",
        "  pbar.update(1)"
      ],
      "metadata": {
        "colab": {
          "base_uri": "https://localhost:8080/"
        },
        "id": "7RFrxl4r4ADK",
        "outputId": "41700290-ac8c-46b3-aff5-d9532187ac13"
      },
      "execution_count": 29,
      "outputs": [
        {
          "output_type": "stream",
          "name": "stderr",
          "text": [
            " 21%|██        | 1792/8573 [00:54<03:26, 32.76it/s] \n",
            "/usr/local/lib/python3.7/dist-packages/spacy/pipeline/lemmatizer.py:211: UserWarning: [W108] The rule-based lemmatizer did not find POS annotation for one or more tokens. Check that your pipeline includes components that assign token.pos, typically 'tagger'+'attribute_ruler' or 'morphologizer'.\n",
            "  warnings.warn(Warnings.W108)\n",
            " 98%|█████████▊| 983/1000 [00:12<00:00, 185.12it/s]"
          ]
        }
      ]
    },
    {
      "cell_type": "code",
      "source": [
        "# write everything into a single function for simplicity later on\n",
        "def text_prepro(texts):\n",
        "  \"\"\"\n",
        "  takes in a pandas series (1 column of a DF)\n",
        "  lowercases, normalizes text\n",
        "  \"\"\"\n",
        "  texts_clean = texts.map(lambda t: prepro.clean(t))\n",
        "\n",
        "  clean_container = []\n",
        "\n",
        "  pbar = tqdm.tqdm(total=len(texts_clean),position=0, leave=True)\n",
        "\n",
        "  for text in nlp.pipe(texts_clean, disable=[\"tagger\", \"parser\", \"ner\"]):\n",
        "\n",
        "    txt = [token.lemma_.lower() for token in text \n",
        "          if token.is_alpha \n",
        "          and not token.is_stop \n",
        "          and not token.is_punct]\n",
        "\n",
        "    clean_container.append(\" \".join(txt))\n",
        "    pbar.update(1)\n",
        "  \n",
        "  return clean_container"
      ],
      "metadata": {
        "id": "FD-e1YEV4B-s"
      },
      "execution_count": 30,
      "outputs": []
    },
    {
      "cell_type": "code",
      "source": [
        "data['text_clean'] = text_prepro(data['text'])  ##<---- HVAD GØR DEN HER?<-------##"
      ],
      "metadata": {
        "colab": {
          "base_uri": "https://localhost:8080/"
        },
        "id": "gQOci1Od5cyp",
        "outputId": "6b1d4c22-0635-400c-f88c-20f4ef6ef811"
      },
      "execution_count": 31,
      "outputs": [
        {
          "output_type": "stream",
          "name": "stderr",
          "text": [
            "100%|██████████| 1000/1000 [00:12<00:00, 82.39it/s]\n"
          ]
        }
      ]
    },
    {
      "cell_type": "code",
      "source": [
        "# preprocess texts (we need tokens)  <---- Hvad gør den her? <------\n",
        "tokens = []\n",
        "\n",
        "for summary in nlp.pipe(data['text_clean'], disable=[\"ner\"]):\n",
        "  proj_tok = [token.lemma_.lower() for token in summary \n",
        "              if token.pos_ in ['NOUN', 'PROPN', 'ADJ', 'ADV'] \n",
        "              and not token.is_stop\n",
        "              and not token.is_punct] \n",
        "  tokens.append(proj_tok)"
      ],
      "metadata": {
        "id": "JkXzAz6S5lpp"
      },
      "execution_count": 32,
      "outputs": []
    },
    {
      "cell_type": "code",
      "source": [
        "data['tokens'] = tokens"
      ],
      "metadata": {
        "id": "iKEJR8GU6m3k"
      },
      "execution_count": 33,
      "outputs": []
    },
    {
      "cell_type": "code",
      "source": [
        "## SPØRGSMÅL OMKRING FILTER \n",
        "\n",
        "# Create a Dictionary from the articles: dictionary\n",
        "dictionary = Dictionary(data['tokens'])\n",
        "\n",
        "# filter out low-frequency / high-frequency stuff, also limit the vocabulary to max 1000 words\n",
        "dictionary.filter_extremes(no_below=5, no_above=0.5, keep_n=1000)\n",
        "\n",
        "# construct corpus using this dictionary\n",
        "corpus = [dictionary.doc2bow(doc) for doc in data['tokens']]"
      ],
      "metadata": {
        "id": "-5qooRNP7GdM"
      },
      "execution_count": 34,
      "outputs": []
    },
    {
      "cell_type": "markdown",
      "source": [
        "#Model Metrics"
      ],
      "metadata": {
        "id": "SrYbiev7__us"
      }
    },
    {
      "cell_type": "code",
      "source": [
        "import seaborn as sns\n",
        "import matplotlib.pyplot as plt\n",
        "import numpy as np\n",
        "from gensim.models import LdaModel, CoherenceModel\n",
        "from gensim import corpora"
      ],
      "metadata": {
        "id": "gB_lko8FsN8Q"
      },
      "execution_count": 35,
      "outputs": []
    },
    {
      "cell_type": "code",
      "source": [
        "corpus = data['tokens']"
      ],
      "metadata": {
        "id": "YC4LGwpOsXCD"
      },
      "execution_count": 36,
      "outputs": []
    },
    {
      "cell_type": "code",
      "source": [
        "corpus"
      ],
      "metadata": {
        "colab": {
          "base_uri": "https://localhost:8080/"
        },
        "id": "a4hWPw6xxW6o",
        "outputId": "88067db4-41c1-4673-aad2-18b12309c46f"
      },
      "execution_count": 37,
      "outputs": [
        {
          "output_type": "execute_result",
          "data": {
            "text/plain": [
              "0      [food, nutrition, security, southern, african,...\n",
              "1      [iot, cargo, monitoring, system, operational, ...\n",
              "2      [annual, software, technology, conference, stc...\n",
              "3      [approximation, high, dimensional, commodity, ...\n",
              "4      [accessibility, local, food, production, regio...\n",
              "                             ...                        \n",
              "995    [successful, biogas, implementation, mini, rev...\n",
              "996    [bi, objective, location, allocation, inventor...\n",
              "997    [sustainable, supply, chain, uncertainty, life...\n",
              "998    [process, network, design, optimisation, p, gr...\n",
              "999    [network, flow, model, source, optimal, transp...\n",
              "Name: tokens, Length: 1000, dtype: object"
            ]
          },
          "metadata": {},
          "execution_count": 37
        }
      ]
    },
    {
      "cell_type": "code",
      "source": [
        "dirichlet_dict = corpora.Dictionary(corpus)\n",
        "bow_corpus = [dirichlet_dict.doc2bow(text) for text in corpus]\n",
        "\n",
        "# Considering 1-15 topics, as the last is cut off\n",
        "num_topics = list(range(16)[1:])\n",
        "num_keywords = 15\n",
        "\n",
        "LDA_models = {}\n",
        "LDA_topics = {}\n",
        "for i in num_topics:\n",
        "    LDA_models[i] = LdaModel(corpus=bow_corpus,\n",
        "                             id2word=dirichlet_dict,\n",
        "                             num_topics=i,\n",
        "                             update_every=1,\n",
        "                             chunksize=len(bow_corpus),\n",
        "                             passes=20,\n",
        "                             alpha='auto',\n",
        "                             random_state=42)\n",
        "\n",
        "    shown_topics = LDA_models[i].show_topics(num_topics=i, \n",
        "                                             num_words=num_keywords,\n",
        "                                             formatted=False)\n",
        "    LDA_topics[i] = [[word[0] for word in topic[1]] for topic in shown_topics]"
      ],
      "metadata": {
        "id": "g6M0SE0nr7KO"
      },
      "execution_count": 38,
      "outputs": []
    },
    {
      "cell_type": "code",
      "source": [
        "def jaccard_similarity(topic_1, topic_2):\n",
        "    \"\"\"\n",
        "    Derives the Jaccard similarity of two topics\n",
        "\n",
        "    Jaccard similarity:\n",
        "    - A statistic used for comparing the similarity and diversity of sample sets\n",
        "    - J(A,B) = (A ∩ B)/(A ∪ B)\n",
        "    - Goal is low Jaccard scores for coverage of the diverse elements\n",
        "    \"\"\"\n",
        "    intersection = set(topic_1).intersection(set(topic_2))\n",
        "    union = set(topic_1).union(set(topic_2))\n",
        "                    \n",
        "    return float(len(intersection))/float(len(union))"
      ],
      "metadata": {
        "id": "ZzK6Q8B1s5gd"
      },
      "execution_count": 39,
      "outputs": []
    },
    {
      "cell_type": "code",
      "source": [
        "LDA_stability = {}\n",
        "for i in range(0, len(num_topics)-1):\n",
        "    jaccard_sims = []\n",
        "    for t1, topic1 in enumerate(LDA_topics[num_topics[i]]): # pylint: disable=unused-variable\n",
        "        sims = []\n",
        "        for t2, topic2 in enumerate(LDA_topics[num_topics[i+1]]): # pylint: disable=unused-variable\n",
        "            sims.append(jaccard_similarity(topic1, topic2))    \n",
        "        \n",
        "        jaccard_sims.append(sims)    \n",
        "    \n",
        "    LDA_stability[num_topics[i]] = jaccard_sims\n",
        "                \n",
        "mean_stabilities = [np.array(LDA_stability[i]).mean() for i in num_topics[:-1]]"
      ],
      "metadata": {
        "id": "8CqBHt5ewRjf"
      },
      "execution_count": 40,
      "outputs": []
    },
    {
      "cell_type": "code",
      "source": [
        "coherences = [CoherenceModel(model=LDA_models[i], texts=corpus, dictionary=dirichlet_dict, coherence='c_v').get_coherence() for i in num_topics[:-1]]"
      ],
      "metadata": {
        "id": "LxgSm8mbwWSP"
      },
      "execution_count": 41,
      "outputs": []
    },
    {
      "cell_type": "code",
      "source": [
        "coh_sta_diffs = [coherences[i] - mean_stabilities[i] for i in range(num_keywords)[:-1]] # limit topic numbers to the number of keywords\n",
        "coh_sta_max = max(coh_sta_diffs)\n",
        "coh_sta_max_idxs = [i for i, j in enumerate(coh_sta_diffs) if j == coh_sta_max]\n",
        "ideal_topic_num_index = coh_sta_max_idxs[0] # choose less topics in case there's more than one max\n",
        "ideal_topic_num = num_topics[ideal_topic_num_index]"
      ],
      "metadata": {
        "id": "FgQ7NBBOwzru"
      },
      "execution_count": 42,
      "outputs": []
    },
    {
      "cell_type": "code",
      "source": [
        "plt.figure(figsize=(20,10))\n",
        "ax = sns.lineplot(x=num_topics[:-1], y=mean_stabilities, label='Average Topic Overlap')\n",
        "ax = sns.lineplot(x=num_topics[:-1], y=coherences, label='Topic Coherence')\n",
        "\n",
        "ax.axvline(x=ideal_topic_num, label='Ideal Number of Topics', color='black')\n",
        "ax.axvspan(xmin=ideal_topic_num - 1, xmax=ideal_topic_num + 1, alpha=0.5, facecolor='grey')\n",
        "\n",
        "y_max = max(max(mean_stabilities), max(coherences)) + (0.10 * max(max(mean_stabilities), max(coherences)))\n",
        "ax.set_ylim([0, y_max])\n",
        "ax.set_xlim([1, num_topics[-1]-1])\n",
        "                \n",
        "ax.axes.set_title('Model Metrics per Number of Topics', fontsize=25)\n",
        "ax.set_ylabel('Metric Level', fontsize=20)\n",
        "ax.set_xlabel('Number of Topics', fontsize=20)\n",
        "plt.legend(fontsize=20)\n",
        "plt.show()  "
      ],
      "metadata": {
        "id": "69zOLWwGwb_7",
        "colab": {
          "base_uri": "https://localhost:8080/",
          "height": 639
        },
        "outputId": "8bb6a055-a0a3-4995-a19b-4c4304545cec"
      },
      "execution_count": 43,
      "outputs": [
        {
          "output_type": "display_data",
          "data": {
            "text/plain": [
              "<Figure size 1440x720 with 1 Axes>"
            ],
            "image/png": "[encoded data removed]"
          },
          "metadata": {
            "needs_background": "light"
          }
        }
      ]
    },
    {
      "cell_type": "markdown",
      "source": [
        "# Visualization"
      ],
      "metadata": {
        "id": "FVQFsJTk_4iJ"
      }
    },
    {
      "cell_type": "code",
      "source": [
        "lda_model = LdaMulticore(corpus, id2word=dictionary, num_topics=14, workers = 4, passes=10)"
      ],
      "metadata": {
        "id": "7ghvRrTM7SRQ",
        "colab": {
          "base_uri": "https://localhost:8080/"
        },
        "outputId": "d14fa980-9312-48cd-93c5-035a36fe0205"
      },
      "execution_count": null,
      "outputs": [
        {
          "output_type": "stream",
          "name": "stderr",
          "text": [
            "Process ForkPoolWorker-1:\n",
            "Traceback (most recent call last):\n",
            "  File \"/usr/lib/python3.7/multiprocessing/process.py\", line 297, in _bootstrap\n",
            "    self.run()\n",
            "  File \"/usr/lib/python3.7/multiprocessing/process.py\", line 99, in run\n",
            "    self._target(*self._args, **self._kwargs)\n",
            "  File \"/usr/lib/python3.7/multiprocessing/pool.py\", line 105, in worker\n",
            "    initializer(*initargs)\n",
            "  File \"/usr/local/lib/python3.7/dist-packages/gensim/models/ldamulticore.py\", line 346, in worker_e_step\n",
            "    worker_lda.do_estep(chunk)  # TODO: auto-tune alpha?\n",
            "  File \"/usr/local/lib/python3.7/dist-packages/gensim/models/ldamodel.py\", line 767, in do_estep\n",
            "    gamma, sstats = self.inference(chunk, collect_sstats=True)\n",
            "  File \"/usr/local/lib/python3.7/dist-packages/gensim/models/ldamodel.py\", line 698, in inference\n",
            "    ids = [int(idx) for idx, _ in doc]\n",
            "  File \"/usr/local/lib/python3.7/dist-packages/gensim/models/ldamodel.py\", line 698, in <listcomp>\n",
            "    ids = [int(idx) for idx, _ in doc]\n",
            "ValueError: too many values to unpack (expected 2)\n"
          ]
        }
      ]
    },
    {
      "cell_type": "code",
      "source": [
        "lda_display = pyLDAvis.gensim_models.prepare(lda_model, corpus, dictionary)"
      ],
      "metadata": {
        "id": "ohqvwK17-cvO"
      },
      "execution_count": null,
      "outputs": []
    },
    {
      "cell_type": "code",
      "source": [
        "pyLDAvis.display(lda_display)"
      ],
      "metadata": {
        "id": "_4EfZAei-fXQ"
      },
      "execution_count": null,
      "outputs": []
    },
    {
      "cell_type": "code",
      "source": [],
      "metadata": {
        "id": "ete6u0qu-hao"
      },
      "execution_count": null,
      "outputs": []
    }
  ]
}