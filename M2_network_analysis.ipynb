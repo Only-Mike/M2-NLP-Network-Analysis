{
  "nbformat": 4,
  "nbformat_minor": 0,
  "metadata": {
    "colab": {
      "provenance": [],
      "collapsed_sections": [],
      "authorship_tag": "ABX9TyPgj5uMY8ge03/Lj4DVGa+d",
      "include_colab_link": true
    },
    "kernelspec": {
      "name": "python3",
      "display_name": "Python 3"
    },
    "language_info": {
      "name": "python"
    }
  },
  "cells": [
    {
      "cell_type": "markdown",
      "metadata": {
        "id": "view-in-github",
        "colab_type": "text"
      },
      "source": [
        "<a href=\"https://colab.research.google.com/github/Only-Mike/M2-NLP-Network-Analysis/blob/main/M2_network_analysis.ipynb\" target=\"_parent\"><img src=\"https://colab.research.google.com/assets/colab-badge.svg\" alt=\"Open In Colab\"/></a>"
      ]
    },
    {
      "cell_type": "code",
      "source": [
        "import pandas as pd \n",
        "import matplotlib.pyplot as plt\n"
      ],
      "metadata": {
        "id": "Lo-Ul2Okqh6E"
      },
      "execution_count": null,
      "outputs": []
    },
    {
      "cell_type": "code",
      "execution_count": null,
      "metadata": {
        "colab": {
          "base_uri": "https://localhost:8080/"
        },
        "id": "pP1WWNjVqTqS",
        "outputId": "3a49d146-8a59-4fa3-8397-850b2837b25a"
      },
      "outputs": [
        {
          "output_type": "stream",
          "name": "stdout",
          "text": [
            "Cloning into 'M2-NLP-Network-Analysis'...\n",
            "remote: Enumerating objects: 54, done.\u001b[K\n",
            "remote: Counting objects: 100% (54/54), done.\u001b[K\n",
            "remote: Compressing objects: 100% (52/52), done.\u001b[K\n",
            "remote: Total 54 (delta 23), reused 0 (delta 0), pack-reused 0\u001b[K\n",
            "Unpacking objects: 100% (54/54), done.\n"
          ]
        }
      ],
      "source": [
        "!git clone https://github.com/Only-Mike/M2-NLP-Network-Analysis.git"
      ]
    },
    {
      "cell_type": "code",
      "source": [
        "# Importing datasets"
      ],
      "metadata": {
        "id": "iK7-KfnIt_Vr"
      },
      "execution_count": null,
      "outputs": []
    },
    {
      "cell_type": "code",
      "source": [
        "data1 = pd.read_csv('/content/M2-NLP-Network-Analysis/Supply chain network - 2017 csv file.csv')\n",
        "data2 = pd.read_csv('/content/M2-NLP-Network-Analysis/Supply chain network - 2018 csv file.csv')\n",
        "data3 = pd.read_csv('/content/M2-NLP-Network-Analysis/Supply chain network - 2019 csv file.csv')\n",
        "data4 = pd.read_csv('/content/M2-NLP-Network-Analysis/Supply chain network - 2020 csv file.csv')\n",
        "data5 = pd.read_csv('/content/M2-NLP-Network-Analysis/Supply chain network - 2021 csv file.csv')\n"
      ],
      "metadata": {
        "id": "VE52HcDrmRM3"
      },
      "execution_count": null,
      "outputs": []
    },
    {
      "cell_type": "code",
      "source": [
        "frames = [data1, data2, data3, data4, data5] #creating frame for all datasets"
      ],
      "metadata": {
        "id": "SWqan3sRmqph"
      },
      "execution_count": null,
      "outputs": []
    },
    {
      "cell_type": "code",
      "source": [
        "df = pd.concat(frames) #Concat all datasets to \"df\""
      ],
      "metadata": {
        "id": "DqVZQhBOoR4s"
      },
      "execution_count": null,
      "outputs": []
    },
    {
      "cell_type": "code",
      "source": [
        "df"
      ],
      "metadata": {
        "colab": {
          "base_uri": "https://localhost:8080/",
          "height": 953
        },
        "id": "ynmCkZGr9wuR",
        "outputId": "841173c7-01e2-43ee-df3c-344e99e0eb84"
      },
      "execution_count": null,
      "outputs": [
        {
          "output_type": "execute_result",
          "data": {
            "text/plain": [
              "                                                Authors  \\\n",
              "0                      Crush J., Frayne B., McCordic C.   \n",
              "1     Tsang Y.P., Choy K.L., Wu C.H., Ho G.T.S., Lam...   \n",
              "2                            [No author name available]   \n",
              "3                                          Secomandi N.   \n",
              "4       Korhonen K., Kotavaara O., Muilu T., Rusanen J.   \n",
              "...                                                 ...   \n",
              "1995                                          Gawade D.   \n",
              "1996                          Huang L., Tan Y., Guan X.   \n",
              "1997     Agrawal R., Wankhede V.A., Kumar A., Luthra S.   \n",
              "1998          Trivedi A., Sohal A., Joshi S., Sharma M.   \n",
              "1999            Zhou Y., Cao F., Cao Y., Yang N., Li Z.   \n",
              "\n",
              "                                           Author(s) ID  \\\n",
              "0                    7003748511;6507551740;56004012500;   \n",
              "1     57191666025;7005477047;55506191100;8348673600;...   \n",
              "2                              [No author id available]   \n",
              "3                                           6506411578;   \n",
              "4        57200382781;35772315700;6602393288;6601955741;   \n",
              "...                                                 ...   \n",
              "1995                                       57224469235;   \n",
              "1996               55794665100;57223669545;54385196800;   \n",
              "1997   57193951175;57204053781;57001679600;43361407000;   \n",
              "1998   56482859500;57224361122;56111179800;57198780582;   \n",
              "1999  56164109200;57224312237;57224310403;5722432395...   \n",
              "\n",
              "                                                  Title  Year  \\\n",
              "0     Food and nutrition security in southern Africa...  2017   \n",
              "1     An IoT-based cargo monitoring system for enhan...  2017   \n",
              "2     2017 IEEE 28th Annual Software Technology Conf...  2017   \n",
              "3     Approximations for high dimensional commodity ...  2017   \n",
              "4     Accessibility of Local Food Production to Regi...  2017   \n",
              "...                                                 ...   ...   \n",
              "1995  Agile Supply Chain in Manufacturing and Servic...  2021   \n",
              "1996  Evaluation of Cruise Ship Supply Logistics Ser...  2021   \n",
              "1997  A systematic and network-based analysis of dat...  2021   \n",
              "1998  A two-stage optimization model for tactical pl...  2021   \n",
              "1999  A Grammar-Aware Pointer Network for Abstractiv...  2021   \n",
              "\n",
              "                                           Source title  Cited by  \\\n",
              "0     Food and Nutrition Security in Southern Africa...       4.0   \n",
              "1     International Journal of Engineering Business ...      25.0   \n",
              "2     2017 IEEE 28th Annual Software Technology Conf...       NaN   \n",
              "3     Foundations and Trends in Technology, Informat...       3.0   \n",
              "4                                  European Countryside      10.0   \n",
              "...                                                 ...       ...   \n",
              "1995                                             Vision       1.0   \n",
              "1996                 Journal of Advanced Transportation       1.0   \n",
              "1997                                        TQM Journal       4.0   \n",
              "1998  International Journal of Supply and Operations...       2.0   \n",
              "1999         Smart Innovation, Systems and Technologies       NaN   \n",
              "\n",
              "                               DOI  \\\n",
              "0            10.4324/9781315226651   \n",
              "1         10.1177/1847979017749063   \n",
              "2                              NaN   \n",
              "3               10.1561/0200000080   \n",
              "4           10.1515/euco-2017-0040   \n",
              "...                            ...   \n",
              "1995     10.1177/09722629211002000   \n",
              "1996          10.1155/2021/6645946   \n",
              "1997      10.1108/TQM-12-2020-0285   \n",
              "1998       10.22034/IJSOM.2021.1.2   \n",
              "1999  10.1007/978-981-33-6141-6_21   \n",
              "\n",
              "                                                   Link  \\\n",
              "0     https://www.scopus.com/inward/record.uri?eid=2...   \n",
              "1     https://www.scopus.com/inward/record.uri?eid=2...   \n",
              "2     https://www.scopus.com/inward/record.uri?eid=2...   \n",
              "3     https://www.scopus.com/inward/record.uri?eid=2...   \n",
              "4     https://www.scopus.com/inward/record.uri?eid=2...   \n",
              "...                                                 ...   \n",
              "1995  https://www.scopus.com/inward/record.uri?eid=2...   \n",
              "1996  https://www.scopus.com/inward/record.uri?eid=2...   \n",
              "1997  https://www.scopus.com/inward/record.uri?eid=2...   \n",
              "1998  https://www.scopus.com/inward/record.uri?eid=2...   \n",
              "1999  https://www.scopus.com/inward/record.uri?eid=2...   \n",
              "\n",
              "                                           Affiliations  \\\n",
              "0     University of Cape Town, South Africa; School ...   \n",
              "1     Department of Industrial and Systems Engineeri...   \n",
              "2                                                   NaN   \n",
              "3     Tepper School of Business, Carnegie Mellon Uni...   \n",
              "4     Natural Resources Institute Finland, Universit...   \n",
              "...                                                 ...   \n",
              "1995  Symbiosis Institute of Operations Management, ...   \n",
              "1996  School of Management, Wuhan Polytechnic Univer...   \n",
              "1997  Department of Production Engineering, National...   \n",
              "1998  O. P. Jindal Global University, Haryana, Sonep...   \n",
              "1999  Chongqing University of Posts and Telecommunic...   \n",
              "\n",
              "                              Authors with affiliations  ...  \\\n",
              "0     Crush, J., University of Cape Town, South Afri...  ...   \n",
              "1     Tsang, Y.P., Department of Industrial and Syst...  ...   \n",
              "2                                                   NaN  ...   \n",
              "3     Secomandi, N., Tepper School of Business, Carn...  ...   \n",
              "4     Korhonen, K., Natural Resources Institute Finl...  ...   \n",
              "...                                                 ...  ...   \n",
              "1995  Gawade, D., Symbiosis Institute of Operations ...  ...   \n",
              "1996  Huang, L., School of Management, Wuhan Polytec...  ...   \n",
              "1997  Agrawal, R., Department of Production Engineer...  ...   \n",
              "1998  Trivedi, A., O. P. Jindal Global University, H...  ...   \n",
              "1999  Zhou, Y., Chongqing University of Posts and Te...  ...   \n",
              "\n",
              "                                         Index Keywords Funding Details  \\\n",
              "0                                                   NaN             NaN   \n",
              "1                                                   NaN           PolyU   \n",
              "2                                                   NaN             NaN   \n",
              "3     Electric energy storage; Energy conversion; Ri...             NaN   \n",
              "4     accessibility; agricultural economics; food ma...             NaN   \n",
              "...                                                 ...             ...   \n",
              "1995                                                NaN             NaN   \n",
              "1996  Internet service providers; Radial basis funct...             NaN   \n",
              "1997  Artificial intelligence; Decision making; Qual...             NaN   \n",
              "1998                                                NaN             NaN   \n",
              "1999  Big data; Industrial internet of things (IIoT)...             NaN   \n",
              "\n",
              "                                 Correspondence Address  \\\n",
              "0        Crush, J.; University of Cape TownSouth Africa   \n",
              "1     Tsang, Y.P.; Department of Industrial and Syst...   \n",
              "2                                                   NaN   \n",
              "3     Secomandi, N.; Tepper School of Business, Unit...   \n",
              "4                                                   NaN   \n",
              "...                                                 ...   \n",
              "1995  Gawade, D.; Symbiosis Institute of Operations ...   \n",
              "1996  Huang, L.; School of Management, China; email:...   \n",
              "1997  Luthra, S.; Mechanical Engineering, India; ema...   \n",
              "1998  Joshi, S.; Operation's and Supply Chain Manage...   \n",
              "1999  Cao, F.; Chongqing University of Posts and Tel...   \n",
              "\n",
              "                                              Publisher      ISSN  \\\n",
              "0                                    Taylor and Francis       NaN   \n",
              "1                                SAGE Publications Inc.  18479790   \n",
              "2     Institute of Electrical and Electronics Engine...       NaN   \n",
              "3                                    Now Publishers Inc  15719545   \n",
              "4                                Walter de Gruyter GmbH  18038417   \n",
              "...                                                 ...       ...   \n",
              "1995                   Sage Publications India Pvt. Ltd  09722629   \n",
              "1996                                    Hindawi Limited  01976729   \n",
              "1997                        Emerald Group Holdings Ltd.  17542731   \n",
              "1998                                Kharazmi University  23831359   \n",
              "1999  Springer Science and Business Media Deutschlan...  21903018   \n",
              "\n",
              "                              ISBN  CODEN      Document Type  Source  \\\n",
              "0     9781315226651; 9780415786782    NaN               Book  Scopus   \n",
              "1                              NaN    NaN            Article  Scopus   \n",
              "2                    9781538610886    NaN  Conference Review  Scopus   \n",
              "3                              NaN    NaN   Conference Paper  Scopus   \n",
              "4                              NaN    NaN            Article  Scopus   \n",
              "...                            ...    ...                ...     ...   \n",
              "1995                           NaN    NaN             Review  Scopus   \n",
              "1996                           NaN  JATRD            Article  Scopus   \n",
              "1997                           NaN    NaN            Article  Scopus   \n",
              "1998                           NaN    NaN            Article  Scopus   \n",
              "1999                 9789813361409    NaN   Conference Paper  Scopus   \n",
              "\n",
              "                     EID  \n",
              "0     2-s2.0-85046049829  \n",
              "1     2-s2.0-85039850983  \n",
              "2     2-s2.0-85050200429  \n",
              "3     2-s2.0-85039788219  \n",
              "4     2-s2.0-85041059781  \n",
              "...                  ...  \n",
              "1995  2-s2.0-85107617698  \n",
              "1996  2-s2.0-85107579417  \n",
              "1997  2-s2.0-85107498651  \n",
              "1998  2-s2.0-85107396069  \n",
              "1999  2-s2.0-85107389152  \n",
              "\n",
              "[8573 rows x 22 columns]"
            ],
            "text/html": [
              "\n",
              "  <div id=\"df-ef96449b-772d-435a-ab75-9ed4da2c7a95\">\n",
              "    <div class=\"colab-df-container\">\n",
              "      <div>\n",
              "<style scoped>\n",
              "    .dataframe tbody tr th:only-of-type {\n",
              "        vertical-align: middle;\n",
              "    }\n",
              "\n",
              "    .dataframe tbody tr th {\n",
              "        vertical-align: top;\n",
              "    }\n",
              "\n",
              "    .dataframe thead th {\n",
              "        text-align: right;\n",
              "    }\n",
              "</style>\n",
              "<table border=\"1\" class=\"dataframe\">\n",
              "  <thead>\n",
              "    <tr style=\"text-align: right;\">\n",
              "      <th></th>\n",
              "      <th>Authors</th>\n",
              "      <th>Author(s) ID</th>\n",
              "      <th>Title</th>\n",
              "      <th>Year</th>\n",
              "      <th>Source title</th>\n",
              "      <th>Cited by</th>\n",
              "      <th>DOI</th>\n",
              "      <th>Link</th>\n",
              "      <th>Affiliations</th>\n",
              "      <th>Authors with affiliations</th>\n",
              "      <th>...</th>\n",
              "      <th>Index Keywords</th>\n",
              "      <th>Funding Details</th>\n",
              "      <th>Correspondence Address</th>\n",
              "      <th>Publisher</th>\n",
              "      <th>ISSN</th>\n",
              "      <th>ISBN</th>\n",
              "      <th>CODEN</th>\n",
              "      <th>Document Type</th>\n",
              "      <th>Source</th>\n",
              "      <th>EID</th>\n",
              "    </tr>\n",
              "  </thead>\n",
              "  <tbody>\n",
              "    <tr>\n",
              "      <th>0</th>\n",
              "      <td>Crush J., Frayne B., McCordic C.</td>\n",
              "      <td>7003748511;6507551740;56004012500;</td>\n",
              "      <td>Food and nutrition security in southern Africa...</td>\n",
              "      <td>2017</td>\n",
              "      <td>Food and Nutrition Security in Southern Africa...</td>\n",
              "      <td>4.0</td>\n",
              "      <td>10.4324/9781315226651</td>\n",
              "      <td>https://www.scopus.com/inward/record.uri?eid=2...</td>\n",
              "      <td>University of Cape Town, South Africa; School ...</td>\n",
              "      <td>Crush, J., University of Cape Town, South Afri...</td>\n",
              "      <td>...</td>\n",
              "      <td>NaN</td>\n",
              "      <td>NaN</td>\n",
              "      <td>Crush, J.; University of Cape TownSouth Africa</td>\n",
              "      <td>Taylor and Francis</td>\n",
              "      <td>NaN</td>\n",
              "      <td>9781315226651; 9780415786782</td>\n",
              "      <td>NaN</td>\n",
              "      <td>Book</td>\n",
              "      <td>Scopus</td>\n",
              "      <td>2-s2.0-85046049829</td>\n",
              "    </tr>\n",
              "    <tr>\n",
              "      <th>1</th>\n",
              "      <td>Tsang Y.P., Choy K.L., Wu C.H., Ho G.T.S., Lam...</td>\n",
              "      <td>57191666025;7005477047;55506191100;8348673600;...</td>\n",
              "      <td>An IoT-based cargo monitoring system for enhan...</td>\n",
              "      <td>2017</td>\n",
              "      <td>International Journal of Engineering Business ...</td>\n",
              "      <td>25.0</td>\n",
              "      <td>10.1177/1847979017749063</td>\n",
              "      <td>https://www.scopus.com/inward/record.uri?eid=2...</td>\n",
              "      <td>Department of Industrial and Systems Engineeri...</td>\n",
              "      <td>Tsang, Y.P., Department of Industrial and Syst...</td>\n",
              "      <td>...</td>\n",
              "      <td>NaN</td>\n",
              "      <td>PolyU</td>\n",
              "      <td>Tsang, Y.P.; Department of Industrial and Syst...</td>\n",
              "      <td>SAGE Publications Inc.</td>\n",
              "      <td>18479790</td>\n",
              "      <td>NaN</td>\n",
              "      <td>NaN</td>\n",
              "      <td>Article</td>\n",
              "      <td>Scopus</td>\n",
              "      <td>2-s2.0-85039850983</td>\n",
              "    </tr>\n",
              "    <tr>\n",
              "      <th>2</th>\n",
              "      <td>[No author name available]</td>\n",
              "      <td>[No author id available]</td>\n",
              "      <td>2017 IEEE 28th Annual Software Technology Conf...</td>\n",
              "      <td>2017</td>\n",
              "      <td>2017 IEEE 28th Annual Software Technology Conf...</td>\n",
              "      <td>NaN</td>\n",
              "      <td>NaN</td>\n",
              "      <td>https://www.scopus.com/inward/record.uri?eid=2...</td>\n",
              "      <td>NaN</td>\n",
              "      <td>NaN</td>\n",
              "      <td>...</td>\n",
              "      <td>NaN</td>\n",
              "      <td>NaN</td>\n",
              "      <td>NaN</td>\n",
              "      <td>Institute of Electrical and Electronics Engine...</td>\n",
              "      <td>NaN</td>\n",
              "      <td>9781538610886</td>\n",
              "      <td>NaN</td>\n",
              "      <td>Conference Review</td>\n",
              "      <td>Scopus</td>\n",
              "      <td>2-s2.0-85050200429</td>\n",
              "    </tr>\n",
              "    <tr>\n",
              "      <th>3</th>\n",
              "      <td>Secomandi N.</td>\n",
              "      <td>6506411578;</td>\n",
              "      <td>Approximations for high dimensional commodity ...</td>\n",
              "      <td>2017</td>\n",
              "      <td>Foundations and Trends in Technology, Informat...</td>\n",
              "      <td>3.0</td>\n",
              "      <td>10.1561/0200000080</td>\n",
              "      <td>https://www.scopus.com/inward/record.uri?eid=2...</td>\n",
              "      <td>Tepper School of Business, Carnegie Mellon Uni...</td>\n",
              "      <td>Secomandi, N., Tepper School of Business, Carn...</td>\n",
              "      <td>...</td>\n",
              "      <td>Electric energy storage; Energy conversion; Ri...</td>\n",
              "      <td>NaN</td>\n",
              "      <td>Secomandi, N.; Tepper School of Business, Unit...</td>\n",
              "      <td>Now Publishers Inc</td>\n",
              "      <td>15719545</td>\n",
              "      <td>NaN</td>\n",
              "      <td>NaN</td>\n",
              "      <td>Conference Paper</td>\n",
              "      <td>Scopus</td>\n",
              "      <td>2-s2.0-85039788219</td>\n",
              "    </tr>\n",
              "    <tr>\n",
              "      <th>4</th>\n",
              "      <td>Korhonen K., Kotavaara O., Muilu T., Rusanen J.</td>\n",
              "      <td>57200382781;35772315700;6602393288;6601955741;</td>\n",
              "      <td>Accessibility of Local Food Production to Regi...</td>\n",
              "      <td>2017</td>\n",
              "      <td>European Countryside</td>\n",
              "      <td>10.0</td>\n",
              "      <td>10.1515/euco-2017-0040</td>\n",
              "      <td>https://www.scopus.com/inward/record.uri?eid=2...</td>\n",
              "      <td>Natural Resources Institute Finland, Universit...</td>\n",
              "      <td>Korhonen, K., Natural Resources Institute Finl...</td>\n",
              "      <td>...</td>\n",
              "      <td>accessibility; agricultural economics; food ma...</td>\n",
              "      <td>NaN</td>\n",
              "      <td>NaN</td>\n",
              "      <td>Walter de Gruyter GmbH</td>\n",
              "      <td>18038417</td>\n",
              "      <td>NaN</td>\n",
              "      <td>NaN</td>\n",
              "      <td>Article</td>\n",
              "      <td>Scopus</td>\n",
              "      <td>2-s2.0-85041059781</td>\n",
              "    </tr>\n",
              "    <tr>\n",
              "      <th>...</th>\n",
              "      <td>...</td>\n",
              "      <td>...</td>\n",
              "      <td>...</td>\n",
              "      <td>...</td>\n",
              "      <td>...</td>\n",
              "      <td>...</td>\n",
              "      <td>...</td>\n",
              "      <td>...</td>\n",
              "      <td>...</td>\n",
              "      <td>...</td>\n",
              "      <td>...</td>\n",
              "      <td>...</td>\n",
              "      <td>...</td>\n",
              "      <td>...</td>\n",
              "      <td>...</td>\n",
              "      <td>...</td>\n",
              "      <td>...</td>\n",
              "      <td>...</td>\n",
              "      <td>...</td>\n",
              "      <td>...</td>\n",
              "      <td>...</td>\n",
              "    </tr>\n",
              "    <tr>\n",
              "      <th>1995</th>\n",
              "      <td>Gawade D.</td>\n",
              "      <td>57224469235;</td>\n",
              "      <td>Agile Supply Chain in Manufacturing and Servic...</td>\n",
              "      <td>2021</td>\n",
              "      <td>Vision</td>\n",
              "      <td>1.0</td>\n",
              "      <td>10.1177/09722629211002000</td>\n",
              "      <td>https://www.scopus.com/inward/record.uri?eid=2...</td>\n",
              "      <td>Symbiosis Institute of Operations Management, ...</td>\n",
              "      <td>Gawade, D., Symbiosis Institute of Operations ...</td>\n",
              "      <td>...</td>\n",
              "      <td>NaN</td>\n",
              "      <td>NaN</td>\n",
              "      <td>Gawade, D.; Symbiosis Institute of Operations ...</td>\n",
              "      <td>Sage Publications India Pvt. Ltd</td>\n",
              "      <td>09722629</td>\n",
              "      <td>NaN</td>\n",
              "      <td>NaN</td>\n",
              "      <td>Review</td>\n",
              "      <td>Scopus</td>\n",
              "      <td>2-s2.0-85107617698</td>\n",
              "    </tr>\n",
              "    <tr>\n",
              "      <th>1996</th>\n",
              "      <td>Huang L., Tan Y., Guan X.</td>\n",
              "      <td>55794665100;57223669545;54385196800;</td>\n",
              "      <td>Evaluation of Cruise Ship Supply Logistics Ser...</td>\n",
              "      <td>2021</td>\n",
              "      <td>Journal of Advanced Transportation</td>\n",
              "      <td>1.0</td>\n",
              "      <td>10.1155/2021/6645946</td>\n",
              "      <td>https://www.scopus.com/inward/record.uri?eid=2...</td>\n",
              "      <td>School of Management, Wuhan Polytechnic Univer...</td>\n",
              "      <td>Huang, L., School of Management, Wuhan Polytec...</td>\n",
              "      <td>...</td>\n",
              "      <td>Internet service providers; Radial basis funct...</td>\n",
              "      <td>NaN</td>\n",
              "      <td>Huang, L.; School of Management, China; email:...</td>\n",
              "      <td>Hindawi Limited</td>\n",
              "      <td>01976729</td>\n",
              "      <td>NaN</td>\n",
              "      <td>JATRD</td>\n",
              "      <td>Article</td>\n",
              "      <td>Scopus</td>\n",
              "      <td>2-s2.0-85107579417</td>\n",
              "    </tr>\n",
              "    <tr>\n",
              "      <th>1997</th>\n",
              "      <td>Agrawal R., Wankhede V.A., Kumar A., Luthra S.</td>\n",
              "      <td>57193951175;57204053781;57001679600;43361407000;</td>\n",
              "      <td>A systematic and network-based analysis of dat...</td>\n",
              "      <td>2021</td>\n",
              "      <td>TQM Journal</td>\n",
              "      <td>4.0</td>\n",
              "      <td>10.1108/TQM-12-2020-0285</td>\n",
              "      <td>https://www.scopus.com/inward/record.uri?eid=2...</td>\n",
              "      <td>Department of Production Engineering, National...</td>\n",
              "      <td>Agrawal, R., Department of Production Engineer...</td>\n",
              "      <td>...</td>\n",
              "      <td>Artificial intelligence; Decision making; Qual...</td>\n",
              "      <td>NaN</td>\n",
              "      <td>Luthra, S.; Mechanical Engineering, India; ema...</td>\n",
              "      <td>Emerald Group Holdings Ltd.</td>\n",
              "      <td>17542731</td>\n",
              "      <td>NaN</td>\n",
              "      <td>NaN</td>\n",
              "      <td>Article</td>\n",
              "      <td>Scopus</td>\n",
              "      <td>2-s2.0-85107498651</td>\n",
              "    </tr>\n",
              "    <tr>\n",
              "      <th>1998</th>\n",
              "      <td>Trivedi A., Sohal A., Joshi S., Sharma M.</td>\n",
              "      <td>56482859500;57224361122;56111179800;57198780582;</td>\n",
              "      <td>A two-stage optimization model for tactical pl...</td>\n",
              "      <td>2021</td>\n",
              "      <td>International Journal of Supply and Operations...</td>\n",
              "      <td>2.0</td>\n",
              "      <td>10.22034/IJSOM.2021.1.2</td>\n",
              "      <td>https://www.scopus.com/inward/record.uri?eid=2...</td>\n",
              "      <td>O. P. Jindal Global University, Haryana, Sonep...</td>\n",
              "      <td>Trivedi, A., O. P. Jindal Global University, H...</td>\n",
              "      <td>...</td>\n",
              "      <td>NaN</td>\n",
              "      <td>NaN</td>\n",
              "      <td>Joshi, S.; Operation's and Supply Chain Manage...</td>\n",
              "      <td>Kharazmi University</td>\n",
              "      <td>23831359</td>\n",
              "      <td>NaN</td>\n",
              "      <td>NaN</td>\n",
              "      <td>Article</td>\n",
              "      <td>Scopus</td>\n",
              "      <td>2-s2.0-85107396069</td>\n",
              "    </tr>\n",
              "    <tr>\n",
              "      <th>1999</th>\n",
              "      <td>Zhou Y., Cao F., Cao Y., Yang N., Li Z.</td>\n",
              "      <td>56164109200;57224312237;57224310403;5722432395...</td>\n",
              "      <td>A Grammar-Aware Pointer Network for Abstractiv...</td>\n",
              "      <td>2021</td>\n",
              "      <td>Smart Innovation, Systems and Technologies</td>\n",
              "      <td>NaN</td>\n",
              "      <td>10.1007/978-981-33-6141-6_21</td>\n",
              "      <td>https://www.scopus.com/inward/record.uri?eid=2...</td>\n",
              "      <td>Chongqing University of Posts and Telecommunic...</td>\n",
              "      <td>Zhou, Y., Chongqing University of Posts and Te...</td>\n",
              "      <td>...</td>\n",
              "      <td>Big data; Industrial internet of things (IIoT)...</td>\n",
              "      <td>NaN</td>\n",
              "      <td>Cao, F.; Chongqing University of Posts and Tel...</td>\n",
              "      <td>Springer Science and Business Media Deutschlan...</td>\n",
              "      <td>21903018</td>\n",
              "      <td>9789813361409</td>\n",
              "      <td>NaN</td>\n",
              "      <td>Conference Paper</td>\n",
              "      <td>Scopus</td>\n",
              "      <td>2-s2.0-85107389152</td>\n",
              "    </tr>\n",
              "  </tbody>\n",
              "</table>\n",
              "<p>8573 rows × 22 columns</p>\n",
              "</div>\n",
              "      <button class=\"colab-df-convert\" onclick=\"convertToInteractive('df-ef96449b-772d-435a-ab75-9ed4da2c7a95')\"\n",
              "              title=\"Convert this dataframe to an interactive table.\"\n",
              "              style=\"display:none;\">\n",
              "        \n",
              "  <svg xmlns=\"http://www.w3.org/2000/svg\" height=\"24px\"viewBox=\"0 0 24 24\"\n",
              "       width=\"24px\">\n",
              "    <path d=\"M0 0h24v24H0V0z\" fill=\"none\"/>\n",
              "    <path d=\"M18.56 5.44l.94 2.06.94-2.06 2.06-.94-2.06-.94-.94-2.06-.94 2.06-2.06.94zm-11 1L8.5 8.5l.94-2.06 2.06-.94-2.06-.94L8.5 2.5l-.94 2.06-2.06.94zm10 10l.94 2.06.94-2.06 2.06-.94-2.06-.94-.94-2.06-.94 2.06-2.06.94z\"/><path d=\"M17.41 7.96l-1.37-1.37c-.4-.4-.92-.59-1.43-.59-.52 0-1.04.2-1.43.59L10.3 9.45l-7.72 7.72c-.78.78-.78 2.05 0 2.83L4 21.41c.39.39.9.59 1.41.59.51 0 1.02-.2 1.41-.59l7.78-7.78 2.81-2.81c.8-.78.8-2.07 0-2.86zM5.41 20L4 18.59l7.72-7.72 1.47 1.35L5.41 20z\"/>\n",
              "  </svg>\n",
              "      </button>\n",
              "      \n",
              "  <style>\n",
              "    .colab-df-container {\n",
              "      display:flex;\n",
              "      flex-wrap:wrap;\n",
              "      gap: 12px;\n",
              "    }\n",
              "\n",
              "    .colab-df-convert {\n",
              "      background-color: #E8F0FE;\n",
              "      border: none;\n",
              "      border-radius: 50%;\n",
              "      cursor: pointer;\n",
              "      display: none;\n",
              "      fill: #1967D2;\n",
              "      height: 32px;\n",
              "      padding: 0 0 0 0;\n",
              "      width: 32px;\n",
              "    }\n",
              "\n",
              "    .colab-df-convert:hover {\n",
              "      background-color: #E2EBFA;\n",
              "      box-shadow: 0px 1px 2px rgba(60, 64, 67, 0.3), 0px 1px 3px 1px rgba(60, 64, 67, 0.15);\n",
              "      fill: #174EA6;\n",
              "    }\n",
              "\n",
              "    [theme=dark] .colab-df-convert {\n",
              "      background-color: #3B4455;\n",
              "      fill: #D2E3FC;\n",
              "    }\n",
              "\n",
              "    [theme=dark] .colab-df-convert:hover {\n",
              "      background-color: #434B5C;\n",
              "      box-shadow: 0px 1px 3px 1px rgba(0, 0, 0, 0.15);\n",
              "      filter: drop-shadow(0px 1px 2px rgba(0, 0, 0, 0.3));\n",
              "      fill: #FFFFFF;\n",
              "    }\n",
              "  </style>\n",
              "\n",
              "      <script>\n",
              "        const buttonEl =\n",
              "          document.querySelector('#df-ef96449b-772d-435a-ab75-9ed4da2c7a95 button.colab-df-convert');\n",
              "        buttonEl.style.display =\n",
              "          google.colab.kernel.accessAllowed ? 'block' : 'none';\n",
              "\n",
              "        async function convertToInteractive(key) {\n",
              "          const element = document.querySelector('#df-ef96449b-772d-435a-ab75-9ed4da2c7a95');\n",
              "          const dataTable =\n",
              "            await google.colab.kernel.invokeFunction('convertToInteractive',\n",
              "                                                     [key], {});\n",
              "          if (!dataTable) return;\n",
              "\n",
              "          const docLinkHtml = 'Like what you see? Visit the ' +\n",
              "            '<a target=\"_blank\" href=https://colab.research.google.com/notebooks/data_table.ipynb>data table notebook</a>'\n",
              "            + ' to learn more about interactive tables.';\n",
              "          element.innerHTML = '';\n",
              "          dataTable['output_type'] = 'display_data';\n",
              "          await google.colab.output.renderOutput(dataTable, element);\n",
              "          const docLink = document.createElement('div');\n",
              "          docLink.innerHTML = docLinkHtml;\n",
              "          element.appendChild(docLink);\n",
              "        }\n",
              "      </script>\n",
              "    </div>\n",
              "  </div>\n",
              "  "
            ]
          },
          "metadata": {},
          "execution_count": 7
        }
      ]
    },
    {
      "cell_type": "code",
      "source": [
        "df.shape"
      ],
      "metadata": {
        "colab": {
          "base_uri": "https://localhost:8080/"
        },
        "id": "e2G109lcpxNl",
        "outputId": "b8a3fc90-f656-4034-f3a5-0490de0ac206"
      },
      "execution_count": null,
      "outputs": [
        {
          "output_type": "execute_result",
          "data": {
            "text/plain": [
              "(8573, 22)"
            ]
          },
          "metadata": {},
          "execution_count": 8
        }
      ]
    },
    {
      "cell_type": "code",
      "source": [
        "df.columns"
      ],
      "metadata": {
        "colab": {
          "base_uri": "https://localhost:8080/"
        },
        "id": "02u7VJl4p1eX",
        "outputId": "6170068b-70bd-4d07-ac07-82f0a4773ad4"
      },
      "execution_count": null,
      "outputs": [
        {
          "output_type": "execute_result",
          "data": {
            "text/plain": [
              "Index(['Authors', 'Author(s) ID', 'Title', 'Year', 'Source title', 'Cited by',\n",
              "       'DOI', 'Link', 'Affiliations', 'Authors with affiliations', 'Abstract',\n",
              "       'Author Keywords', 'Index Keywords', 'Funding Details',\n",
              "       'Correspondence Address', 'Publisher', 'ISSN', 'ISBN', 'CODEN',\n",
              "       'Document Type', 'Source', 'EID'],\n",
              "      dtype='object')"
            ]
          },
          "metadata": {},
          "execution_count": 9
        }
      ]
    },
    {
      "cell_type": "code",
      "source": [
        "edgelist = []\n",
        "for i in df.iterrows():\n",
        "  targets = i[1]['Authors'].split(',')\n",
        "  edgelist_i = [(i[1]['EID'], j) for j in targets]\n",
        "  edgelist.extend(edgelist_i)"
      ],
      "metadata": {
        "id": "34mb-vqLq8mN"
      },
      "execution_count": 36,
      "outputs": []
    },
    {
      "cell_type": "code",
      "source": [
        "edgelist[2]  #<---- Show small sample of the data"
      ],
      "metadata": {
        "colab": {
          "base_uri": "https://localhost:8080/"
        },
        "id": "LJgoqMaphp8s",
        "outputId": "3aab44a8-03f6-4015-c777-142ed9926f17"
      },
      "execution_count": 49,
      "outputs": [
        {
          "output_type": "execute_result",
          "data": {
            "text/plain": [
              "('2-s2.0-85046049829', ' McCordic C.')"
            ]
          },
          "metadata": {},
          "execution_count": 49
        }
      ]
    },
    {
      "cell_type": "code",
      "source": [
        "len(edgelist)"
      ],
      "metadata": {
        "id": "4k1gTX-x_ITL",
        "colab": {
          "base_uri": "https://localhost:8080/"
        },
        "outputId": "6cc99a24-dece-4f3f-b885-c09aac99c1d9"
      },
      "execution_count": 38,
      "outputs": [
        {
          "output_type": "execute_result",
          "data": {
            "text/plain": [
              "29133"
            ]
          },
          "metadata": {},
          "execution_count": 38
        }
      ]
    },
    {
      "cell_type": "code",
      "source": [
        "import networkx as nx"
      ],
      "metadata": {
        "id": "hJCIFCVbuFUF"
      },
      "execution_count": 39,
      "outputs": []
    },
    {
      "cell_type": "code",
      "source": [
        "from networkx.algorithms import bipartite"
      ],
      "metadata": {
        "id": "Wt3Yl1W35u2N"
      },
      "execution_count": 40,
      "outputs": []
    },
    {
      "cell_type": "code",
      "metadata": {
        "id": "Brmd71yGT-2p"
      },
      "source": [
        "c0 = set([c[0] for c in edgelist])\n",
        "c1 = set([c[1] for c in edgelist])"
      ],
      "execution_count": 41,
      "outputs": []
    },
    {
      "cell_type": "code",
      "metadata": {
        "id": "MmNmKhZmT3WY"
      },
      "source": [
        "B = nx.Graph()"
      ],
      "execution_count": 43,
      "outputs": []
    },
    {
      "cell_type": "code",
      "metadata": {
        "id": "ZGmNfVXET5f8"
      },
      "source": [
        "# add nodes and edges in their modes\n",
        "B.add_nodes_from(c0, bipartite=0)\n",
        "B.add_nodes_from(c1, bipartite=1)\n",
        "B.add_edges_from(edgelist)"
      ],
      "execution_count": 44,
      "outputs": []
    },
    {
      "cell_type": "code",
      "source": [],
      "metadata": {
        "id": "uuzOP44O2Sha"
      },
      "execution_count": null,
      "outputs": []
    },
    {
      "cell_type": "code",
      "source": [
        "print(nx.is_connected(B))"
      ],
      "metadata": {
        "id": "67zJoF4lIq3Z",
        "colab": {
          "base_uri": "https://localhost:8080/"
        },
        "outputId": "42c2c14f-32b7-4cc9-b9fa-2719422187f7"
      },
      "execution_count": 45,
      "outputs": [
        {
          "output_type": "stream",
          "name": "stdout",
          "text": [
            "False\n"
          ]
        }
      ]
    },
    {
      "cell_type": "code",
      "source": [
        "bottom_nodes, top_nodes = bipartite.sets(B)"
      ],
      "metadata": {
        "id": "zyRrkxsVrbkY",
        "colab": {
          "base_uri": "https://localhost:8080/",
          "height": 287
        },
        "outputId": "e302f465-e29f-4185-ffc1-341a968a7d1f"
      },
      "execution_count": 47,
      "outputs": [
        {
          "output_type": "error",
          "ename": "AmbiguousSolution",
          "evalue": "ignored",
          "traceback": [
            "\u001b[0;31m---------------------------------------------------------------------------\u001b[0m",
            "\u001b[0;31mAmbiguousSolution\u001b[0m                         Traceback (most recent call last)",
            "\u001b[0;32m<ipython-input-47-2bd3f6c60242>\u001b[0m in \u001b[0;36m<module>\u001b[0;34m\u001b[0m\n\u001b[0;32m----> 1\u001b[0;31m \u001b[0mbottom_nodes\u001b[0m\u001b[0;34m,\u001b[0m \u001b[0mtop_nodes\u001b[0m \u001b[0;34m=\u001b[0m \u001b[0mbipartite\u001b[0m\u001b[0;34m.\u001b[0m\u001b[0msets\u001b[0m\u001b[0;34m(\u001b[0m\u001b[0mB\u001b[0m\u001b[0;34m)\u001b[0m\u001b[0;34m\u001b[0m\u001b[0;34m\u001b[0m\u001b[0m\n\u001b[0m",
            "\u001b[0;32m/usr/local/lib/python3.7/dist-packages/networkx/algorithms/bipartite/basic.py\u001b[0m in \u001b[0;36msets\u001b[0;34m(G, top_nodes)\u001b[0m\n\u001b[1;32m    199\u001b[0m         \u001b[0;32mif\u001b[0m \u001b[0;32mnot\u001b[0m \u001b[0mis_connected\u001b[0m\u001b[0;34m(\u001b[0m\u001b[0mG\u001b[0m\u001b[0;34m)\u001b[0m\u001b[0;34m:\u001b[0m\u001b[0;34m\u001b[0m\u001b[0;34m\u001b[0m\u001b[0m\n\u001b[1;32m    200\u001b[0m             \u001b[0mmsg\u001b[0m \u001b[0;34m=\u001b[0m \u001b[0;34m\"Disconnected graph: Ambiguous solution for bipartite sets.\"\u001b[0m\u001b[0;34m\u001b[0m\u001b[0;34m\u001b[0m\u001b[0m\n\u001b[0;32m--> 201\u001b[0;31m             \u001b[0;32mraise\u001b[0m \u001b[0mnx\u001b[0m\u001b[0;34m.\u001b[0m\u001b[0mAmbiguousSolution\u001b[0m\u001b[0;34m(\u001b[0m\u001b[0mmsg\u001b[0m\u001b[0;34m)\u001b[0m\u001b[0;34m\u001b[0m\u001b[0;34m\u001b[0m\u001b[0m\n\u001b[0m\u001b[1;32m    202\u001b[0m         \u001b[0mc\u001b[0m \u001b[0;34m=\u001b[0m \u001b[0mcolor\u001b[0m\u001b[0;34m(\u001b[0m\u001b[0mG\u001b[0m\u001b[0;34m)\u001b[0m\u001b[0;34m\u001b[0m\u001b[0;34m\u001b[0m\u001b[0m\n\u001b[1;32m    203\u001b[0m         \u001b[0mX\u001b[0m \u001b[0;34m=\u001b[0m \u001b[0;34m{\u001b[0m\u001b[0mn\u001b[0m \u001b[0;32mfor\u001b[0m \u001b[0mn\u001b[0m\u001b[0;34m,\u001b[0m \u001b[0mis_top\u001b[0m \u001b[0;32min\u001b[0m \u001b[0mc\u001b[0m\u001b[0;34m.\u001b[0m\u001b[0mitems\u001b[0m\u001b[0;34m(\u001b[0m\u001b[0;34m)\u001b[0m \u001b[0;32mif\u001b[0m \u001b[0mis_top\u001b[0m\u001b[0;34m}\u001b[0m\u001b[0;34m\u001b[0m\u001b[0;34m\u001b[0m\u001b[0m\n",
            "\u001b[0;31mAmbiguousSolution\u001b[0m: Disconnected graph: Ambiguous solution for bipartite sets."
          ]
        }
      ]
    },
    {
      "cell_type": "code",
      "source": [
        "top_nodes = {n for n, d in B.nodes(data=True) if d[\"bipartite\"] == 0}\n",
        "bottom_nodes = set(B) - top_nodes"
      ],
      "metadata": {
        "id": "C0otsehiI7cr"
      },
      "execution_count": null,
      "outputs": []
    },
    {
      "cell_type": "code",
      "source": [
        "print(round(bipartite.density(B, bottom_nodes), 2))"
      ],
      "metadata": {
        "colab": {
          "base_uri": "https://localhost:8080/"
        },
        "id": "1P2w6aLBJPOA",
        "outputId": "7696a687-2e56-423b-8bf6-6bc808205d27"
      },
      "execution_count": null,
      "outputs": [
        {
          "output_type": "stream",
          "name": "stdout",
          "text": [
            "0.0\n"
          ]
        }
      ]
    },
    {
      "cell_type": "code",
      "source": [
        "G = bipartite.collaboration_weighted_projected_graph(B, top_nodes)"
      ],
      "metadata": {
        "id": "yVPkJ2-uJTus"
      },
      "execution_count": null,
      "outputs": []
    },
    {
      "cell_type": "code",
      "source": [
        "RB = bipartite.random_graph(5, 7, 0.2)\n",
        "RB_top = {n for n, d in RB.nodes(data=True) if d[\"bipartite\"] == 0}\n",
        "RB_bottom = set(RB) - RB_top"
      ],
      "metadata": {
        "id": "tT2h45CLJXHc"
      },
      "execution_count": null,
      "outputs": []
    },
    {
      "cell_type": "code",
      "source": [
        "list(RB_top)"
      ],
      "metadata": {
        "colab": {
          "base_uri": "https://localhost:8080/"
        },
        "id": "vxGM3KnkJn2O",
        "outputId": "565e85da-64f2-4123-e1f0-6dd0f47157fd"
      },
      "execution_count": null,
      "outputs": [
        {
          "output_type": "execute_result",
          "data": {
            "text/plain": [
              "[0, 1, 2, 3, 4]"
            ]
          },
          "metadata": {},
          "execution_count": 266
        }
      ]
    },
    {
      "cell_type": "code",
      "source": [
        "list(RB_bottom)"
      ],
      "metadata": {
        "colab": {
          "base_uri": "https://localhost:8080/"
        },
        "id": "pEyndVlVJpKx",
        "outputId": "e9437dac-e359-4feb-e294-fbbc85b0595a"
      },
      "execution_count": null,
      "outputs": [
        {
          "output_type": "execute_result",
          "data": {
            "text/plain": [
              "[5, 6, 7, 8, 9, 10, 11]"
            ]
          },
          "metadata": {},
          "execution_count": 267
        }
      ]
    },
    {
      "cell_type": "code",
      "metadata": {
        "id": "exAy3SSXVL_7",
        "outputId": "13768abe-83b0-49e3-aca0-7ee3efde4f96",
        "colab": {
          "base_uri": "https://localhost:8080/",
          "height": 356
        }
      },
      "source": [
        "# very clunky visualization of 2-mode networks (unfortunately)\n",
        "left, right = nx.bipartite.sets(B)\n",
        "pos = {}\n",
        "\n",
        "# Update position for node from each group\n",
        "pos.update((node, (1, index)) for index, node in enumerate(left))\n",
        "pos.update((node, (2, index)) for index, node in enumerate(right))\n",
        "\n",
        "nx.draw(B, pos=pos, with_labels=True)\n",
        "plt.show()"
      ],
      "execution_count": 48,
      "outputs": [
        {
          "output_type": "error",
          "ename": "AmbiguousSolution",
          "evalue": "ignored",
          "traceback": [
            "\u001b[0;31m---------------------------------------------------------------------------\u001b[0m",
            "\u001b[0;31mAmbiguousSolution\u001b[0m                         Traceback (most recent call last)",
            "\u001b[0;32m<ipython-input-48-3038214e080a>\u001b[0m in \u001b[0;36m<module>\u001b[0;34m\u001b[0m\n\u001b[1;32m      1\u001b[0m \u001b[0;31m# very clunky visualization of 2-mode networks (unfortunately)\u001b[0m\u001b[0;34m\u001b[0m\u001b[0;34m\u001b[0m\u001b[0;34m\u001b[0m\u001b[0m\n\u001b[0;32m----> 2\u001b[0;31m \u001b[0mleft\u001b[0m\u001b[0;34m,\u001b[0m \u001b[0mright\u001b[0m \u001b[0;34m=\u001b[0m \u001b[0mnx\u001b[0m\u001b[0;34m.\u001b[0m\u001b[0mbipartite\u001b[0m\u001b[0;34m.\u001b[0m\u001b[0msets\u001b[0m\u001b[0;34m(\u001b[0m\u001b[0mB\u001b[0m\u001b[0;34m)\u001b[0m\u001b[0;34m\u001b[0m\u001b[0;34m\u001b[0m\u001b[0m\n\u001b[0m\u001b[1;32m      3\u001b[0m \u001b[0mpos\u001b[0m \u001b[0;34m=\u001b[0m \u001b[0;34m{\u001b[0m\u001b[0;34m}\u001b[0m\u001b[0;34m\u001b[0m\u001b[0;34m\u001b[0m\u001b[0m\n\u001b[1;32m      4\u001b[0m \u001b[0;34m\u001b[0m\u001b[0m\n\u001b[1;32m      5\u001b[0m \u001b[0;31m# Update position for node from each group\u001b[0m\u001b[0;34m\u001b[0m\u001b[0;34m\u001b[0m\u001b[0;34m\u001b[0m\u001b[0m\n",
            "\u001b[0;32m/usr/local/lib/python3.7/dist-packages/networkx/algorithms/bipartite/basic.py\u001b[0m in \u001b[0;36msets\u001b[0;34m(G, top_nodes)\u001b[0m\n\u001b[1;32m    199\u001b[0m         \u001b[0;32mif\u001b[0m \u001b[0;32mnot\u001b[0m \u001b[0mis_connected\u001b[0m\u001b[0;34m(\u001b[0m\u001b[0mG\u001b[0m\u001b[0;34m)\u001b[0m\u001b[0;34m:\u001b[0m\u001b[0;34m\u001b[0m\u001b[0;34m\u001b[0m\u001b[0m\n\u001b[1;32m    200\u001b[0m             \u001b[0mmsg\u001b[0m \u001b[0;34m=\u001b[0m \u001b[0;34m\"Disconnected graph: Ambiguous solution for bipartite sets.\"\u001b[0m\u001b[0;34m\u001b[0m\u001b[0;34m\u001b[0m\u001b[0m\n\u001b[0;32m--> 201\u001b[0;31m             \u001b[0;32mraise\u001b[0m \u001b[0mnx\u001b[0m\u001b[0;34m.\u001b[0m\u001b[0mAmbiguousSolution\u001b[0m\u001b[0;34m(\u001b[0m\u001b[0mmsg\u001b[0m\u001b[0;34m)\u001b[0m\u001b[0;34m\u001b[0m\u001b[0;34m\u001b[0m\u001b[0m\n\u001b[0m\u001b[1;32m    202\u001b[0m         \u001b[0mc\u001b[0m \u001b[0;34m=\u001b[0m \u001b[0mcolor\u001b[0m\u001b[0;34m(\u001b[0m\u001b[0mG\u001b[0m\u001b[0;34m)\u001b[0m\u001b[0;34m\u001b[0m\u001b[0;34m\u001b[0m\u001b[0m\n\u001b[1;32m    203\u001b[0m         \u001b[0mX\u001b[0m \u001b[0;34m=\u001b[0m \u001b[0;34m{\u001b[0m\u001b[0mn\u001b[0m \u001b[0;32mfor\u001b[0m \u001b[0mn\u001b[0m\u001b[0;34m,\u001b[0m \u001b[0mis_top\u001b[0m \u001b[0;32min\u001b[0m \u001b[0mc\u001b[0m\u001b[0;34m.\u001b[0m\u001b[0mitems\u001b[0m\u001b[0;34m(\u001b[0m\u001b[0;34m)\u001b[0m \u001b[0;32mif\u001b[0m \u001b[0mis_top\u001b[0m\u001b[0;34m}\u001b[0m\u001b[0;34m\u001b[0m\u001b[0;34m\u001b[0m\u001b[0m\n",
            "\u001b[0;31mAmbiguousSolution\u001b[0m: Disconnected graph: Ambiguous solution for bipartite sets."
          ]
        }
      ]
    },
    {
      "cell_type": "code",
      "metadata": {
        "id": "ytgplW4nVydH",
        "colab": {
          "base_uri": "https://localhost:8080/",
          "height": 344
        },
        "outputId": "36cdc64a-041e-49b6-f0ac-37bc5c52a306"
      },
      "source": [
        "# projecting onto people\n",
        "B_people = bipartite.weighted_projected_graph(B, df_authors)"
      ],
      "execution_count": null,
      "outputs": [
        {
          "output_type": "error",
          "ename": "KeyError",
          "evalue": "ignored",
          "traceback": [
            "\u001b[0;31m---------------------------------------------------------------------------\u001b[0m",
            "\u001b[0;31mKeyError\u001b[0m                                  Traceback (most recent call last)",
            "\u001b[0;32m<ipython-input-270-7daf67290ec9>\u001b[0m in \u001b[0;36m<module>\u001b[0;34m\u001b[0m\n\u001b[1;32m      1\u001b[0m \u001b[0;31m# projecting onto people\u001b[0m\u001b[0;34m\u001b[0m\u001b[0;34m\u001b[0m\u001b[0;34m\u001b[0m\u001b[0m\n\u001b[0;32m----> 2\u001b[0;31m \u001b[0mB_people\u001b[0m \u001b[0;34m=\u001b[0m \u001b[0mbipartite\u001b[0m\u001b[0;34m.\u001b[0m\u001b[0mweighted_projected_graph\u001b[0m\u001b[0;34m(\u001b[0m\u001b[0mB\u001b[0m\u001b[0;34m,\u001b[0m \u001b[0mdf_authors\u001b[0m\u001b[0;34m)\u001b[0m\u001b[0;34m\u001b[0m\u001b[0;34m\u001b[0m\u001b[0m\n\u001b[0m",
            "\u001b[0;32m/usr/local/lib/python3.7/dist-packages/networkx/utils/decorators.py\u001b[0m in \u001b[0;36margmap_weighted_projected_graph_17\u001b[0;34m(B, nodes, ratio)\u001b[0m\n\u001b[1;32m      2\u001b[0m \u001b[0;32mfrom\u001b[0m \u001b[0mos\u001b[0m\u001b[0;34m.\u001b[0m\u001b[0mpath\u001b[0m \u001b[0;32mimport\u001b[0m \u001b[0msplitext\u001b[0m\u001b[0;34m\u001b[0m\u001b[0;34m\u001b[0m\u001b[0m\n\u001b[1;32m      3\u001b[0m \u001b[0;32mfrom\u001b[0m \u001b[0mcontextlib\u001b[0m \u001b[0;32mimport\u001b[0m \u001b[0mcontextmanager\u001b[0m\u001b[0;34m\u001b[0m\u001b[0;34m\u001b[0m\u001b[0m\n\u001b[0;32m----> 4\u001b[0;31m \u001b[0;32mfrom\u001b[0m \u001b[0mpathlib\u001b[0m \u001b[0;32mimport\u001b[0m \u001b[0mPath\u001b[0m\u001b[0;34m\u001b[0m\u001b[0;34m\u001b[0m\u001b[0m\n\u001b[0m\u001b[1;32m      5\u001b[0m \u001b[0;32mimport\u001b[0m \u001b[0mwarnings\u001b[0m\u001b[0;34m\u001b[0m\u001b[0;34m\u001b[0m\u001b[0m\n\u001b[1;32m      6\u001b[0m \u001b[0;34m\u001b[0m\u001b[0m\n",
            "\u001b[0;32m/usr/local/lib/python3.7/dist-packages/networkx/algorithms/bipartite/projection.py\u001b[0m in \u001b[0;36mweighted_projected_graph\u001b[0;34m(B, nodes, ratio)\u001b[0m\n\u001b[1;32m    189\u001b[0m         \u001b[0mG\u001b[0m \u001b[0;34m=\u001b[0m \u001b[0mnx\u001b[0m\u001b[0;34m.\u001b[0m\u001b[0mGraph\u001b[0m\u001b[0;34m(\u001b[0m\u001b[0;34m)\u001b[0m\u001b[0;34m\u001b[0m\u001b[0;34m\u001b[0m\u001b[0m\n\u001b[1;32m    190\u001b[0m     \u001b[0mG\u001b[0m\u001b[0;34m.\u001b[0m\u001b[0mgraph\u001b[0m\u001b[0;34m.\u001b[0m\u001b[0mupdate\u001b[0m\u001b[0;34m(\u001b[0m\u001b[0mB\u001b[0m\u001b[0;34m.\u001b[0m\u001b[0mgraph\u001b[0m\u001b[0;34m)\u001b[0m\u001b[0;34m\u001b[0m\u001b[0;34m\u001b[0m\u001b[0m\n\u001b[0;32m--> 191\u001b[0;31m     \u001b[0mG\u001b[0m\u001b[0;34m.\u001b[0m\u001b[0madd_nodes_from\u001b[0m\u001b[0;34m(\u001b[0m\u001b[0;34m(\u001b[0m\u001b[0mn\u001b[0m\u001b[0;34m,\u001b[0m \u001b[0mB\u001b[0m\u001b[0;34m.\u001b[0m\u001b[0mnodes\u001b[0m\u001b[0;34m[\u001b[0m\u001b[0mn\u001b[0m\u001b[0;34m]\u001b[0m\u001b[0;34m)\u001b[0m \u001b[0;32mfor\u001b[0m \u001b[0mn\u001b[0m \u001b[0;32min\u001b[0m \u001b[0mnodes\u001b[0m\u001b[0;34m)\u001b[0m\u001b[0;34m\u001b[0m\u001b[0;34m\u001b[0m\u001b[0m\n\u001b[0m\u001b[1;32m    192\u001b[0m     \u001b[0mn_top\u001b[0m \u001b[0;34m=\u001b[0m \u001b[0mfloat\u001b[0m\u001b[0;34m(\u001b[0m\u001b[0mlen\u001b[0m\u001b[0;34m(\u001b[0m\u001b[0mB\u001b[0m\u001b[0;34m)\u001b[0m \u001b[0;34m-\u001b[0m \u001b[0mlen\u001b[0m\u001b[0;34m(\u001b[0m\u001b[0mnodes\u001b[0m\u001b[0;34m)\u001b[0m\u001b[0;34m)\u001b[0m\u001b[0;34m\u001b[0m\u001b[0;34m\u001b[0m\u001b[0m\n\u001b[1;32m    193\u001b[0m     \u001b[0;32mfor\u001b[0m \u001b[0mu\u001b[0m \u001b[0;32min\u001b[0m \u001b[0mnodes\u001b[0m\u001b[0;34m:\u001b[0m\u001b[0;34m\u001b[0m\u001b[0;34m\u001b[0m\u001b[0m\n",
            "\u001b[0;32m/usr/local/lib/python3.7/dist-packages/networkx/classes/graph.py\u001b[0m in \u001b[0;36madd_nodes_from\u001b[0;34m(self, nodes_for_adding, **attr)\u001b[0m\n\u001b[1;32m    568\u001b[0m \u001b[0;34m\u001b[0m\u001b[0m\n\u001b[1;32m    569\u001b[0m         \"\"\"\n\u001b[0;32m--> 570\u001b[0;31m         \u001b[0;32mfor\u001b[0m \u001b[0mn\u001b[0m \u001b[0;32min\u001b[0m \u001b[0mnodes_for_adding\u001b[0m\u001b[0;34m:\u001b[0m\u001b[0;34m\u001b[0m\u001b[0;34m\u001b[0m\u001b[0m\n\u001b[0m\u001b[1;32m    571\u001b[0m             \u001b[0;32mtry\u001b[0m\u001b[0;34m:\u001b[0m\u001b[0;34m\u001b[0m\u001b[0;34m\u001b[0m\u001b[0m\n\u001b[1;32m    572\u001b[0m                 \u001b[0mnewnode\u001b[0m \u001b[0;34m=\u001b[0m \u001b[0mn\u001b[0m \u001b[0;32mnot\u001b[0m \u001b[0;32min\u001b[0m \u001b[0mself\u001b[0m\u001b[0;34m.\u001b[0m\u001b[0m_node\u001b[0m\u001b[0;34m\u001b[0m\u001b[0;34m\u001b[0m\u001b[0m\n",
            "\u001b[0;32m/usr/local/lib/python3.7/dist-packages/networkx/algorithms/bipartite/projection.py\u001b[0m in \u001b[0;36m<genexpr>\u001b[0;34m(.0)\u001b[0m\n\u001b[1;32m    189\u001b[0m         \u001b[0mG\u001b[0m \u001b[0;34m=\u001b[0m \u001b[0mnx\u001b[0m\u001b[0;34m.\u001b[0m\u001b[0mGraph\u001b[0m\u001b[0;34m(\u001b[0m\u001b[0;34m)\u001b[0m\u001b[0;34m\u001b[0m\u001b[0;34m\u001b[0m\u001b[0m\n\u001b[1;32m    190\u001b[0m     \u001b[0mG\u001b[0m\u001b[0;34m.\u001b[0m\u001b[0mgraph\u001b[0m\u001b[0;34m.\u001b[0m\u001b[0mupdate\u001b[0m\u001b[0;34m(\u001b[0m\u001b[0mB\u001b[0m\u001b[0;34m.\u001b[0m\u001b[0mgraph\u001b[0m\u001b[0;34m)\u001b[0m\u001b[0;34m\u001b[0m\u001b[0;34m\u001b[0m\u001b[0m\n\u001b[0;32m--> 191\u001b[0;31m     \u001b[0mG\u001b[0m\u001b[0;34m.\u001b[0m\u001b[0madd_nodes_from\u001b[0m\u001b[0;34m(\u001b[0m\u001b[0;34m(\u001b[0m\u001b[0mn\u001b[0m\u001b[0;34m,\u001b[0m \u001b[0mB\u001b[0m\u001b[0;34m.\u001b[0m\u001b[0mnodes\u001b[0m\u001b[0;34m[\u001b[0m\u001b[0mn\u001b[0m\u001b[0;34m]\u001b[0m\u001b[0;34m)\u001b[0m \u001b[0;32mfor\u001b[0m \u001b[0mn\u001b[0m \u001b[0;32min\u001b[0m \u001b[0mnodes\u001b[0m\u001b[0;34m)\u001b[0m\u001b[0;34m\u001b[0m\u001b[0;34m\u001b[0m\u001b[0m\n\u001b[0m\u001b[1;32m    192\u001b[0m     \u001b[0mn_top\u001b[0m \u001b[0;34m=\u001b[0m \u001b[0mfloat\u001b[0m\u001b[0;34m(\u001b[0m\u001b[0mlen\u001b[0m\u001b[0;34m(\u001b[0m\u001b[0mB\u001b[0m\u001b[0;34m)\u001b[0m \u001b[0;34m-\u001b[0m \u001b[0mlen\u001b[0m\u001b[0;34m(\u001b[0m\u001b[0mnodes\u001b[0m\u001b[0;34m)\u001b[0m\u001b[0;34m)\u001b[0m\u001b[0;34m\u001b[0m\u001b[0;34m\u001b[0m\u001b[0m\n\u001b[1;32m    193\u001b[0m     \u001b[0;32mfor\u001b[0m \u001b[0mu\u001b[0m \u001b[0;32min\u001b[0m \u001b[0mnodes\u001b[0m\u001b[0;34m:\u001b[0m\u001b[0;34m\u001b[0m\u001b[0;34m\u001b[0m\u001b[0m\n",
            "\u001b[0;32m/usr/local/lib/python3.7/dist-packages/networkx/classes/reportviews.py\u001b[0m in \u001b[0;36m__getitem__\u001b[0;34m(self, n)\u001b[0m\n\u001b[1;32m    191\u001b[0m                 \u001b[0;34mf\"try list(G.nodes)[{n.start}:{n.stop}:{n.step}]\"\u001b[0m\u001b[0;34m\u001b[0m\u001b[0;34m\u001b[0m\u001b[0m\n\u001b[1;32m    192\u001b[0m             )\n\u001b[0;32m--> 193\u001b[0;31m         \u001b[0;32mreturn\u001b[0m \u001b[0mself\u001b[0m\u001b[0;34m.\u001b[0m\u001b[0m_nodes\u001b[0m\u001b[0;34m[\u001b[0m\u001b[0mn\u001b[0m\u001b[0;34m]\u001b[0m\u001b[0;34m\u001b[0m\u001b[0;34m\u001b[0m\u001b[0m\n\u001b[0m\u001b[1;32m    194\u001b[0m \u001b[0;34m\u001b[0m\u001b[0m\n\u001b[1;32m    195\u001b[0m     \u001b[0;31m# Set methods\u001b[0m\u001b[0;34m\u001b[0m\u001b[0;34m\u001b[0m\u001b[0;34m\u001b[0m\u001b[0m\n",
            "\u001b[0;31mKeyError\u001b[0m: 'Santos L.C., Reul L.M.A., Gohr C.F.'"
          ]
        }
      ]
    },
    {
      "cell_type": "code",
      "metadata": {
        "id": "FA24DWS-WTPY",
        "colab": {
          "base_uri": "https://localhost:8080/",
          "height": 344
        },
        "outputId": "8d6d1be6-0a6a-4729-d199-a768dd3ddd16"
      },
      "source": [
        "# projecting onto places\n",
        "B_places = bipartite.weighted_projected_graph(B, df_title)"
      ],
      "execution_count": null,
      "outputs": [
        {
          "output_type": "error",
          "ename": "KeyError",
          "evalue": "ignored",
          "traceback": [
            "\u001b[0;31m---------------------------------------------------------------------------\u001b[0m",
            "\u001b[0;31mKeyError\u001b[0m                                  Traceback (most recent call last)",
            "\u001b[0;32m<ipython-input-132-5622907ea683>\u001b[0m in \u001b[0;36m<module>\u001b[0;34m\u001b[0m\n\u001b[1;32m      1\u001b[0m \u001b[0;31m# projecting onto places\u001b[0m\u001b[0;34m\u001b[0m\u001b[0;34m\u001b[0m\u001b[0;34m\u001b[0m\u001b[0m\n\u001b[0;32m----> 2\u001b[0;31m \u001b[0mB_places\u001b[0m \u001b[0;34m=\u001b[0m \u001b[0mbipartite\u001b[0m\u001b[0;34m.\u001b[0m\u001b[0mweighted_projected_graph\u001b[0m\u001b[0;34m(\u001b[0m\u001b[0mB\u001b[0m\u001b[0;34m,\u001b[0m \u001b[0mdf_eid\u001b[0m\u001b[0;34m)\u001b[0m\u001b[0;34m\u001b[0m\u001b[0;34m\u001b[0m\u001b[0m\n\u001b[0m",
            "\u001b[0;32m/usr/local/lib/python3.7/dist-packages/networkx/utils/decorators.py\u001b[0m in \u001b[0;36margmap_weighted_projected_graph_17\u001b[0;34m(B, nodes, ratio)\u001b[0m\n\u001b[1;32m      2\u001b[0m \u001b[0;32mfrom\u001b[0m \u001b[0mos\u001b[0m\u001b[0;34m.\u001b[0m\u001b[0mpath\u001b[0m \u001b[0;32mimport\u001b[0m \u001b[0msplitext\u001b[0m\u001b[0;34m\u001b[0m\u001b[0;34m\u001b[0m\u001b[0m\n\u001b[1;32m      3\u001b[0m \u001b[0;32mfrom\u001b[0m \u001b[0mcontextlib\u001b[0m \u001b[0;32mimport\u001b[0m \u001b[0mcontextmanager\u001b[0m\u001b[0;34m\u001b[0m\u001b[0;34m\u001b[0m\u001b[0m\n\u001b[0;32m----> 4\u001b[0;31m \u001b[0;32mfrom\u001b[0m \u001b[0mpathlib\u001b[0m \u001b[0;32mimport\u001b[0m \u001b[0mPath\u001b[0m\u001b[0;34m\u001b[0m\u001b[0;34m\u001b[0m\u001b[0m\n\u001b[0m\u001b[1;32m      5\u001b[0m \u001b[0;32mimport\u001b[0m \u001b[0mwarnings\u001b[0m\u001b[0;34m\u001b[0m\u001b[0;34m\u001b[0m\u001b[0m\n\u001b[1;32m      6\u001b[0m \u001b[0;34m\u001b[0m\u001b[0m\n",
            "\u001b[0;32m/usr/local/lib/python3.7/dist-packages/networkx/algorithms/bipartite/projection.py\u001b[0m in \u001b[0;36mweighted_projected_graph\u001b[0;34m(B, nodes, ratio)\u001b[0m\n\u001b[1;32m    189\u001b[0m         \u001b[0mG\u001b[0m \u001b[0;34m=\u001b[0m \u001b[0mnx\u001b[0m\u001b[0;34m.\u001b[0m\u001b[0mGraph\u001b[0m\u001b[0;34m(\u001b[0m\u001b[0;34m)\u001b[0m\u001b[0;34m\u001b[0m\u001b[0;34m\u001b[0m\u001b[0m\n\u001b[1;32m    190\u001b[0m     \u001b[0mG\u001b[0m\u001b[0;34m.\u001b[0m\u001b[0mgraph\u001b[0m\u001b[0;34m.\u001b[0m\u001b[0mupdate\u001b[0m\u001b[0;34m(\u001b[0m\u001b[0mB\u001b[0m\u001b[0;34m.\u001b[0m\u001b[0mgraph\u001b[0m\u001b[0;34m)\u001b[0m\u001b[0;34m\u001b[0m\u001b[0;34m\u001b[0m\u001b[0m\n\u001b[0;32m--> 191\u001b[0;31m     \u001b[0mG\u001b[0m\u001b[0;34m.\u001b[0m\u001b[0madd_nodes_from\u001b[0m\u001b[0;34m(\u001b[0m\u001b[0;34m(\u001b[0m\u001b[0mn\u001b[0m\u001b[0;34m,\u001b[0m \u001b[0mB\u001b[0m\u001b[0;34m.\u001b[0m\u001b[0mnodes\u001b[0m\u001b[0;34m[\u001b[0m\u001b[0mn\u001b[0m\u001b[0;34m]\u001b[0m\u001b[0;34m)\u001b[0m \u001b[0;32mfor\u001b[0m \u001b[0mn\u001b[0m \u001b[0;32min\u001b[0m \u001b[0mnodes\u001b[0m\u001b[0;34m)\u001b[0m\u001b[0;34m\u001b[0m\u001b[0;34m\u001b[0m\u001b[0m\n\u001b[0m\u001b[1;32m    192\u001b[0m     \u001b[0mn_top\u001b[0m \u001b[0;34m=\u001b[0m \u001b[0mfloat\u001b[0m\u001b[0;34m(\u001b[0m\u001b[0mlen\u001b[0m\u001b[0;34m(\u001b[0m\u001b[0mB\u001b[0m\u001b[0;34m)\u001b[0m \u001b[0;34m-\u001b[0m \u001b[0mlen\u001b[0m\u001b[0;34m(\u001b[0m\u001b[0mnodes\u001b[0m\u001b[0;34m)\u001b[0m\u001b[0;34m)\u001b[0m\u001b[0;34m\u001b[0m\u001b[0;34m\u001b[0m\u001b[0m\n\u001b[1;32m    193\u001b[0m     \u001b[0;32mfor\u001b[0m \u001b[0mu\u001b[0m \u001b[0;32min\u001b[0m \u001b[0mnodes\u001b[0m\u001b[0;34m:\u001b[0m\u001b[0;34m\u001b[0m\u001b[0;34m\u001b[0m\u001b[0m\n",
            "\u001b[0;32m/usr/local/lib/python3.7/dist-packages/networkx/classes/graph.py\u001b[0m in \u001b[0;36madd_nodes_from\u001b[0;34m(self, nodes_for_adding, **attr)\u001b[0m\n\u001b[1;32m    568\u001b[0m \u001b[0;34m\u001b[0m\u001b[0m\n\u001b[1;32m    569\u001b[0m         \"\"\"\n\u001b[0;32m--> 570\u001b[0;31m         \u001b[0;32mfor\u001b[0m \u001b[0mn\u001b[0m \u001b[0;32min\u001b[0m \u001b[0mnodes_for_adding\u001b[0m\u001b[0;34m:\u001b[0m\u001b[0;34m\u001b[0m\u001b[0;34m\u001b[0m\u001b[0m\n\u001b[0m\u001b[1;32m    571\u001b[0m             \u001b[0;32mtry\u001b[0m\u001b[0;34m:\u001b[0m\u001b[0;34m\u001b[0m\u001b[0;34m\u001b[0m\u001b[0m\n\u001b[1;32m    572\u001b[0m                 \u001b[0mnewnode\u001b[0m \u001b[0;34m=\u001b[0m \u001b[0mn\u001b[0m \u001b[0;32mnot\u001b[0m \u001b[0;32min\u001b[0m \u001b[0mself\u001b[0m\u001b[0;34m.\u001b[0m\u001b[0m_node\u001b[0m\u001b[0;34m\u001b[0m\u001b[0;34m\u001b[0m\u001b[0m\n",
            "\u001b[0;32m/usr/local/lib/python3.7/dist-packages/networkx/algorithms/bipartite/projection.py\u001b[0m in \u001b[0;36m<genexpr>\u001b[0;34m(.0)\u001b[0m\n\u001b[1;32m    189\u001b[0m         \u001b[0mG\u001b[0m \u001b[0;34m=\u001b[0m \u001b[0mnx\u001b[0m\u001b[0;34m.\u001b[0m\u001b[0mGraph\u001b[0m\u001b[0;34m(\u001b[0m\u001b[0;34m)\u001b[0m\u001b[0;34m\u001b[0m\u001b[0;34m\u001b[0m\u001b[0m\n\u001b[1;32m    190\u001b[0m     \u001b[0mG\u001b[0m\u001b[0;34m.\u001b[0m\u001b[0mgraph\u001b[0m\u001b[0;34m.\u001b[0m\u001b[0mupdate\u001b[0m\u001b[0;34m(\u001b[0m\u001b[0mB\u001b[0m\u001b[0;34m.\u001b[0m\u001b[0mgraph\u001b[0m\u001b[0;34m)\u001b[0m\u001b[0;34m\u001b[0m\u001b[0;34m\u001b[0m\u001b[0m\n\u001b[0;32m--> 191\u001b[0;31m     \u001b[0mG\u001b[0m\u001b[0;34m.\u001b[0m\u001b[0madd_nodes_from\u001b[0m\u001b[0;34m(\u001b[0m\u001b[0;34m(\u001b[0m\u001b[0mn\u001b[0m\u001b[0;34m,\u001b[0m \u001b[0mB\u001b[0m\u001b[0;34m.\u001b[0m\u001b[0mnodes\u001b[0m\u001b[0;34m[\u001b[0m\u001b[0mn\u001b[0m\u001b[0;34m]\u001b[0m\u001b[0;34m)\u001b[0m \u001b[0;32mfor\u001b[0m \u001b[0mn\u001b[0m \u001b[0;32min\u001b[0m \u001b[0mnodes\u001b[0m\u001b[0;34m)\u001b[0m\u001b[0;34m\u001b[0m\u001b[0;34m\u001b[0m\u001b[0m\n\u001b[0m\u001b[1;32m    192\u001b[0m     \u001b[0mn_top\u001b[0m \u001b[0;34m=\u001b[0m \u001b[0mfloat\u001b[0m\u001b[0;34m(\u001b[0m\u001b[0mlen\u001b[0m\u001b[0;34m(\u001b[0m\u001b[0mB\u001b[0m\u001b[0;34m)\u001b[0m \u001b[0;34m-\u001b[0m \u001b[0mlen\u001b[0m\u001b[0;34m(\u001b[0m\u001b[0mnodes\u001b[0m\u001b[0;34m)\u001b[0m\u001b[0;34m)\u001b[0m\u001b[0;34m\u001b[0m\u001b[0;34m\u001b[0m\u001b[0m\n\u001b[1;32m    193\u001b[0m     \u001b[0;32mfor\u001b[0m \u001b[0mu\u001b[0m \u001b[0;32min\u001b[0m \u001b[0mnodes\u001b[0m\u001b[0;34m:\u001b[0m\u001b[0;34m\u001b[0m\u001b[0;34m\u001b[0m\u001b[0m\n",
            "\u001b[0;32m/usr/local/lib/python3.7/dist-packages/networkx/classes/reportviews.py\u001b[0m in \u001b[0;36m__getitem__\u001b[0;34m(self, n)\u001b[0m\n\u001b[1;32m    191\u001b[0m                 \u001b[0;34mf\"try list(G.nodes)[{n.start}:{n.stop}:{n.step}]\"\u001b[0m\u001b[0;34m\u001b[0m\u001b[0;34m\u001b[0m\u001b[0m\n\u001b[1;32m    192\u001b[0m             )\n\u001b[0;32m--> 193\u001b[0;31m         \u001b[0;32mreturn\u001b[0m \u001b[0mself\u001b[0m\u001b[0;34m.\u001b[0m\u001b[0m_nodes\u001b[0m\u001b[0;34m[\u001b[0m\u001b[0mn\u001b[0m\u001b[0;34m]\u001b[0m\u001b[0;34m\u001b[0m\u001b[0;34m\u001b[0m\u001b[0m\n\u001b[0m\u001b[1;32m    194\u001b[0m \u001b[0;34m\u001b[0m\u001b[0m\n\u001b[1;32m    195\u001b[0m     \u001b[0;31m# Set methods\u001b[0m\u001b[0;34m\u001b[0m\u001b[0;34m\u001b[0m\u001b[0;34m\u001b[0m\u001b[0m\n",
            "\u001b[0;31mKeyError\u001b[0m: '2-s2.0-85046049829'"
          ]
        }
      ]
    },
    {
      "cell_type": "code",
      "metadata": {
        "id": "TMlitTPUWcBY",
        "outputId": "385cda41-9ed2-4f7b-fe53-b8afbacbc5e7",
        "colab": {
          "base_uri": "https://localhost:8080/",
          "height": 172
        }
      },
      "source": [
        "nx.draw(B_people, with_labels=True)"
      ],
      "execution_count": null,
      "outputs": [
        {
          "output_type": "error",
          "ename": "NameError",
          "evalue": "ignored",
          "traceback": [
            "\u001b[0;31m---------------------------------------------------------------------------\u001b[0m",
            "\u001b[0;31mNameError\u001b[0m                                 Traceback (most recent call last)",
            "\u001b[0;32m<ipython-input-133-d3d5e9eeac2e>\u001b[0m in \u001b[0;36m<module>\u001b[0;34m\u001b[0m\n\u001b[0;32m----> 1\u001b[0;31m \u001b[0mnx\u001b[0m\u001b[0;34m.\u001b[0m\u001b[0mdraw\u001b[0m\u001b[0;34m(\u001b[0m\u001b[0mB_people\u001b[0m\u001b[0;34m,\u001b[0m \u001b[0mwith_labels\u001b[0m\u001b[0;34m=\u001b[0m\u001b[0;32mTrue\u001b[0m\u001b[0;34m)\u001b[0m\u001b[0;34m\u001b[0m\u001b[0;34m\u001b[0m\u001b[0m\n\u001b[0m",
            "\u001b[0;31mNameError\u001b[0m: name 'B_people' is not defined"
          ]
        }
      ]
    },
    {
      "cell_type": "code",
      "source": [],
      "metadata": {
        "id": "xaHnZT2d8UZY"
      },
      "execution_count": null,
      "outputs": []
    }
  ]
}