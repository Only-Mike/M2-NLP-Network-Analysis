{
  "nbformat": 4,
  "nbformat_minor": 0,
  "metadata": {
    "colab": {
      "provenance": [],
      "authorship_tag": "ABX9TyPFpZ3H9+pvvACRfphIej4Q",
      "include_colab_link": true
    },
    "kernelspec": {
      "name": "python3",
      "display_name": "Python 3"
    },
    "language_info": {
      "name": "python"
    }
  },
  "cells": [
    {
      "cell_type": "markdown",
      "metadata": {
        "id": "view-in-github",
        "colab_type": "text"
      },
      "source": [
        "<a href=\"https://colab.research.google.com/github/Only-Mike/M2-NLP-Network-Analysis/blob/main/M2_network_analysis.ipynb\" target=\"_parent\"><img src=\"https://colab.research.google.com/assets/colab-badge.svg\" alt=\"Open In Colab\"/></a>"
      ]
    },
    {
      "cell_type": "code",
      "source": [
        "import pandas as pd "
      ],
      "metadata": {
        "id": "Lo-Ul2Okqh6E"
      },
      "execution_count": 26,
      "outputs": []
    },
    {
      "cell_type": "code",
      "execution_count": 27,
      "metadata": {
        "colab": {
          "base_uri": "https://localhost:8080/"
        },
        "id": "pP1WWNjVqTqS",
        "outputId": "17437e58-b462-4886-db5b-19f32e091e73"
      },
      "outputs": [
        {
          "output_type": "stream",
          "name": "stdout",
          "text": [
            "fatal: destination path 'M2-NLP-Network-Analysis' already exists and is not an empty directory.\n"
          ]
        }
      ],
      "source": [
        "!git clone https://github.com/Only-Mike/M2-NLP-Network-Analysis.git"
      ]
    },
    {
      "cell_type": "code",
      "source": [
        "# Importing datasets"
      ],
      "metadata": {
        "id": "iK7-KfnIt_Vr"
      },
      "execution_count": 28,
      "outputs": []
    },
    {
      "cell_type": "code",
      "source": [
        "data1 = pd.read_csv('/content/M2-NLP-Network-Analysis/Supply chain network - 2017 csv file.csv')\n",
        "data2 = pd.read_csv('/content/M2-NLP-Network-Analysis/Supply chain network - 2018 csv file.csv')\n",
        "data3 = pd.read_csv('/content/M2-NLP-Network-Analysis/Supply chain network - 2019 csv file.csv')\n",
        "data4 = pd.read_csv('/content/M2-NLP-Network-Analysis/Supply chain network - 2020 csv file.csv')\n",
        "data5 = pd.read_csv('/content/M2-NLP-Network-Analysis/Supply chain network - 2021 csv file.csv')\n"
      ],
      "metadata": {
        "id": "VE52HcDrmRM3"
      },
      "execution_count": 29,
      "outputs": []
    },
    {
      "cell_type": "code",
      "source": [
        "frames = [data1, data2, data3, data4, data5] #creating frame for all datasets"
      ],
      "metadata": {
        "id": "SWqan3sRmqph"
      },
      "execution_count": 30,
      "outputs": []
    },
    {
      "cell_type": "code",
      "source": [
        "df = pd.concat(frames) #Concat all datasets to \"df\""
      ],
      "metadata": {
        "id": "DqVZQhBOoR4s"
      },
      "execution_count": 31,
      "outputs": []
    },
    {
      "cell_type": "code",
      "source": [
        "df"
      ],
      "metadata": {
        "colab": {
          "base_uri": "https://localhost:8080/",
          "height": 1000
        },
        "id": "ynmCkZGr9wuR",
        "outputId": "931b3b14-79ff-4e07-8ac9-99d2525b9154"
      },
      "execution_count": 32,
      "outputs": [
        {
          "output_type": "execute_result",
          "data": {
            "text/plain": [
              "                                                Authors  \\\n",
              "0                      Crush J., Frayne B., McCordic C.   \n",
              "1     Tsang Y.P., Choy K.L., Wu C.H., Ho G.T.S., Lam...   \n",
              "2                            [No author name available]   \n",
              "3                                          Secomandi N.   \n",
              "4       Korhonen K., Kotavaara O., Muilu T., Rusanen J.   \n",
              "...                                                 ...   \n",
              "1995                                          Gawade D.   \n",
              "1996                          Huang L., Tan Y., Guan X.   \n",
              "1997     Agrawal R., Wankhede V.A., Kumar A., Luthra S.   \n",
              "1998          Trivedi A., Sohal A., Joshi S., Sharma M.   \n",
              "1999            Zhou Y., Cao F., Cao Y., Yang N., Li Z.   \n",
              "\n",
              "                                           Author(s) ID  \\\n",
              "0                    7003748511;6507551740;56004012500;   \n",
              "1     57191666025;7005477047;55506191100;8348673600;...   \n",
              "2                              [No author id available]   \n",
              "3                                           6506411578;   \n",
              "4        57200382781;35772315700;6602393288;6601955741;   \n",
              "...                                                 ...   \n",
              "1995                                       57224469235;   \n",
              "1996               55794665100;57223669545;54385196800;   \n",
              "1997   57193951175;57204053781;57001679600;43361407000;   \n",
              "1998   56482859500;57224361122;56111179800;57198780582;   \n",
              "1999  56164109200;57224312237;57224310403;5722432395...   \n",
              "\n",
              "                                                  Title  Year  \\\n",
              "0     Food and nutrition security in southern Africa...  2017   \n",
              "1     An IoT-based cargo monitoring system for enhan...  2017   \n",
              "2     2017 IEEE 28th Annual Software Technology Conf...  2017   \n",
              "3     Approximations for high dimensional commodity ...  2017   \n",
              "4     Accessibility of Local Food Production to Regi...  2017   \n",
              "...                                                 ...   ...   \n",
              "1995  Agile Supply Chain in Manufacturing and Servic...  2021   \n",
              "1996  Evaluation of Cruise Ship Supply Logistics Ser...  2021   \n",
              "1997  A systematic and network-based analysis of dat...  2021   \n",
              "1998  A two-stage optimization model for tactical pl...  2021   \n",
              "1999  A Grammar-Aware Pointer Network for Abstractiv...  2021   \n",
              "\n",
              "                                           Source title  Cited by  \\\n",
              "0     Food and Nutrition Security in Southern Africa...       4.0   \n",
              "1     International Journal of Engineering Business ...      25.0   \n",
              "2     2017 IEEE 28th Annual Software Technology Conf...       NaN   \n",
              "3     Foundations and Trends in Technology, Informat...       3.0   \n",
              "4                                  European Countryside      10.0   \n",
              "...                                                 ...       ...   \n",
              "1995                                             Vision       1.0   \n",
              "1996                 Journal of Advanced Transportation       1.0   \n",
              "1997                                        TQM Journal       4.0   \n",
              "1998  International Journal of Supply and Operations...       2.0   \n",
              "1999         Smart Innovation, Systems and Technologies       NaN   \n",
              "\n",
              "                               DOI  \\\n",
              "0            10.4324/9781315226651   \n",
              "1         10.1177/1847979017749063   \n",
              "2                              NaN   \n",
              "3               10.1561/0200000080   \n",
              "4           10.1515/euco-2017-0040   \n",
              "...                            ...   \n",
              "1995     10.1177/09722629211002000   \n",
              "1996          10.1155/2021/6645946   \n",
              "1997      10.1108/TQM-12-2020-0285   \n",
              "1998       10.22034/IJSOM.2021.1.2   \n",
              "1999  10.1007/978-981-33-6141-6_21   \n",
              "\n",
              "                                                   Link  \\\n",
              "0     https://www.scopus.com/inward/record.uri?eid=2...   \n",
              "1     https://www.scopus.com/inward/record.uri?eid=2...   \n",
              "2     https://www.scopus.com/inward/record.uri?eid=2...   \n",
              "3     https://www.scopus.com/inward/record.uri?eid=2...   \n",
              "4     https://www.scopus.com/inward/record.uri?eid=2...   \n",
              "...                                                 ...   \n",
              "1995  https://www.scopus.com/inward/record.uri?eid=2...   \n",
              "1996  https://www.scopus.com/inward/record.uri?eid=2...   \n",
              "1997  https://www.scopus.com/inward/record.uri?eid=2...   \n",
              "1998  https://www.scopus.com/inward/record.uri?eid=2...   \n",
              "1999  https://www.scopus.com/inward/record.uri?eid=2...   \n",
              "\n",
              "                                           Affiliations  \\\n",
              "0     University of Cape Town, South Africa; School ...   \n",
              "1     Department of Industrial and Systems Engineeri...   \n",
              "2                                                   NaN   \n",
              "3     Tepper School of Business, Carnegie Mellon Uni...   \n",
              "4     Natural Resources Institute Finland, Universit...   \n",
              "...                                                 ...   \n",
              "1995  Symbiosis Institute of Operations Management, ...   \n",
              "1996  School of Management, Wuhan Polytechnic Univer...   \n",
              "1997  Department of Production Engineering, National...   \n",
              "1998  O. P. Jindal Global University, Haryana, Sonep...   \n",
              "1999  Chongqing University of Posts and Telecommunic...   \n",
              "\n",
              "                              Authors with affiliations  ...  \\\n",
              "0     Crush, J., University of Cape Town, South Afri...  ...   \n",
              "1     Tsang, Y.P., Department of Industrial and Syst...  ...   \n",
              "2                                                   NaN  ...   \n",
              "3     Secomandi, N., Tepper School of Business, Carn...  ...   \n",
              "4     Korhonen, K., Natural Resources Institute Finl...  ...   \n",
              "...                                                 ...  ...   \n",
              "1995  Gawade, D., Symbiosis Institute of Operations ...  ...   \n",
              "1996  Huang, L., School of Management, Wuhan Polytec...  ...   \n",
              "1997  Agrawal, R., Department of Production Engineer...  ...   \n",
              "1998  Trivedi, A., O. P. Jindal Global University, H...  ...   \n",
              "1999  Zhou, Y., Chongqing University of Posts and Te...  ...   \n",
              "\n",
              "                                         Index Keywords Funding Details  \\\n",
              "0                                                   NaN             NaN   \n",
              "1                                                   NaN           PolyU   \n",
              "2                                                   NaN             NaN   \n",
              "3     Electric energy storage; Energy conversion; Ri...             NaN   \n",
              "4     accessibility; agricultural economics; food ma...             NaN   \n",
              "...                                                 ...             ...   \n",
              "1995                                                NaN             NaN   \n",
              "1996  Internet service providers; Radial basis funct...             NaN   \n",
              "1997  Artificial intelligence; Decision making; Qual...             NaN   \n",
              "1998                                                NaN             NaN   \n",
              "1999  Big data; Industrial internet of things (IIoT)...             NaN   \n",
              "\n",
              "                                 Correspondence Address  \\\n",
              "0        Crush, J.; University of Cape TownSouth Africa   \n",
              "1     Tsang, Y.P.; Department of Industrial and Syst...   \n",
              "2                                                   NaN   \n",
              "3     Secomandi, N.; Tepper School of Business, Unit...   \n",
              "4                                                   NaN   \n",
              "...                                                 ...   \n",
              "1995  Gawade, D.; Symbiosis Institute of Operations ...   \n",
              "1996  Huang, L.; School of Management, China; email:...   \n",
              "1997  Luthra, S.; Mechanical Engineering, India; ema...   \n",
              "1998  Joshi, S.; Operation's and Supply Chain Manage...   \n",
              "1999  Cao, F.; Chongqing University of Posts and Tel...   \n",
              "\n",
              "                                              Publisher      ISSN  \\\n",
              "0                                    Taylor and Francis       NaN   \n",
              "1                                SAGE Publications Inc.  18479790   \n",
              "2     Institute of Electrical and Electronics Engine...       NaN   \n",
              "3                                    Now Publishers Inc  15719545   \n",
              "4                                Walter de Gruyter GmbH  18038417   \n",
              "...                                                 ...       ...   \n",
              "1995                   Sage Publications India Pvt. Ltd  09722629   \n",
              "1996                                    Hindawi Limited  01976729   \n",
              "1997                        Emerald Group Holdings Ltd.  17542731   \n",
              "1998                                Kharazmi University  23831359   \n",
              "1999  Springer Science and Business Media Deutschlan...  21903018   \n",
              "\n",
              "                              ISBN  CODEN      Document Type  Source  \\\n",
              "0     9781315226651; 9780415786782    NaN               Book  Scopus   \n",
              "1                              NaN    NaN            Article  Scopus   \n",
              "2                    9781538610886    NaN  Conference Review  Scopus   \n",
              "3                              NaN    NaN   Conference Paper  Scopus   \n",
              "4                              NaN    NaN            Article  Scopus   \n",
              "...                            ...    ...                ...     ...   \n",
              "1995                           NaN    NaN             Review  Scopus   \n",
              "1996                           NaN  JATRD            Article  Scopus   \n",
              "1997                           NaN    NaN            Article  Scopus   \n",
              "1998                           NaN    NaN            Article  Scopus   \n",
              "1999                 9789813361409    NaN   Conference Paper  Scopus   \n",
              "\n",
              "                     EID  \n",
              "0     2-s2.0-85046049829  \n",
              "1     2-s2.0-85039850983  \n",
              "2     2-s2.0-85050200429  \n",
              "3     2-s2.0-85039788219  \n",
              "4     2-s2.0-85041059781  \n",
              "...                  ...  \n",
              "1995  2-s2.0-85107617698  \n",
              "1996  2-s2.0-85107579417  \n",
              "1997  2-s2.0-85107498651  \n",
              "1998  2-s2.0-85107396069  \n",
              "1999  2-s2.0-85107389152  \n",
              "\n",
              "[8573 rows x 22 columns]"
            ],
            "text/html": [
              "\n",
              "  <div id=\"df-3f2ee2fd-7c08-40f9-bb90-468eefbdaedb\">\n",
              "    <div class=\"colab-df-container\">\n",
              "      <div>\n",
              "<style scoped>\n",
              "    .dataframe tbody tr th:only-of-type {\n",
              "        vertical-align: middle;\n",
              "    }\n",
              "\n",
              "    .dataframe tbody tr th {\n",
              "        vertical-align: top;\n",
              "    }\n",
              "\n",
              "    .dataframe thead th {\n",
              "        text-align: right;\n",
              "    }\n",
              "</style>\n",
              "<table border=\"1\" class=\"dataframe\">\n",
              "  <thead>\n",
              "    <tr style=\"text-align: right;\">\n",
              "      <th></th>\n",
              "      <th>Authors</th>\n",
              "      <th>Author(s) ID</th>\n",
              "      <th>Title</th>\n",
              "      <th>Year</th>\n",
              "      <th>Source title</th>\n",
              "      <th>Cited by</th>\n",
              "      <th>DOI</th>\n",
              "      <th>Link</th>\n",
              "      <th>Affiliations</th>\n",
              "      <th>Authors with affiliations</th>\n",
              "      <th>...</th>\n",
              "      <th>Index Keywords</th>\n",
              "      <th>Funding Details</th>\n",
              "      <th>Correspondence Address</th>\n",
              "      <th>Publisher</th>\n",
              "      <th>ISSN</th>\n",
              "      <th>ISBN</th>\n",
              "      <th>CODEN</th>\n",
              "      <th>Document Type</th>\n",
              "      <th>Source</th>\n",
              "      <th>EID</th>\n",
              "    </tr>\n",
              "  </thead>\n",
              "  <tbody>\n",
              "    <tr>\n",
              "      <th>0</th>\n",
              "      <td>Crush J., Frayne B., McCordic C.</td>\n",
              "      <td>7003748511;6507551740;56004012500;</td>\n",
              "      <td>Food and nutrition security in southern Africa...</td>\n",
              "      <td>2017</td>\n",
              "      <td>Food and Nutrition Security in Southern Africa...</td>\n",
              "      <td>4.0</td>\n",
              "      <td>10.4324/9781315226651</td>\n",
              "      <td>https://www.scopus.com/inward/record.uri?eid=2...</td>\n",
              "      <td>University of Cape Town, South Africa; School ...</td>\n",
              "      <td>Crush, J., University of Cape Town, South Afri...</td>\n",
              "      <td>...</td>\n",
              "      <td>NaN</td>\n",
              "      <td>NaN</td>\n",
              "      <td>Crush, J.; University of Cape TownSouth Africa</td>\n",
              "      <td>Taylor and Francis</td>\n",
              "      <td>NaN</td>\n",
              "      <td>9781315226651; 9780415786782</td>\n",
              "      <td>NaN</td>\n",
              "      <td>Book</td>\n",
              "      <td>Scopus</td>\n",
              "      <td>2-s2.0-85046049829</td>\n",
              "    </tr>\n",
              "    <tr>\n",
              "      <th>1</th>\n",
              "      <td>Tsang Y.P., Choy K.L., Wu C.H., Ho G.T.S., Lam...</td>\n",
              "      <td>57191666025;7005477047;55506191100;8348673600;...</td>\n",
              "      <td>An IoT-based cargo monitoring system for enhan...</td>\n",
              "      <td>2017</td>\n",
              "      <td>International Journal of Engineering Business ...</td>\n",
              "      <td>25.0</td>\n",
              "      <td>10.1177/1847979017749063</td>\n",
              "      <td>https://www.scopus.com/inward/record.uri?eid=2...</td>\n",
              "      <td>Department of Industrial and Systems Engineeri...</td>\n",
              "      <td>Tsang, Y.P., Department of Industrial and Syst...</td>\n",
              "      <td>...</td>\n",
              "      <td>NaN</td>\n",
              "      <td>PolyU</td>\n",
              "      <td>Tsang, Y.P.; Department of Industrial and Syst...</td>\n",
              "      <td>SAGE Publications Inc.</td>\n",
              "      <td>18479790</td>\n",
              "      <td>NaN</td>\n",
              "      <td>NaN</td>\n",
              "      <td>Article</td>\n",
              "      <td>Scopus</td>\n",
              "      <td>2-s2.0-85039850983</td>\n",
              "    </tr>\n",
              "    <tr>\n",
              "      <th>2</th>\n",
              "      <td>[No author name available]</td>\n",
              "      <td>[No author id available]</td>\n",
              "      <td>2017 IEEE 28th Annual Software Technology Conf...</td>\n",
              "      <td>2017</td>\n",
              "      <td>2017 IEEE 28th Annual Software Technology Conf...</td>\n",
              "      <td>NaN</td>\n",
              "      <td>NaN</td>\n",
              "      <td>https://www.scopus.com/inward/record.uri?eid=2...</td>\n",
              "      <td>NaN</td>\n",
              "      <td>NaN</td>\n",
              "      <td>...</td>\n",
              "      <td>NaN</td>\n",
              "      <td>NaN</td>\n",
              "      <td>NaN</td>\n",
              "      <td>Institute of Electrical and Electronics Engine...</td>\n",
              "      <td>NaN</td>\n",
              "      <td>9781538610886</td>\n",
              "      <td>NaN</td>\n",
              "      <td>Conference Review</td>\n",
              "      <td>Scopus</td>\n",
              "      <td>2-s2.0-85050200429</td>\n",
              "    </tr>\n",
              "    <tr>\n",
              "      <th>3</th>\n",
              "      <td>Secomandi N.</td>\n",
              "      <td>6506411578;</td>\n",
              "      <td>Approximations for high dimensional commodity ...</td>\n",
              "      <td>2017</td>\n",
              "      <td>Foundations and Trends in Technology, Informat...</td>\n",
              "      <td>3.0</td>\n",
              "      <td>10.1561/0200000080</td>\n",
              "      <td>https://www.scopus.com/inward/record.uri?eid=2...</td>\n",
              "      <td>Tepper School of Business, Carnegie Mellon Uni...</td>\n",
              "      <td>Secomandi, N., Tepper School of Business, Carn...</td>\n",
              "      <td>...</td>\n",
              "      <td>Electric energy storage; Energy conversion; Ri...</td>\n",
              "      <td>NaN</td>\n",
              "      <td>Secomandi, N.; Tepper School of Business, Unit...</td>\n",
              "      <td>Now Publishers Inc</td>\n",
              "      <td>15719545</td>\n",
              "      <td>NaN</td>\n",
              "      <td>NaN</td>\n",
              "      <td>Conference Paper</td>\n",
              "      <td>Scopus</td>\n",
              "      <td>2-s2.0-85039788219</td>\n",
              "    </tr>\n",
              "    <tr>\n",
              "      <th>4</th>\n",
              "      <td>Korhonen K., Kotavaara O., Muilu T., Rusanen J.</td>\n",
              "      <td>57200382781;35772315700;6602393288;6601955741;</td>\n",
              "      <td>Accessibility of Local Food Production to Regi...</td>\n",
              "      <td>2017</td>\n",
              "      <td>European Countryside</td>\n",
              "      <td>10.0</td>\n",
              "      <td>10.1515/euco-2017-0040</td>\n",
              "      <td>https://www.scopus.com/inward/record.uri?eid=2...</td>\n",
              "      <td>Natural Resources Institute Finland, Universit...</td>\n",
              "      <td>Korhonen, K., Natural Resources Institute Finl...</td>\n",
              "      <td>...</td>\n",
              "      <td>accessibility; agricultural economics; food ma...</td>\n",
              "      <td>NaN</td>\n",
              "      <td>NaN</td>\n",
              "      <td>Walter de Gruyter GmbH</td>\n",
              "      <td>18038417</td>\n",
              "      <td>NaN</td>\n",
              "      <td>NaN</td>\n",
              "      <td>Article</td>\n",
              "      <td>Scopus</td>\n",
              "      <td>2-s2.0-85041059781</td>\n",
              "    </tr>\n",
              "    <tr>\n",
              "      <th>...</th>\n",
              "      <td>...</td>\n",
              "      <td>...</td>\n",
              "      <td>...</td>\n",
              "      <td>...</td>\n",
              "      <td>...</td>\n",
              "      <td>...</td>\n",
              "      <td>...</td>\n",
              "      <td>...</td>\n",
              "      <td>...</td>\n",
              "      <td>...</td>\n",
              "      <td>...</td>\n",
              "      <td>...</td>\n",
              "      <td>...</td>\n",
              "      <td>...</td>\n",
              "      <td>...</td>\n",
              "      <td>...</td>\n",
              "      <td>...</td>\n",
              "      <td>...</td>\n",
              "      <td>...</td>\n",
              "      <td>...</td>\n",
              "      <td>...</td>\n",
              "    </tr>\n",
              "    <tr>\n",
              "      <th>1995</th>\n",
              "      <td>Gawade D.</td>\n",
              "      <td>57224469235;</td>\n",
              "      <td>Agile Supply Chain in Manufacturing and Servic...</td>\n",
              "      <td>2021</td>\n",
              "      <td>Vision</td>\n",
              "      <td>1.0</td>\n",
              "      <td>10.1177/09722629211002000</td>\n",
              "      <td>https://www.scopus.com/inward/record.uri?eid=2...</td>\n",
              "      <td>Symbiosis Institute of Operations Management, ...</td>\n",
              "      <td>Gawade, D., Symbiosis Institute of Operations ...</td>\n",
              "      <td>...</td>\n",
              "      <td>NaN</td>\n",
              "      <td>NaN</td>\n",
              "      <td>Gawade, D.; Symbiosis Institute of Operations ...</td>\n",
              "      <td>Sage Publications India Pvt. Ltd</td>\n",
              "      <td>09722629</td>\n",
              "      <td>NaN</td>\n",
              "      <td>NaN</td>\n",
              "      <td>Review</td>\n",
              "      <td>Scopus</td>\n",
              "      <td>2-s2.0-85107617698</td>\n",
              "    </tr>\n",
              "    <tr>\n",
              "      <th>1996</th>\n",
              "      <td>Huang L., Tan Y., Guan X.</td>\n",
              "      <td>55794665100;57223669545;54385196800;</td>\n",
              "      <td>Evaluation of Cruise Ship Supply Logistics Ser...</td>\n",
              "      <td>2021</td>\n",
              "      <td>Journal of Advanced Transportation</td>\n",
              "      <td>1.0</td>\n",
              "      <td>10.1155/2021/6645946</td>\n",
              "      <td>https://www.scopus.com/inward/record.uri?eid=2...</td>\n",
              "      <td>School of Management, Wuhan Polytechnic Univer...</td>\n",
              "      <td>Huang, L., School of Management, Wuhan Polytec...</td>\n",
              "      <td>...</td>\n",
              "      <td>Internet service providers; Radial basis funct...</td>\n",
              "      <td>NaN</td>\n",
              "      <td>Huang, L.; School of Management, China; email:...</td>\n",
              "      <td>Hindawi Limited</td>\n",
              "      <td>01976729</td>\n",
              "      <td>NaN</td>\n",
              "      <td>JATRD</td>\n",
              "      <td>Article</td>\n",
              "      <td>Scopus</td>\n",
              "      <td>2-s2.0-85107579417</td>\n",
              "    </tr>\n",
              "    <tr>\n",
              "      <th>1997</th>\n",
              "      <td>Agrawal R., Wankhede V.A., Kumar A., Luthra S.</td>\n",
              "      <td>57193951175;57204053781;57001679600;43361407000;</td>\n",
              "      <td>A systematic and network-based analysis of dat...</td>\n",
              "      <td>2021</td>\n",
              "      <td>TQM Journal</td>\n",
              "      <td>4.0</td>\n",
              "      <td>10.1108/TQM-12-2020-0285</td>\n",
              "      <td>https://www.scopus.com/inward/record.uri?eid=2...</td>\n",
              "      <td>Department of Production Engineering, National...</td>\n",
              "      <td>Agrawal, R., Department of Production Engineer...</td>\n",
              "      <td>...</td>\n",
              "      <td>Artificial intelligence; Decision making; Qual...</td>\n",
              "      <td>NaN</td>\n",
              "      <td>Luthra, S.; Mechanical Engineering, India; ema...</td>\n",
              "      <td>Emerald Group Holdings Ltd.</td>\n",
              "      <td>17542731</td>\n",
              "      <td>NaN</td>\n",
              "      <td>NaN</td>\n",
              "      <td>Article</td>\n",
              "      <td>Scopus</td>\n",
              "      <td>2-s2.0-85107498651</td>\n",
              "    </tr>\n",
              "    <tr>\n",
              "      <th>1998</th>\n",
              "      <td>Trivedi A., Sohal A., Joshi S., Sharma M.</td>\n",
              "      <td>56482859500;57224361122;56111179800;57198780582;</td>\n",
              "      <td>A two-stage optimization model for tactical pl...</td>\n",
              "      <td>2021</td>\n",
              "      <td>International Journal of Supply and Operations...</td>\n",
              "      <td>2.0</td>\n",
              "      <td>10.22034/IJSOM.2021.1.2</td>\n",
              "      <td>https://www.scopus.com/inward/record.uri?eid=2...</td>\n",
              "      <td>O. P. Jindal Global University, Haryana, Sonep...</td>\n",
              "      <td>Trivedi, A., O. P. Jindal Global University, H...</td>\n",
              "      <td>...</td>\n",
              "      <td>NaN</td>\n",
              "      <td>NaN</td>\n",
              "      <td>Joshi, S.; Operation's and Supply Chain Manage...</td>\n",
              "      <td>Kharazmi University</td>\n",
              "      <td>23831359</td>\n",
              "      <td>NaN</td>\n",
              "      <td>NaN</td>\n",
              "      <td>Article</td>\n",
              "      <td>Scopus</td>\n",
              "      <td>2-s2.0-85107396069</td>\n",
              "    </tr>\n",
              "    <tr>\n",
              "      <th>1999</th>\n",
              "      <td>Zhou Y., Cao F., Cao Y., Yang N., Li Z.</td>\n",
              "      <td>56164109200;57224312237;57224310403;5722432395...</td>\n",
              "      <td>A Grammar-Aware Pointer Network for Abstractiv...</td>\n",
              "      <td>2021</td>\n",
              "      <td>Smart Innovation, Systems and Technologies</td>\n",
              "      <td>NaN</td>\n",
              "      <td>10.1007/978-981-33-6141-6_21</td>\n",
              "      <td>https://www.scopus.com/inward/record.uri?eid=2...</td>\n",
              "      <td>Chongqing University of Posts and Telecommunic...</td>\n",
              "      <td>Zhou, Y., Chongqing University of Posts and Te...</td>\n",
              "      <td>...</td>\n",
              "      <td>Big data; Industrial internet of things (IIoT)...</td>\n",
              "      <td>NaN</td>\n",
              "      <td>Cao, F.; Chongqing University of Posts and Tel...</td>\n",
              "      <td>Springer Science and Business Media Deutschlan...</td>\n",
              "      <td>21903018</td>\n",
              "      <td>9789813361409</td>\n",
              "      <td>NaN</td>\n",
              "      <td>Conference Paper</td>\n",
              "      <td>Scopus</td>\n",
              "      <td>2-s2.0-85107389152</td>\n",
              "    </tr>\n",
              "  </tbody>\n",
              "</table>\n",
              "<p>8573 rows × 22 columns</p>\n",
              "</div>\n",
              "      <button class=\"colab-df-convert\" onclick=\"convertToInteractive('df-3f2ee2fd-7c08-40f9-bb90-468eefbdaedb')\"\n",
              "              title=\"Convert this dataframe to an interactive table.\"\n",
              "              style=\"display:none;\">\n",
              "        \n",
              "  <svg xmlns=\"http://www.w3.org/2000/svg\" height=\"24px\"viewBox=\"0 0 24 24\"\n",
              "       width=\"24px\">\n",
              "    <path d=\"M0 0h24v24H0V0z\" fill=\"none\"/>\n",
              "    <path d=\"M18.56 5.44l.94 2.06.94-2.06 2.06-.94-2.06-.94-.94-2.06-.94 2.06-2.06.94zm-11 1L8.5 8.5l.94-2.06 2.06-.94-2.06-.94L8.5 2.5l-.94 2.06-2.06.94zm10 10l.94 2.06.94-2.06 2.06-.94-2.06-.94-.94-2.06-.94 2.06-2.06.94z\"/><path d=\"M17.41 7.96l-1.37-1.37c-.4-.4-.92-.59-1.43-.59-.52 0-1.04.2-1.43.59L10.3 9.45l-7.72 7.72c-.78.78-.78 2.05 0 2.83L4 21.41c.39.39.9.59 1.41.59.51 0 1.02-.2 1.41-.59l7.78-7.78 2.81-2.81c.8-.78.8-2.07 0-2.86zM5.41 20L4 18.59l7.72-7.72 1.47 1.35L5.41 20z\"/>\n",
              "  </svg>\n",
              "      </button>\n",
              "      \n",
              "  <style>\n",
              "    .colab-df-container {\n",
              "      display:flex;\n",
              "      flex-wrap:wrap;\n",
              "      gap: 12px;\n",
              "    }\n",
              "\n",
              "    .colab-df-convert {\n",
              "      background-color: #E8F0FE;\n",
              "      border: none;\n",
              "      border-radius: 50%;\n",
              "      cursor: pointer;\n",
              "      display: none;\n",
              "      fill: #1967D2;\n",
              "      height: 32px;\n",
              "      padding: 0 0 0 0;\n",
              "      width: 32px;\n",
              "    }\n",
              "\n",
              "    .colab-df-convert:hover {\n",
              "      background-color: #E2EBFA;\n",
              "      box-shadow: 0px 1px 2px rgba(60, 64, 67, 0.3), 0px 1px 3px 1px rgba(60, 64, 67, 0.15);\n",
              "      fill: #174EA6;\n",
              "    }\n",
              "\n",
              "    [theme=dark] .colab-df-convert {\n",
              "      background-color: #3B4455;\n",
              "      fill: #D2E3FC;\n",
              "    }\n",
              "\n",
              "    [theme=dark] .colab-df-convert:hover {\n",
              "      background-color: #434B5C;\n",
              "      box-shadow: 0px 1px 3px 1px rgba(0, 0, 0, 0.15);\n",
              "      filter: drop-shadow(0px 1px 2px rgba(0, 0, 0, 0.3));\n",
              "      fill: #FFFFFF;\n",
              "    }\n",
              "  </style>\n",
              "\n",
              "      <script>\n",
              "        const buttonEl =\n",
              "          document.querySelector('#df-3f2ee2fd-7c08-40f9-bb90-468eefbdaedb button.colab-df-convert');\n",
              "        buttonEl.style.display =\n",
              "          google.colab.kernel.accessAllowed ? 'block' : 'none';\n",
              "\n",
              "        async function convertToInteractive(key) {\n",
              "          const element = document.querySelector('#df-3f2ee2fd-7c08-40f9-bb90-468eefbdaedb');\n",
              "          const dataTable =\n",
              "            await google.colab.kernel.invokeFunction('convertToInteractive',\n",
              "                                                     [key], {});\n",
              "          if (!dataTable) return;\n",
              "\n",
              "          const docLinkHtml = 'Like what you see? Visit the ' +\n",
              "            '<a target=\"_blank\" href=https://colab.research.google.com/notebooks/data_table.ipynb>data table notebook</a>'\n",
              "            + ' to learn more about interactive tables.';\n",
              "          element.innerHTML = '';\n",
              "          dataTable['output_type'] = 'display_data';\n",
              "          await google.colab.output.renderOutput(dataTable, element);\n",
              "          const docLink = document.createElement('div');\n",
              "          docLink.innerHTML = docLinkHtml;\n",
              "          element.appendChild(docLink);\n",
              "        }\n",
              "      </script>\n",
              "    </div>\n",
              "  </div>\n",
              "  "
            ]
          },
          "metadata": {},
          "execution_count": 32
        }
      ]
    },
    {
      "cell_type": "code",
      "source": [
        "df.shape"
      ],
      "metadata": {
        "colab": {
          "base_uri": "https://localhost:8080/"
        },
        "id": "e2G109lcpxNl",
        "outputId": "f321c1a1-13a4-464c-e1d9-896980fcecb1"
      },
      "execution_count": 33,
      "outputs": [
        {
          "output_type": "execute_result",
          "data": {
            "text/plain": [
              "(8573, 22)"
            ]
          },
          "metadata": {},
          "execution_count": 33
        }
      ]
    },
    {
      "cell_type": "code",
      "source": [
        "df.columns"
      ],
      "metadata": {
        "colab": {
          "base_uri": "https://localhost:8080/"
        },
        "id": "02u7VJl4p1eX",
        "outputId": "f83e7180-965d-4f27-b51f-24756af5ec61"
      },
      "execution_count": 34,
      "outputs": [
        {
          "output_type": "execute_result",
          "data": {
            "text/plain": [
              "Index(['Authors', 'Author(s) ID', 'Title', 'Year', 'Source title', 'Cited by',\n",
              "       'DOI', 'Link', 'Affiliations', 'Authors with affiliations', 'Abstract',\n",
              "       'Author Keywords', 'Index Keywords', 'Funding Details',\n",
              "       'Correspondence Address', 'Publisher', 'ISSN', 'ISBN', 'CODEN',\n",
              "       'Document Type', 'Source', 'EID'],\n",
              "      dtype='object')"
            ]
          },
          "metadata": {},
          "execution_count": 34
        }
      ]
    },
    {
      "cell_type": "code",
      "source": [
        "df_authors = df['Authors']"
      ],
      "metadata": {
        "id": "oSiH47sP8BCk"
      },
      "execution_count": 44,
      "outputs": []
    },
    {
      "cell_type": "code",
      "source": [
        "df_eid = df['EID']"
      ],
      "metadata": {
        "id": "hwsXO1OV9IoK"
      },
      "execution_count": 45,
      "outputs": []
    },
    {
      "cell_type": "code",
      "source": [
        "edges = []\n",
        "for i in df[:100].iterrows():\n",
        "  targets = i[1]['Authors'].split(',')\n",
        "  edges_i = [(i[1]['EID'], j) for j in targets]\n",
        "  edges.extend(edges_i)"
      ],
      "metadata": {
        "id": "34mb-vqLq8mN"
      },
      "execution_count": 36,
      "outputs": []
    },
    {
      "cell_type": "code",
      "source": [],
      "metadata": {
        "id": "4k1gTX-x_ITL"
      },
      "execution_count": 36,
      "outputs": []
    },
    {
      "cell_type": "code",
      "source": [
        "edges"
      ],
      "metadata": {
        "colab": {
          "base_uri": "https://localhost:8080/"
        },
        "id": "1K1FVkBP9bc2",
        "outputId": "d837ee84-6e1f-401d-d1e7-22edf25c4df9"
      },
      "execution_count": 37,
      "outputs": [
        {
          "output_type": "execute_result",
          "data": {
            "text/plain": [
              "[('2-s2.0-85046049829', 'Crush J.'),\n",
              " ('2-s2.0-85046049829', ' Frayne B.'),\n",
              " ('2-s2.0-85046049829', ' McCordic C.'),\n",
              " ('2-s2.0-85039850983', 'Tsang Y.P.'),\n",
              " ('2-s2.0-85039850983', ' Choy K.L.'),\n",
              " ('2-s2.0-85039850983', ' Wu C.H.'),\n",
              " ('2-s2.0-85039850983', ' Ho G.T.S.'),\n",
              " ('2-s2.0-85039850983', ' Lam H.Y.'),\n",
              " ('2-s2.0-85039850983', ' Koo P.S.'),\n",
              " ('2-s2.0-85050200429', '[No author name available]'),\n",
              " ('2-s2.0-85039788219', 'Secomandi N.'),\n",
              " ('2-s2.0-85041059781', 'Korhonen K.'),\n",
              " ('2-s2.0-85041059781', ' Kotavaara O.'),\n",
              " ('2-s2.0-85041059781', ' Muilu T.'),\n",
              " ('2-s2.0-85041059781', ' Rusanen J.'),\n",
              " ('2-s2.0-85039755236', 'Ismail A.H.'),\n",
              " ('2-s2.0-85039755236', ' Mahardika R.Z.Z.'),\n",
              " ('2-s2.0-85046551332', 'Tueno A.'),\n",
              " ('2-s2.0-85046551332', ' Kerschbaum F.'),\n",
              " ('2-s2.0-85046551332', ' Bernau D.'),\n",
              " ('2-s2.0-85046551332', ' Foresti S.'),\n",
              " ('2-s2.0-85044218979', 'Zhai D.'),\n",
              " ('2-s2.0-85044218979', ' Chen H.'),\n",
              " ('2-s2.0-85044218979', ' Lin Z.'),\n",
              " ('2-s2.0-85044218979', ' Li Y.'),\n",
              " ('2-s2.0-85044218979', ' Vucetic B.'),\n",
              " ('2-s2.0-85048521032', 'Fonseca J.P.S.'),\n",
              " ('2-s2.0-85048521032', ' Silva C.E.A.'),\n",
              " ('2-s2.0-85048521032', ' Sousa A.R.'),\n",
              " ('2-s2.0-85048521032', ' Tavares J.J.P.Z.S.'),\n",
              " ('2-s2.0-85043979474', 'Chen C.'),\n",
              " ('2-s2.0-85043979474', ' Liu J.'),\n",
              " ('2-s2.0-85043979474', ' Li Q.'),\n",
              " ('2-s2.0-85043979474', ' Wang Y.'),\n",
              " ('2-s2.0-85043979474', ' Xiong H.'),\n",
              " ('2-s2.0-85043979474', ' Wu S.'),\n",
              " ('2-s2.0-85038436950', 'Zhu X.'),\n",
              " ('2-s2.0-85038436950', ' Wang J.'),\n",
              " ('2-s2.0-85038436950', ' Tang J.'),\n",
              " ('2-s2.0-85019885063', 'Miranda-Ackerman M.A.'),\n",
              " ('2-s2.0-85019885063', ' Azzaro-Pantel C.'),\n",
              " ('2-s2.0-85039074238', 'Yanhua F.'),\n",
              " ('2-s2.0-85039074238', ' Xuhui X.'),\n",
              " ('2-s2.0-85039074238', ' Zheng Y.'),\n",
              " ('2-s2.0-85046888239', 'Siddikov I.Kh.'),\n",
              " ('2-s2.0-85046888239', ' Sattarov Kh.A.'),\n",
              " ('2-s2.0-85046888239', ' Khujamatov Kh.E.'),\n",
              " ('2-s2.0-85045041281', 'Cao Y.'),\n",
              " ('2-s2.0-85045041281', ' Wei W.'),\n",
              " ('2-s2.0-85045041281', ' Qiao H.'),\n",
              " ('2-s2.0-85045041281', ' Bai Y.'),\n",
              " ('2-s2.0-85046629452', 'Ianculescu M.'),\n",
              " ('2-s2.0-85046629452', ' Alexandru A.'),\n",
              " ('2-s2.0-85046629452', ' Tudora E.'),\n",
              " ('2-s2.0-85046465817', 'Amar S.H.'),\n",
              " ('2-s2.0-85046465817', ' Abouabdellah A.'),\n",
              " ('2-s2.0-85046465817', ' El Ouzzani Y.'),\n",
              " ('2-s2.0-85060848223', 'Cooper R.'),\n",
              " ('2-s2.0-85060848223', ' Slagmulder R.'),\n",
              " ('2-s2.0-85019671035', 'Gao J.'),\n",
              " ('2-s2.0-85019671035', ' You F.'),\n",
              " ('2-s2.0-85115826107', 'Rodger J.A.'),\n",
              " ('2-s2.0-85051552872', 'Perera S.'),\n",
              " ('2-s2.0-85051552872', ' Bell M.G.H.'),\n",
              " ('2-s2.0-85051552872', ' Bliemer M.C.J.'),\n",
              " ('2-s2.0-85048016475', 'Vogel C.'),\n",
              " ('2-s2.0-85048016475', ' Musamba J.'),\n",
              " ('2-s2.0-85047055953', 'Debenham S.'),\n",
              " ('2-s2.0-85047055953', ' Fuller M.'),\n",
              " ('2-s2.0-85047055953', ' Stewart M.'),\n",
              " ('2-s2.0-85047055953', ' Price R.R.'),\n",
              " ('2-s2.0-85045097970', 'Geerts M.'),\n",
              " ('2-s2.0-85045097970', ' Langenus M.'),\n",
              " ('2-s2.0-85045097970', ' Dooms M.'),\n",
              " ('2-s2.0-85044425591', 'Samet A.'),\n",
              " ('2-s2.0-85044425591', ' Bouzembrak Y.'),\n",
              " ('2-s2.0-85044425591', ' Lefèvre E.'),\n",
              " ('2-s2.0-85042479746', 'Han X.'),\n",
              " ('2-s2.0-85042479746', ' Wang D.'),\n",
              " ('2-s2.0-85040828019', 'Häyhtiö M.'),\n",
              " ('2-s2.0-85040828019', ' Zaerens K.'),\n",
              " ('2-s2.0-85040670704', 'Rajyalakshmi K.'),\n",
              " ('2-s2.0-85040670704', ' Kumar D.P.'),\n",
              " ('2-s2.0-85040670704', ' Asadi S.S.'),\n",
              " ('2-s2.0-85040588250', 'Zhao Y.'),\n",
              " ('2-s2.0-85040588250', ' Almutairi A.'),\n",
              " ('2-s2.0-85040588250', ' Yoon Y.'),\n",
              " ('2-s2.0-85040526353', 'Siadati S.'),\n",
              " ('2-s2.0-85040526353', ' Tarokh M.J.'),\n",
              " ('2-s2.0-85040526353', ' Noorossana R.'),\n",
              " ('2-s2.0-85039946634', 'Poh K.L.'),\n",
              " ('2-s2.0-85039946634', ' Liang Y.'),\n",
              " ('2-s2.0-85039772057', 'Taherkhani M.'),\n",
              " ('2-s2.0-85039772057', ' Tavakkoli-Moghaddam R.'),\n",
              " ('2-s2.0-85039772057', ' Seifbarghy M.'),\n",
              " ('2-s2.0-85039772057', ' Fattahi P.'),\n",
              " ('2-s2.0-85038116960', 'Hamidieh A.'),\n",
              " ('2-s2.0-85038116960', ' Fazli-Khalaf M.'),\n",
              " ('2-s2.0-85038104730', 'Kenny S.'),\n",
              " ('2-s2.0-85038094884', 'Ballouki I.'),\n",
              " ('2-s2.0-85038094884', ' Douimi M.'),\n",
              " ('2-s2.0-85038094884', ' Ouzizi L.'),\n",
              " ('2-s2.0-85038084200', 'Halat K.'),\n",
              " ('2-s2.0-85038084200', ' Hafezalkotob A.'),\n",
              " ('2-s2.0-85037734899', 'Gjeldum N.'),\n",
              " ('2-s2.0-85037734899', ' Crnjac M.'),\n",
              " ('2-s2.0-85037734899', ' Bilic B.'),\n",
              " ('2-s2.0-85037049244', 'La Sala P.'),\n",
              " ('2-s2.0-85037049244', ' Silvestri R.'),\n",
              " ('2-s2.0-85037049244', ' Contò F.'),\n",
              " ('2-s2.0-85035780789', 'Crasnic L.'),\n",
              " ('2-s2.0-85035780789', ' Kalyanpur N.'),\n",
              " ('2-s2.0-85035780789', ' Newman A.'),\n",
              " ('2-s2.0-85033723928', 'Zhang H.'),\n",
              " ('2-s2.0-85033723928', ' Li Z.'),\n",
              " ('2-s2.0-85033578030', 'Calatayud A.'),\n",
              " ('2-s2.0-85033578030', ' Mangan J.'),\n",
              " ('2-s2.0-85033578030', ' Palacin R.'),\n",
              " ('2-s2.0-85033490192', 'Tran N.K.'),\n",
              " ('2-s2.0-85033490192', ' Haasis H.-D.'),\n",
              " ('2-s2.0-85033490192', ' Buer T.'),\n",
              " ('2-s2.0-85033456069', 'Chatzikontidou A.'),\n",
              " ('2-s2.0-85033456069', ' Longinidis P.'),\n",
              " ('2-s2.0-85033456069', ' Tsiakis P.'),\n",
              " ('2-s2.0-85033456069', ' Georgiadis M.C.'),\n",
              " ('2-s2.0-85033455621', 'Zondag M.M.'),\n",
              " ('2-s2.0-85033455621', ' Mueller E.F.'),\n",
              " ('2-s2.0-85033455621', ' Ferrin B.G.'),\n",
              " ('2-s2.0-85032821070', 'Mohammadi A.'),\n",
              " ('2-s2.0-85032821070', ' Abbasi A.'),\n",
              " ('2-s2.0-85032821070', ' Alimohammadlou M.'),\n",
              " ('2-s2.0-85032821070', ' Eghtesadifard M.'),\n",
              " ('2-s2.0-85032821070', ' Khalifeh M.'),\n",
              " ('2-s2.0-85032790854', 'Das R.'),\n",
              " ('2-s2.0-85032790854', ' Shaw K.'),\n",
              " ('2-s2.0-85031943069', 'Tzounis A.'),\n",
              " ('2-s2.0-85031943069', ' Katsoulas N.'),\n",
              " ('2-s2.0-85031943069', ' Bartzanas T.'),\n",
              " ('2-s2.0-85031943069', ' Kittas C.'),\n",
              " ('2-s2.0-85031427059', 'Rifki O.'),\n",
              " ('2-s2.0-85031427059', ' Ono H.'),\n",
              " ('2-s2.0-85031427059', ' Kagawa S.'),\n",
              " ('2-s2.0-85031128361', 'Moslemi S.'),\n",
              " ('2-s2.0-85031128361', ' Mirzazadeh A.'),\n",
              " ('2-s2.0-85030847046', 'Hall A.'),\n",
              " ('2-s2.0-85030847046', ' Koenraadt R.'),\n",
              " ('2-s2.0-85030847046', ' Antonopoulos G.A.'),\n",
              " ('2-s2.0-85030690398', 'Abdulrazik A.'),\n",
              " ('2-s2.0-85030690398', ' Elsholkami M.'),\n",
              " ('2-s2.0-85030690398', ' Elkamel A.'),\n",
              " ('2-s2.0-85030690398', ' Simon L.'),\n",
              " ('2-s2.0-85030661718', 'Gokarn S.'),\n",
              " ('2-s2.0-85030661718', ' Kuthambalayan T.S.'),\n",
              " ('2-s2.0-85030557767', 'Cilacı Tombuş A.'),\n",
              " ('2-s2.0-85030557767', ' Aras N.'),\n",
              " ('2-s2.0-85030557767', ' Verter V.'),\n",
              " ('2-s2.0-85029955805', 'Carillo F.'),\n",
              " ('2-s2.0-85029955805', ' Caracciolo F.'),\n",
              " ('2-s2.0-85029955805', ' Cembalo L.'),\n",
              " ('2-s2.0-85029744795', 'Garcia C.A.'),\n",
              " ('2-s2.0-85029744795', ' Hora G.'),\n",
              " ('2-s2.0-85029353406', 'Chen G.S.'),\n",
              " ('2-s2.0-85029353406', ' Siao S.W.'),\n",
              " ('2-s2.0-85029353406', ' Shen C.R.'),\n",
              " ('2-s2.0-85028825152', 'Wellesley L.'),\n",
              " ('2-s2.0-85028825152', ' Preston F.'),\n",
              " ('2-s2.0-85028825152', ' Lehne J.'),\n",
              " ('2-s2.0-85028825152', ' Bailey R.'),\n",
              " ('2-s2.0-85028729578', 'Chen X.'),\n",
              " ('2-s2.0-85028729578', ' Xi Z.'),\n",
              " ('2-s2.0-85028729578', ' Jing P.'),\n",
              " ('2-s2.0-85028707593', 'Arashpour M.'),\n",
              " ('2-s2.0-85028707593', ' Bai Y.'),\n",
              " ('2-s2.0-85028707593', ' Aranda-mena G.'),\n",
              " ('2-s2.0-85028707593', ' Bab-Hadiashar A.'),\n",
              " ('2-s2.0-85028707593', ' Hosseini R.'),\n",
              " ('2-s2.0-85028707593', ' Kalutara P.'),\n",
              " ('2-s2.0-85028699431', 'Han J.'),\n",
              " ('2-s2.0-85028699431', ' Lu J.'),\n",
              " ('2-s2.0-85028699431', ' Zhang G.'),\n",
              " ('2-s2.0-85026477444', 'Ghasemi P.'),\n",
              " ('2-s2.0-85026477444', ' Khalili-Damghani K.'),\n",
              " ('2-s2.0-85026477444', ' Hafezolkotob A.'),\n",
              " ('2-s2.0-85026477444', ' Raissi S.'),\n",
              " ('2-s2.0-85023633942', 'Roy H.'),\n",
              " ('2-s2.0-85023633942', ' Hall C.M.'),\n",
              " ('2-s2.0-85023633942', ' W. Ballantine P.'),\n",
              " ('2-s2.0-85019365235', 'Shafiee M.'),\n",
              " ('2-s2.0-85017505601', 'Chiadamrong N.'),\n",
              " ('2-s2.0-85017505601', ' Piyathanavong V.'),\n",
              " ('2-s2.0-85015434386', 'Besik D.'),\n",
              " ('2-s2.0-85015434386', ' Nagurney A.'),\n",
              " ('2-s2.0-85007452587', 'Andersen K.'),\n",
              " ('2-s2.0-85007452587', ' Andersson H.'),\n",
              " ('2-s2.0-85007452587', ' Christiansen M.'),\n",
              " ('2-s2.0-85007452587', ' Grønhaug R.'),\n",
              " ('2-s2.0-85007452587', ' Sjamsutdinov A.'),\n",
              " ('2-s2.0-84997765938', 'Antoine S.'),\n",
              " ('2-s2.0-84997765938', ' Sillig C.'),\n",
              " ('2-s2.0-84997765938', ' Ghiara H.'),\n",
              " ('2-s2.0-85038409204', 'Jang H.'),\n",
              " ('2-s2.0-85038409204', ' Lee J.'),\n",
              " ('2-s2.0-85043478081', 'Sasaki H.'),\n",
              " ('2-s2.0-85043478081', ' Sakata I.'),\n",
              " ('2-s2.0-85043466430', 'Yang K.-H.'),\n",
              " ('2-s2.0-85043466430', ' Yuan C.-H.'),\n",
              " ('2-s2.0-85043466430', ' Guo J.-J.'),\n",
              " ('2-s2.0-85038873819', 'Shevchuk G.K.'),\n",
              " ('2-s2.0-85038873819', ' Berg D.B.'),\n",
              " ('2-s2.0-85038873819', ' Zvereva O.M.'),\n",
              " ('2-s2.0-85038873819', ' Medvedeva M.A.'),\n",
              " ('2-s2.0-85038435136', '[No author name available]'),\n",
              " ('2-s2.0-84892558934', 'Penny G.'),\n",
              " ('2-s2.0-85044121921', 'Zuo Y.'),\n",
              " ('2-s2.0-85044121921', ' Kajikawa Y.'),\n",
              " ('2-s2.0-85043500769', 'Postoronca S.'),\n",
              " ('2-s2.0-85043500769', ' Tirsu M.'),\n",
              " ('2-s2.0-85041422641', '[No author name available]'),\n",
              " ('2-s2.0-85041411251', 'Molka-Danielsen J.'),\n",
              " ('2-s2.0-85041411251', ' Engelseth P.'),\n",
              " ('2-s2.0-85041411251', ' Olesnanikova V.'),\n",
              " ('2-s2.0-85041411251', ' Sarafin P.'),\n",
              " ('2-s2.0-85041411251', ' Zalman R.'),\n",
              " ('2-s2.0-85041406621', 'Jinqi P.'),\n",
              " ('2-s2.0-85041406621', ' Lei R.'),\n",
              " ('2-s2.0-85028522174', 'Miao S.'),\n",
              " ('2-s2.0-85028522174', ' Chen D.'),\n",
              " ('2-s2.0-85028522174', ' Wang T.'),\n",
              " ('2-s2.0-85029715019', 'Costa Y.'),\n",
              " ('2-s2.0-85029715019', ' Duarte A.'),\n",
              " ('2-s2.0-85029715019', ' Sarache W.'),\n",
              " ('2-s2.0-85029678312', 'Borgstedt P.'),\n",
              " ('2-s2.0-85029678312', ' Neyer B.'),\n",
              " ('2-s2.0-85029678312', ' Schewe G.'),\n",
              " ('2-s2.0-85026775054', 'Baydar A.M.'),\n",
              " ('2-s2.0-85026775054', ' Süral H.'),\n",
              " ('2-s2.0-85026775054', ' Çelik M.'),\n",
              " ('2-s2.0-85017407862', 'Santibanez-Gonzalez E.D.R.'),\n",
              " ('2-s2.0-85035813861', 'Fang Z.'),\n",
              " ('2-s2.0-85035813861', ' Qiu Q.'),\n",
              " ('2-s2.0-85035813861', ' Ding Y.'),\n",
              " ('2-s2.0-85035813861', ' Ding L.'),\n",
              " ('2-s2.0-85031128610', 'Oury C.'),\n",
              " ('2-s2.0-85029713041', 'Fazli-Khalaf M.'),\n",
              " ('2-s2.0-85029713041', ' Mirzazadeh A.'),\n",
              " ('2-s2.0-85029713041', ' Pishvaee M.S.'),\n",
              " ('2-s2.0-85020189152', 'Govindan K.'),\n",
              " ('2-s2.0-85020189152', ' Fattahi M.'),\n",
              " ('2-s2.0-85020189152', ' Keyvanshokooh E.'),\n",
              " ('2-s2.0-85040560762', 'Nakamura K.'),\n",
              " ('2-s2.0-85040560762', ' Ijuin H.'),\n",
              " ('2-s2.0-85040560762', ' Yamada T.'),\n",
              " ('2-s2.0-85040560762', ' Ishigaki A.'),\n",
              " ('2-s2.0-85040560762', ' Inoue M.'),\n",
              " ('2-s2.0-85040560464', 'Ijuin H.'),\n",
              " ('2-s2.0-85040560464', ' Kinoshita Y.'),\n",
              " ('2-s2.0-85040560464', ' Yamada T.'),\n",
              " ('2-s2.0-85040560464', ' Ishigaki A.'),\n",
              " ('2-s2.0-85040560464', ' Inoue M.'),\n",
              " ('2-s2.0-85040250171', 'Huang C.-W.P.'),\n",
              " ('2-s2.0-85040250171', ' Christainsen K.'),\n",
              " ('2-s2.0-85040250171', ' Lam L.'),\n",
              " ('2-s2.0-85040250171', ' Chen A.'),\n",
              " ('2-s2.0-85040250171', ' Doherty M.'),\n",
              " ('2-s2.0-85040250171', ' McPartlin M.'),\n",
              " ('2-s2.0-85040250171', ' Vaillancourt B.'),\n",
              " ('2-s2.0-85029767785', 'Wang Z.'),\n",
              " ('2-s2.0-85029767785', ' Wei L.'),\n",
              " ('2-s2.0-85029767785', ' Niu B.'),\n",
              " ('2-s2.0-85029767785', ' Liu Y.'),\n",
              " ('2-s2.0-85029767785', ' Bin G.'),\n",
              " ('2-s2.0-85018603307', 'Forte A.'),\n",
              " ('2-s2.0-85018603307', ' Zucaro A.'),\n",
              " ('2-s2.0-85018603307', ' Fagnano M.'),\n",
              " ('2-s2.0-85018603307', ' Fierro A.'),\n",
              " ('2-s2.0-85040536218', 'Falkenberg R.'),\n",
              " ('2-s2.0-85040536218', ' Sliwa B.'),\n",
              " ('2-s2.0-85040536218', ' Wietfeld C.'),\n",
              " ('2-s2.0-85033584653', 'Tukamuhabwa B.'),\n",
              " ('2-s2.0-85033584653', ' Stevenson M.'),\n",
              " ('2-s2.0-85033584653', ' Busby J.'),\n",
              " ('2-s2.0-85044314877', 'Wei L.'),\n",
              " ('2-s2.0-85044314877', ' Xin L.'),\n",
              " ('2-s2.0-85041196399', 'Qureshi K.A.'),\n",
              " ('2-s2.0-85041196399', ' Mohammed W.M.'),\n",
              " ('2-s2.0-85041196399', ' Ferrer B.R.'),\n",
              " ('2-s2.0-85041196399', ' Lastra J.L.M.'),\n",
              " ('2-s2.0-85041196399', ' Agostinho C.'),\n",
              " ('2-s2.0-85029179772', 'van der Heijden A.'),\n",
              " ('2-s2.0-85029179772', ' Cramer J.M.'),\n",
              " ('2-s2.0-85029158486', 'Yousefi S.'),\n",
              " ('2-s2.0-85029158486', ' Soltani R.'),\n",
              " ('2-s2.0-85029158486', ' Farzipoor Saen R.'),\n",
              " ('2-s2.0-85029158486', ' Pishvaee M.S.'),\n",
              " ('2-s2.0-85029157546', 'Safaei A.S.'),\n",
              " ('2-s2.0-85029157546', ' Roozbeh A.'),\n",
              " ('2-s2.0-85029157546', ' Paydar M.M.'),\n",
              " ('2-s2.0-85045538640', 'Jerbia R.'),\n",
              " ('2-s2.0-85045538640', ' Sehli M.A.'),\n",
              " ('2-s2.0-85045538640', ' Jemai Z.'),\n",
              " ('2-s2.0-85045538640', ' Kchaou Boujelben M.')]"
            ]
          },
          "metadata": {},
          "execution_count": 37
        }
      ]
    },
    {
      "cell_type": "code",
      "source": [
        "targets"
      ],
      "metadata": {
        "colab": {
          "base_uri": "https://localhost:8080/"
        },
        "id": "QbAoewnd2JSE",
        "outputId": "90f3f8ce-76c2-4c78-f06a-72b655d9a57e"
      },
      "execution_count": 38,
      "outputs": [
        {
          "output_type": "execute_result",
          "data": {
            "text/plain": [
              "['Jerbia R.', ' Sehli M.A.', ' Jemai Z.', ' Kchaou Boujelben M.']"
            ]
          },
          "metadata": {},
          "execution_count": 38
        }
      ]
    },
    {
      "cell_type": "code",
      "source": [
        "import networkx as nx"
      ],
      "metadata": {
        "id": "hJCIFCVbuFUF"
      },
      "execution_count": 67,
      "outputs": []
    },
    {
      "cell_type": "code",
      "source": [
        "from networkx.algorithms import bipartite"
      ],
      "metadata": {
        "id": "Wt3Yl1W35u2N"
      },
      "execution_count": 68,
      "outputs": []
    },
    {
      "cell_type": "code",
      "source": [
        "B = nx.Graph()\n",
        "# Add nodes with the node attribute \"bipartite\"\n",
        "B.add_nodes_from([\"df_authors\"], bipartite=0)\n",
        "B.add_nodes_from([\"df_eid\"], bipartite=1)\n",
        "# Add edges only between nodes of opposite node sets\n",
        "B.add_edges_from([(\"df_authors\", \"df_eid\")])"
      ],
      "metadata": {
        "id": "LBVdh_5rICrn"
      },
      "execution_count": 69,
      "outputs": []
    },
    {
      "cell_type": "code",
      "source": [
        "nx.is_connected(B)\n",
        "True\n",
        "bottom_nodes, top_nodes = bipartite.sets(B)"
      ],
      "metadata": {
        "id": "67zJoF4lIq3Z"
      },
      "execution_count": 79,
      "outputs": []
    },
    {
      "cell_type": "code",
      "source": [
        "top_nodes = {n for n, d in B.nodes(data=True) if d[\"bipartite\"] == 0}\n",
        "bottom_nodes = set(B) - top_nodes"
      ],
      "metadata": {
        "id": "C0otsehiI7cr"
      },
      "execution_count": 80,
      "outputs": []
    },
    {
      "cell_type": "code",
      "source": [
        "print(round(bipartite.density(B, bottom_nodes), 2))"
      ],
      "metadata": {
        "colab": {
          "base_uri": "https://localhost:8080/"
        },
        "id": "1P2w6aLBJPOA",
        "outputId": "8bb05f68-2bb9-46dc-db15-28ada111098b"
      },
      "execution_count": 81,
      "outputs": [
        {
          "output_type": "stream",
          "name": "stdout",
          "text": [
            "1.0\n"
          ]
        }
      ]
    },
    {
      "cell_type": "code",
      "source": [
        "G = bipartite.projected_graph(B, top_nodes)"
      ],
      "metadata": {
        "id": "yVPkJ2-uJTus"
      },
      "execution_count": 82,
      "outputs": []
    },
    {
      "cell_type": "code",
      "source": [
        "RB = bipartite.random_graph(5, 7, 0.2)\n",
        "RB_top = {n for n, d in RB.nodes(data=True) if d[\"bipartite\"] == 0}\n",
        "RB_bottom = set(RB) - RB_top"
      ],
      "metadata": {
        "id": "tT2h45CLJXHc"
      },
      "execution_count": 89,
      "outputs": []
    },
    {
      "cell_type": "code",
      "source": [
        "list(RB_top)"
      ],
      "metadata": {
        "colab": {
          "base_uri": "https://localhost:8080/"
        },
        "id": "vxGM3KnkJn2O",
        "outputId": "e71ecd9a-fcea-41d9-c64c-da13c770faf8"
      },
      "execution_count": 90,
      "outputs": [
        {
          "output_type": "execute_result",
          "data": {
            "text/plain": [
              "[0, 1, 2, 3, 4]"
            ]
          },
          "metadata": {},
          "execution_count": 90
        }
      ]
    },
    {
      "cell_type": "code",
      "source": [
        "list(RB_bottom)"
      ],
      "metadata": {
        "colab": {
          "base_uri": "https://localhost:8080/"
        },
        "id": "pEyndVlVJpKx",
        "outputId": "91d7b4ef-b6a2-45f2-8ac9-8095d047038c"
      },
      "execution_count": 91,
      "outputs": [
        {
          "output_type": "execute_result",
          "data": {
            "text/plain": [
              "[5, 6, 7, 8, 9, 10, 11]"
            ]
          },
          "metadata": {},
          "execution_count": 91
        }
      ]
    },
    {
      "cell_type": "code",
      "source": [
        "collaboration_weighted_projected_graph(B, nodes)"
      ],
      "metadata": {
        "colab": {
          "base_uri": "https://localhost:8080/",
          "height": 165
        },
        "id": "ZvsVZQ8FJwAC",
        "outputId": "929907b6-83a1-4cd3-a4c7-fd7e22caaf87"
      },
      "execution_count": 92,
      "outputs": [
        {
          "output_type": "error",
          "ename": "NameError",
          "evalue": "ignored",
          "traceback": [
            "\u001b[0;31m---------------------------------------------------------------------------\u001b[0m",
            "\u001b[0;31mNameError\u001b[0m                                 Traceback (most recent call last)",
            "\u001b[0;32m<ipython-input-92-ada8b0f46095>\u001b[0m in \u001b[0;36m<module>\u001b[0;34m\u001b[0m\n\u001b[0;32m----> 1\u001b[0;31m \u001b[0mcollaboration_weighted_projected_graph\u001b[0m\u001b[0;34m(\u001b[0m\u001b[0mB\u001b[0m\u001b[0;34m,\u001b[0m \u001b[0mnodes\u001b[0m\u001b[0;34m)\u001b[0m\u001b[0;34m\u001b[0m\u001b[0;34m\u001b[0m\u001b[0m\n\u001b[0m",
            "\u001b[0;31mNameError\u001b[0m: name 'collaboration_weighted_projected_graph' is not defined"
          ]
        }
      ]
    },
    {
      "cell_type": "code",
      "source": [],
      "metadata": {
        "id": "T5A_4P7yK04u"
      },
      "execution_count": null,
      "outputs": []
    }
  ]
}